{
  "nbformat": 4,
  "nbformat_minor": 0,
  "metadata": {
    "colab": {
      "name": "ANN_classification.ipynb",
      "provenance": [],
      "authorship_tag": "ABX9TyNnIMUwMd0PkUPOPhVSwDct",
      "include_colab_link": true
    },
    "kernelspec": {
      "name": "python3",
      "display_name": "Python 3"
    },
    "language_info": {
      "name": "python"
    },
    "accelerator": "GPU",
    "gpuClass": "standard"
  },
  "cells": [
    {
      "cell_type": "markdown",
      "metadata": {
        "id": "view-in-github",
        "colab_type": "text"
      },
      "source": [
        "<a href=\"https://colab.research.google.com/github/Shah12345678901/Classification-EMDS-/blob/main/ANN_classification.ipynb\" target=\"_parent\"><img src=\"https://colab.research.google.com/assets/colab-badge.svg\" alt=\"Open In Colab\"/></a>"
      ]
    },
    {
      "cell_type": "markdown",
      "source": [
        "**Importing Libraries**"
      ],
      "metadata": {
        "id": "tQcB-18HxMtd"
      }
    },
    {
      "cell_type": "code",
      "execution_count": 1,
      "metadata": {
        "id": "nbcbu3yPD9k5"
      },
      "outputs": [],
      "source": [
        "import tensorflow as tf\n",
        "import os\n",
        "import matplotlib.pyplot as plt \n",
        "import pandas as pd\n",
        "import numpy as np\n",
        "from keras.models import Sequential\n",
        "from keras.layers import  MaxPooling2D\n",
        "from keras.layers import Convolution1D as Conv2D\n",
        "from keras.layers import Dense\n",
        "from keras.layers import Flatten"
      ]
    },
    {
      "cell_type": "markdown",
      "source": [
        "**Data loading and data prepration**"
      ],
      "metadata": {
        "id": "bbcG_9JHxSzk"
      }
    },
    {
      "cell_type": "code",
      "source": [
        "img_size=(180,180)\n",
        "batch_size=32"
      ],
      "metadata": {
        "id": "GztN_-VawcO7"
      },
      "execution_count": 3,
      "outputs": []
    },
    {
      "cell_type": "code",
      "source": [
        "train_dir='/content/drive/MyDrive/Colab Notebooks/EMDS5-Original/Train'\n",
        "val_dir='/content/drive/MyDrive/Colab Notebooks/EMDS5-Original/Val'"
      ],
      "metadata": {
        "id": "uhgnmtxhwqNJ"
      },
      "execution_count": 4,
      "outputs": []
    },
    {
      "cell_type": "code",
      "source": [
        "train_dataset=tf.keras.preprocessing.image_dataset_from_directory(\n",
        "    train_dir,\n",
        "    image_size=img_size,\n",
        "    batch_size=batch_size\n",
        ")\n",
        "\n",
        "\n",
        "validation_dataset=tf.keras.preprocessing.image_dataset_from_directory(\n",
        "    val_dir,\n",
        "    image_size=img_size,\n",
        "    batch_size=batch_size\n",
        ")"
      ],
      "metadata": {
        "colab": {
          "base_uri": "https://localhost:8080/"
        },
        "id": "Z-MReQdOwr1e",
        "outputId": "ed3e48fd-72d0-4318-9aae-0055417b367b"
      },
      "execution_count": 5,
      "outputs": [
        {
          "output_type": "stream",
          "name": "stdout",
          "text": [
            "Found 672 files belonging to 21 classes.\n",
            "Found 168 files belonging to 21 classes.\n"
          ]
        }
      ]
    },
    {
      "cell_type": "code",
      "source": [
        "for images,labels in train_dataset.take(2):\n",
        "  print(images.shape,labels)"
      ],
      "metadata": {
        "colab": {
          "base_uri": "https://localhost:8080/"
        },
        "id": "jrhDLub2wuxq",
        "outputId": "57861315-603e-42b0-9403-a6ef2a647fa7"
      },
      "execution_count": 6,
      "outputs": [
        {
          "output_type": "stream",
          "name": "stdout",
          "text": [
            "(32, 180, 180, 3) tf.Tensor(\n",
            "[ 2  5  0 15  4  2 19  9  1  8  4 14  2 13 16 16 10 20  5  6  5 13  7  4\n",
            "  7 20  1  3  7 15 18 18], shape=(32,), dtype=int32)\n",
            "(32, 180, 180, 3) tf.Tensor(\n",
            "[ 1 19 10 10 14 10 16 12 17 18  3 20 14 20 13  4 13  7 10  1 12 15  4  4\n",
            " 11  5  5  7 20  9 19  9], shape=(32,), dtype=int32)\n"
          ]
        }
      ]
    },
    {
      "cell_type": "code",
      "source": [
        "train_ds=train_dataset.prefetch(buffer_size=32)\n",
        "val_ds=validation_dataset.prefetch(buffer_size=32)"
      ],
      "metadata": {
        "id": "b2rrXfl8wzWy"
      },
      "execution_count": 7,
      "outputs": []
    },
    {
      "cell_type": "code",
      "source": [
        "classifier=Sequential()"
      ],
      "metadata": {
        "id": "wXL0OkbLw2fR"
      },
      "execution_count": 11,
      "outputs": []
    },
    {
      "cell_type": "markdown",
      "source": [
        "**Layers in Classifier**"
      ],
      "metadata": {
        "id": "pTbRwl1_xf6M"
      }
    },
    {
      "cell_type": "code",
      "source": [
        "from keras.layers.pooling import MaxPool2D\n",
        "LAYERS=[\n",
        "        tf.keras.layers.Conv2D(32,(3,3),input_shape=(180,180,3),activation='relu'),\n",
        "        tf.keras.layers.MaxPool2D(pool_size=(2,2)),\n",
        "        tf.keras.layers.Conv2D(32,(3,3),activation=\"relu\"),\n",
        "        tf.keras.layers.MaxPool2D(pool_size=(2,2)),\n",
        "        tf.keras.layers.Flatten(),\n",
        "        tf.keras.layers.Dense(8,activation='relu'),\n",
        "        tf.keras.layers.Dense(21,activation='softmax') \n",
        "]\n",
        "\n",
        "classifier=tf.keras.Sequential(LAYERS)"
      ],
      "metadata": {
        "id": "BGGeZQqBw-hT"
      },
      "execution_count": 12,
      "outputs": []
    },
    {
      "cell_type": "code",
      "source": [
        "classifier.summary()"
      ],
      "metadata": {
        "colab": {
          "base_uri": "https://localhost:8080/"
        },
        "id": "hx_we75xw_Vc",
        "outputId": "1803ec7f-8316-45c5-ae22-73fab37a1185"
      },
      "execution_count": 13,
      "outputs": [
        {
          "output_type": "stream",
          "name": "stdout",
          "text": [
            "Model: \"sequential_3\"\n",
            "_________________________________________________________________\n",
            " Layer (type)                Output Shape              Param #   \n",
            "=================================================================\n",
            " conv2d_2 (Conv2D)           (None, 178, 178, 32)      896       \n",
            "                                                                 \n",
            " max_pooling2d_2 (MaxPooling  (None, 89, 89, 32)       0         \n",
            " 2D)                                                             \n",
            "                                                                 \n",
            " conv2d_3 (Conv2D)           (None, 87, 87, 32)        9248      \n",
            "                                                                 \n",
            " max_pooling2d_3 (MaxPooling  (None, 43, 43, 32)       0         \n",
            " 2D)                                                             \n",
            "                                                                 \n",
            " flatten_1 (Flatten)         (None, 59168)             0         \n",
            "                                                                 \n",
            " dense_2 (Dense)             (None, 8)                 473352    \n",
            "                                                                 \n",
            " dense_3 (Dense)             (None, 21)                189       \n",
            "                                                                 \n",
            "=================================================================\n",
            "Total params: 483,685\n",
            "Trainable params: 483,685\n",
            "Non-trainable params: 0\n",
            "_________________________________________________________________\n"
          ]
        }
      ]
    },
    {
      "cell_type": "code",
      "source": [
        "classifier.compile(\n",
        "    optimizer=tf.keras.optimizers.Adam(0.001),\n",
        "    loss='sparse_categorical_crossentropy',\n",
        "    metrics=['accuracy']\n",
        ")"
      ],
      "metadata": {
        "id": "lvgt9FzKxFP3"
      },
      "execution_count": 14,
      "outputs": []
    },
    {
      "cell_type": "code",
      "source": [
        "epoch=10\n",
        "classifier.fit(train_dataset,epochs=epoch,validation_data=validation_dataset)"
      ],
      "metadata": {
        "colab": {
          "base_uri": "https://localhost:8080/"
        },
        "id": "tK0s7vEPxIUp",
        "outputId": "6a1756d7-72a4-4999-acf1-99c01e0b363a"
      },
      "execution_count": 16,
      "outputs": [
        {
          "output_type": "stream",
          "name": "stdout",
          "text": [
            "Epoch 1/10\n",
            "21/21 [==============================] - 6s 223ms/step - loss: 3.0447 - accuracy: 0.0253 - val_loss: 3.0445 - val_accuracy: 0.0476\n",
            "Epoch 2/10\n",
            "21/21 [==============================] - 6s 223ms/step - loss: 3.0447 - accuracy: 0.0283 - val_loss: 3.0445 - val_accuracy: 0.0476\n",
            "Epoch 3/10\n",
            "21/21 [==============================] - 6s 220ms/step - loss: 3.0447 - accuracy: 0.0283 - val_loss: 3.0445 - val_accuracy: 0.0476\n",
            "Epoch 4/10\n",
            "21/21 [==============================] - 6s 220ms/step - loss: 3.0447 - accuracy: 0.0342 - val_loss: 3.0445 - val_accuracy: 0.0476\n",
            "Epoch 5/10\n",
            "21/21 [==============================] - 6s 221ms/step - loss: 3.0447 - accuracy: 0.0372 - val_loss: 3.0445 - val_accuracy: 0.0476\n",
            "Epoch 6/10\n",
            "21/21 [==============================] - 6s 224ms/step - loss: 3.0447 - accuracy: 0.0372 - val_loss: 3.0445 - val_accuracy: 0.0476\n",
            "Epoch 7/10\n",
            "21/21 [==============================] - 6s 221ms/step - loss: 3.0447 - accuracy: 0.0476 - val_loss: 3.0445 - val_accuracy: 0.0476\n",
            "Epoch 8/10\n",
            "21/21 [==============================] - 6s 220ms/step - loss: 3.0447 - accuracy: 0.0372 - val_loss: 3.0445 - val_accuracy: 0.0476\n",
            "Epoch 9/10\n",
            "21/21 [==============================] - 6s 221ms/step - loss: 3.0447 - accuracy: 0.0417 - val_loss: 3.0445 - val_accuracy: 0.0476\n",
            "Epoch 10/10\n",
            "21/21 [==============================] - 6s 220ms/step - loss: 3.0447 - accuracy: 0.0283 - val_loss: 3.0445 - val_accuracy: 0.0476\n"
          ]
        },
        {
          "output_type": "execute_result",
          "data": {
            "text/plain": [
              "<keras.callbacks.History at 0x7fb89b6f3850>"
            ]
          },
          "metadata": {},
          "execution_count": 16
        }
      ]
    },
    {
      "cell_type": "code",
      "source": [
        ""
      ],
      "metadata": {
        "id": "8IrauUeKxmn6"
      },
      "execution_count": null,
      "outputs": []
    }
  ]
}