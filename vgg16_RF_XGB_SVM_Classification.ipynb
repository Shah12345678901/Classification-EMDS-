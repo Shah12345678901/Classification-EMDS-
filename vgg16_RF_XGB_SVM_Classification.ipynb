{
  "cells": [
    {
      "cell_type": "markdown",
      "metadata": {
        "id": "view-in-github",
        "colab_type": "text"
      },
      "source": [
        "<a href=\"https://colab.research.google.com/github/Shah12345678901/Classification-EMDS-/blob/main/vgg16_RF_XGB_SVM_Classification.ipynb\" target=\"_parent\"><img src=\"https://colab.research.google.com/assets/colab-badge.svg\" alt=\"Open In Colab\"/></a>"
      ]
    },
    {
      "cell_type": "markdown",
      "source": [
        "**Importing The Libraries**"
      ],
      "metadata": {
        "id": "VU1e5-pMsniE"
      }
    },
    {
      "cell_type": "code",
      "source": [
        "import matplotlib.pyplot as plt\n",
        "import numpy as np\n",
        "import os\n",
        "import tensorflow as tf"
      ],
      "metadata": {
        "id": "Gyib3CZfombc"
      },
      "execution_count": null,
      "outputs": []
    },
    {
      "cell_type": "code",
      "source": [
        "import numpy as np \n",
        "import matplotlib.pyplot as plt\n",
        "import glob\n",
        "import cv2\n",
        "\n",
        "from keras.models import Model, Sequential\n",
        "from keras.layers import Dense, Flatten, Conv2D, MaxPooling2D\n",
        "#from keras.layers.normalization import BatchNormalization\n",
        "import os\n",
        "import seaborn as sns\n",
        "from keras.applications.vgg16 import VGG16\n",
        "from sklearn.model_selection import GridSearchCV"
      ],
      "metadata": {
        "id": "H_zFMhN8pviE"
      },
      "execution_count": null,
      "outputs": []
    },
    {
      "cell_type": "markdown",
      "source": [
        "**Data loading**"
      ],
      "metadata": {
        "id": "Y6IYeBFosxXW"
      }
    },
    {
      "cell_type": "code",
      "execution_count": null,
      "metadata": {
        "colab": {
          "base_uri": "https://localhost:8080/"
        },
        "id": "4RGozYZV1i9S",
        "outputId": "21d9ab98-19d7-4cae-cd1a-b2bdacbe483f"
      },
      "outputs": [
        {
          "output_type": "stream",
          "name": "stdout",
          "text": [
            "Found 672 files belonging to 21 classes.\n"
          ]
        }
      ],
      "source": [
        "PATH='/content/drive/MyDrive/Colab Notebooks/EMDS5-Original'\n",
        "\n",
        "\n",
        "train_dir = os.path.join(PATH, 'Train')\n",
        "validation_dir = os.path.join(PATH, 'Val')\n",
        "\n",
        "\n",
        "\n",
        "BATCH_SIZE = 1\n",
        "SIZE=224\n",
        "IMG_SIZE = (SIZE,SIZE)\n",
        "\n",
        "train_dataset = tf.keras.utils.image_dataset_from_directory(train_dir,\n",
        "                                                            shuffle=True,\n",
        "                                                            batch_size=BATCH_SIZE,\n",
        "                                                            image_size=IMG_SIZE)"
      ]
    },
    {
      "cell_type": "code",
      "execution_count": null,
      "metadata": {
        "colab": {
          "base_uri": "https://localhost:8080/"
        },
        "id": "qDiQU52K1jAG",
        "outputId": "f32b07a7-21b3-4e9f-c095-c482f835fc4b"
      },
      "outputs": [
        {
          "output_type": "stream",
          "name": "stdout",
          "text": [
            "Found 168 files belonging to 21 classes.\n"
          ]
        }
      ],
      "source": [
        "validation_dataset = tf.keras.utils.image_dataset_from_directory(validation_dir,\n",
        "                                                                 shuffle=True,\n",
        "                                                                 batch_size=BATCH_SIZE,\n",
        "                                                                 image_size=IMG_SIZE)"
      ]
    },
    {
      "cell_type": "markdown",
      "source": [
        "**Data Prepration for Training and Testing**"
      ],
      "metadata": {
        "id": "6hQIBYCos6ES"
      }
    },
    {
      "cell_type": "code",
      "source": [
        "train_batch_img=[]\n",
        "train_batch_labels=[]\n",
        "for img,labels in train_dataset:\n",
        "  train_batch_img.append(img)\n",
        "  train_batch_labels.append(labels)\n"
      ],
      "metadata": {
        "id": "nw0o2KsZpnAh"
      },
      "execution_count": null,
      "outputs": []
    },
    {
      "cell_type": "code",
      "source": [
        "train_images=[]\n",
        "train_labels=[]\n",
        "for i in range(672):\n",
        "  train_images.append(train_batch_img[i][0])\n",
        "for j in range(672):\n",
        "  train_labels.append(train_batch_labels[j][0])  "
      ],
      "metadata": {
        "id": "23yc867HpnbM"
      },
      "execution_count": null,
      "outputs": []
    },
    {
      "cell_type": "code",
      "source": [
        "#Convert lists to arrays        \n",
        "train_images = np.array(train_images)\n",
        "train_labels = np.array(train_labels)\n"
      ],
      "metadata": {
        "id": "6C_HTZr1-FwC"
      },
      "execution_count": null,
      "outputs": []
    },
    {
      "cell_type": "code",
      "source": [
        "test_batch_img=[]\n",
        "test_batch_labels=[]\n",
        "for img,labels in validation_dataset:\n",
        "  test_batch_img.append(img)\n",
        "  test_batch_labels.append(labels)\n"
      ],
      "metadata": {
        "id": "MqN82AMf_jOy"
      },
      "execution_count": null,
      "outputs": []
    },
    {
      "cell_type": "code",
      "source": [
        "test_images=[]\n",
        "test_labels=[]\n",
        "for i in range(168):\n",
        "  test_images.append(test_batch_img[i][0])\n",
        "for j in range(168):\n",
        "  test_labels.append(test_batch_labels[j][0]) "
      ],
      "metadata": {
        "id": "KyLa2uGh_jSd"
      },
      "execution_count": null,
      "outputs": []
    },
    {
      "cell_type": "code",
      "source": [
        "#Convert lists to arrays                \n",
        "test_images = np.array(test_images)\n",
        "test_labels = np.array(test_labels)"
      ],
      "metadata": {
        "id": "qe3TIAGz_jVo"
      },
      "execution_count": null,
      "outputs": []
    },
    {
      "cell_type": "code",
      "source": [
        "#Encode labels from text to integers.\n",
        "from sklearn import preprocessing\n",
        "le = preprocessing.LabelEncoder()\n",
        "le.fit(test_labels)\n",
        "test_labels_encoded = le.transform(test_labels)\n",
        "le.fit(train_labels)\n",
        "train_labels_encoded = le.transform(train_labels)"
      ],
      "metadata": {
        "id": "t2atECyM_jYv"
      },
      "execution_count": null,
      "outputs": []
    },
    {
      "cell_type": "code",
      "source": [
        "#Split data into test and train datasets (already split but assigning to meaningful convention)\n",
        "x_train, y_train, x_test, y_test = train_images, train_labels_encoded, test_images, test_labels_encoded"
      ],
      "metadata": {
        "id": "AMtZD1cR_jb5"
      },
      "execution_count": null,
      "outputs": []
    },
    {
      "cell_type": "code",
      "source": [
        "# Normalize pixel values to between 0 and 1\n",
        "x_train, x_test = x_train / 255.0, x_test / 255.0"
      ],
      "metadata": {
        "id": "1N1fJd1K-FzG"
      },
      "execution_count": null,
      "outputs": []
    },
    {
      "cell_type": "code",
      "source": [
        "from tensorflow.keras.utils import to_categorical"
      ],
      "metadata": {
        "id": "o9NLshpQBtTN"
      },
      "execution_count": null,
      "outputs": []
    },
    {
      "cell_type": "code",
      "source": [
        "#One hot encode y values for neural network. \n",
        "#from keras.utils import to_categorical\n",
        "y_train_one_hot = to_categorical(y_train)\n",
        "y_test_one_hot = to_categorical(y_test)"
      ],
      "metadata": {
        "id": "Sn5dzD5vpnen"
      },
      "execution_count": null,
      "outputs": []
    },
    {
      "cell_type": "markdown",
      "source": [
        "**LOading the pretrained model and doing Feature extraction**"
      ],
      "metadata": {
        "id": "h6U9thewtCUp"
      }
    },
    {
      "cell_type": "code",
      "source": [
        "#Load model wothout classifier/fully connected layers\n",
        "VGG_model = VGG16(weights='imagenet', include_top=True, input_shape=(SIZE, SIZE, 3))"
      ],
      "metadata": {
        "id": "ZAqOS3Y3pniF",
        "colab": {
          "base_uri": "https://localhost:8080/"
        },
        "outputId": "d7858d42-5ac1-4e42-b6df-f2a81f80b15e"
      },
      "execution_count": null,
      "outputs": [
        {
          "output_type": "stream",
          "name": "stdout",
          "text": [
            "Downloading data from https://storage.googleapis.com/tensorflow/keras-applications/vgg16/vgg16_weights_tf_dim_ordering_tf_kernels.h5\n",
            "553467904/553467096 [==============================] - 3s 0us/step\n",
            "553476096/553467096 [==============================] - 3s 0us/step\n"
          ]
        }
      ]
    },
    {
      "cell_type": "code",
      "source": [
        "#Make loaded layers as non-trainable. This is important as we want to work with pre-trained weights\n",
        "for layer in VGG_model.layers:\n",
        "\tlayer.trainable = False"
      ],
      "metadata": {
        "id": "vl3yJuwuBQdR"
      },
      "execution_count": null,
      "outputs": []
    },
    {
      "cell_type": "code",
      "source": [
        "VGG_model.summary()  #Trainable parameters will be 0"
      ],
      "metadata": {
        "colab": {
          "base_uri": "https://localhost:8080/"
        },
        "id": "QcM85N7PBQmm",
        "outputId": "e2cf54ea-8018-4979-b1ef-050f35253a3e"
      },
      "execution_count": null,
      "outputs": [
        {
          "output_type": "stream",
          "name": "stdout",
          "text": [
            "Model: \"vgg16\"\n",
            "_________________________________________________________________\n",
            " Layer (type)                Output Shape              Param #   \n",
            "=================================================================\n",
            " input_1 (InputLayer)        [(None, 224, 224, 3)]     0         \n",
            "                                                                 \n",
            " block1_conv1 (Conv2D)       (None, 224, 224, 64)      1792      \n",
            "                                                                 \n",
            " block1_conv2 (Conv2D)       (None, 224, 224, 64)      36928     \n",
            "                                                                 \n",
            " block1_pool (MaxPooling2D)  (None, 112, 112, 64)      0         \n",
            "                                                                 \n",
            " block2_conv1 (Conv2D)       (None, 112, 112, 128)     73856     \n",
            "                                                                 \n",
            " block2_conv2 (Conv2D)       (None, 112, 112, 128)     147584    \n",
            "                                                                 \n",
            " block2_pool (MaxPooling2D)  (None, 56, 56, 128)       0         \n",
            "                                                                 \n",
            " block3_conv1 (Conv2D)       (None, 56, 56, 256)       295168    \n",
            "                                                                 \n",
            " block3_conv2 (Conv2D)       (None, 56, 56, 256)       590080    \n",
            "                                                                 \n",
            " block3_conv3 (Conv2D)       (None, 56, 56, 256)       590080    \n",
            "                                                                 \n",
            " block3_pool (MaxPooling2D)  (None, 28, 28, 256)       0         \n",
            "                                                                 \n",
            " block4_conv1 (Conv2D)       (None, 28, 28, 512)       1180160   \n",
            "                                                                 \n",
            " block4_conv2 (Conv2D)       (None, 28, 28, 512)       2359808   \n",
            "                                                                 \n",
            " block4_conv3 (Conv2D)       (None, 28, 28, 512)       2359808   \n",
            "                                                                 \n",
            " block4_pool (MaxPooling2D)  (None, 14, 14, 512)       0         \n",
            "                                                                 \n",
            " block5_conv1 (Conv2D)       (None, 14, 14, 512)       2359808   \n",
            "                                                                 \n",
            " block5_conv2 (Conv2D)       (None, 14, 14, 512)       2359808   \n",
            "                                                                 \n",
            " block5_conv3 (Conv2D)       (None, 14, 14, 512)       2359808   \n",
            "                                                                 \n",
            " block5_pool (MaxPooling2D)  (None, 7, 7, 512)         0         \n",
            "                                                                 \n",
            " flatten (Flatten)           (None, 25088)             0         \n",
            "                                                                 \n",
            " fc1 (Dense)                 (None, 4096)              102764544 \n",
            "                                                                 \n",
            " fc2 (Dense)                 (None, 4096)              16781312  \n",
            "                                                                 \n",
            " predictions (Dense)         (None, 1000)              4097000   \n",
            "                                                                 \n",
            "=================================================================\n",
            "Total params: 138,357,544\n",
            "Trainable params: 0\n",
            "Non-trainable params: 138,357,544\n",
            "_________________________________________________________________\n"
          ]
        }
      ]
    },
    {
      "cell_type": "markdown",
      "source": [
        "**Applying ML classifer on feature extracted by the Pretrained model**"
      ],
      "metadata": {
        "id": "79SxIhKotLVd"
      }
    },
    {
      "cell_type": "markdown",
      "source": [
        "**RANDOM FOREST**"
      ],
      "metadata": {
        "id": "1YCi9ePyQALA"
      }
    },
    {
      "cell_type": "code",
      "source": [
        "#Now, let us use features from convolutional network for RF\n",
        "feature_extractor=VGG_model.predict(x_train)"
      ],
      "metadata": {
        "id": "NYpoCYu9CN7H"
      },
      "execution_count": null,
      "outputs": []
    },
    {
      "cell_type": "code",
      "source": [
        "features = feature_extractor.reshape(feature_extractor.shape[0], -1)"
      ],
      "metadata": {
        "id": "Dgw3RoOiCN98"
      },
      "execution_count": null,
      "outputs": []
    },
    {
      "cell_type": "code",
      "source": [
        "X_for_RF = features #This is our X input to RF"
      ],
      "metadata": {
        "id": "gGtClrCFCOBH"
      },
      "execution_count": null,
      "outputs": []
    },
    {
      "cell_type": "code",
      "source": [
        "#RANDOM FOREST\n",
        "from sklearn.ensemble import RandomForestClassifier\n",
        "RF_model = RandomForestClassifier(n_estimators = 30, random_state = 42)"
      ],
      "metadata": {
        "id": "HNDRNLSUCODn"
      },
      "execution_count": null,
      "outputs": []
    },
    {
      "cell_type": "code",
      "source": [
        "# Train the model on training data\n",
        "RF_model.fit(X_for_RF, y_train) #For sklearn no one hot encoding"
      ],
      "metadata": {
        "colab": {
          "base_uri": "https://localhost:8080/"
        },
        "id": "ISwsrVL0Cj5U",
        "outputId": "18d3f8d4-0981-4975-bdf0-964316144516"
      },
      "execution_count": null,
      "outputs": [
        {
          "output_type": "execute_result",
          "data": {
            "text/plain": [
              "RandomForestClassifier(n_estimators=30, random_state=42)"
            ]
          },
          "metadata": {},
          "execution_count": 23
        }
      ]
    },
    {
      "cell_type": "code",
      "source": [
        "#Send test data through same feature extractor process\n",
        "X_test_feature = VGG_model.predict(x_test)\n",
        "X_test_features = X_test_feature.reshape(X_test_feature.shape[0], -1)"
      ],
      "metadata": {
        "id": "OFi7Z1aQCj9B"
      },
      "execution_count": null,
      "outputs": []
    },
    {
      "cell_type": "code",
      "source": [
        "#Now predict using the trained RF model. \n",
        "prediction_RF = RF_model.predict(X_test_features)\n",
        "#Inverse le transform to get original label back. \n",
        "prediction_RF = le.inverse_transform(prediction_RF)"
      ],
      "metadata": {
        "id": "PncX2B8_CkBE"
      },
      "execution_count": null,
      "outputs": []
    },
    {
      "cell_type": "code",
      "source": [
        "#Print overall accuracy\n",
        "from sklearn import metrics\n",
        "print (\"Accuracy = \", metrics.accuracy_score(test_labels, prediction_RF))"
      ],
      "metadata": {
        "colab": {
          "base_uri": "https://localhost:8080/"
        },
        "id": "npJeIK8aCkEr",
        "outputId": "646f554b-6ff3-4bfd-a42f-4f637fe5131b"
      },
      "execution_count": null,
      "outputs": [
        {
          "output_type": "stream",
          "name": "stdout",
          "text": [
            "Accuracy =  0.4880952380952381\n"
          ]
        }
      ]
    },
    {
      "cell_type": "code",
      "source": [
        "#Confusion Matrix - verify accuracy of each class\n",
        "from sklearn.metrics import confusion_matrix\n",
        "cm = confusion_matrix(test_labels, prediction_RF)\n",
        "#print(cm)\n",
        "sns.heatmap(cm, annot=True)"
      ],
      "metadata": {
        "colab": {
          "base_uri": "https://localhost:8080/",
          "height": 286
        },
        "id": "dF9cJ2A5CkI7",
        "outputId": "c0b5dfe1-9f38-4ec0-a7d4-6404892c562d"
      },
      "execution_count": null,
      "outputs": [
        {
          "output_type": "execute_result",
          "data": {
            "text/plain": [
              "<matplotlib.axes._subplots.AxesSubplot at 0x7f4fde2d4910>"
            ]
          },
          "metadata": {},
          "execution_count": 27
        },
        {
          "output_type": "display_data",
          "data": {
            "text/plain": [
              "<Figure size 432x288 with 2 Axes>"
            ],
            "image/png": "[encoded data removed]"
          },
          "metadata": {
            "needs_background": "light"
          }
        }
      ]
    },
    {
      "cell_type": "code",
      "source": [
        "#Check results on a few select images\n",
        "n=np.random.randint(0, x_test.shape[0])\n",
        "img = x_test[n]\n",
        "plt.imshow(img)\n",
        "input_img = np.expand_dims(img, axis=0) #Expand dims so the input is (num images, x, y, c)\n",
        "input_img_feature=VGG_model.predict(input_img)\n",
        "input_img_features=input_img_feature.reshape(input_img_feature.shape[0], -1)\n",
        "prediction_RF = RF_model.predict(input_img_features)[0] \n",
        "prediction_RF = le.inverse_transform([prediction_RF])  #Reverse the label encoder to original name\n",
        "print(\"The prediction for this image is: \", prediction_RF)\n",
        "print(\"The actual label for this image is: \", test_labels[n])"
      ],
      "metadata": {
        "colab": {
          "base_uri": "https://localhost:8080/",
          "height": 304
        },
        "id": "dDFhaVYiC4b4",
        "outputId": "a5845103-b54a-4fd7-cdba-fe67b5cfc1e7"
      },
      "execution_count": null,
      "outputs": [
        {
          "output_type": "stream",
          "name": "stdout",
          "text": [
            "The prediction for this image is:  [4]\n",
            "The actual label for this image is:  4\n"
          ]
        },
        {
          "output_type": "display_data",
          "data": {
            "text/plain": [
              "<Figure size 432x288 with 1 Axes>"
            ],
            "image/png": "[encoded data removed]"
          },
          "metadata": {
            "needs_background": "light"
          }
        }
      ]
    },
    {
      "cell_type": "markdown",
      "source": [
        "**RF after getting best param after GridSearch**"
      ],
      "metadata": {
        "id": "jIVIaWVt19Ex"
      }
    },
    {
      "cell_type": "code",
      "source": [
        "best_param= {'n_estimators': 50}"
      ],
      "metadata": {
        "id": "QJEfqpg8Ng_x"
      },
      "execution_count": null,
      "outputs": []
    },
    {
      "cell_type": "code",
      "source": [
        "from sklearn.ensemble import RandomForestClassifier\n",
        "RF_grid_model = RandomForestClassifier(n_estimators = 50, random_state = 42)"
      ],
      "metadata": {
        "id": "2GXpMHzZ2JYH"
      },
      "execution_count": null,
      "outputs": []
    },
    {
      "cell_type": "code",
      "source": [
        "# Train the model on training data\n",
        "RF_grid_model.fit(X_for_RF, y_train) #For sklearn no one hot encoding"
      ],
      "metadata": {
        "colab": {
          "base_uri": "https://localhost:8080/"
        },
        "id": "B2ipvibu2JbG",
        "outputId": "db144298-d269-4178-f835-7a005ef7b533"
      },
      "execution_count": null,
      "outputs": [
        {
          "output_type": "execute_result",
          "data": {
            "text/plain": [
              "RandomForestClassifier(n_estimators=50, random_state=42)"
            ]
          },
          "metadata": {},
          "execution_count": 77
        }
      ]
    },
    {
      "cell_type": "code",
      "source": [
        "#Now predict using the trained RF model. \n",
        "prediction_RF = RF_grid_model.predict(X_test_features)\n",
        "#Inverse le transform to get original label back. \n",
        "prediction_RF = le.inverse_transform(prediction_RF)"
      ],
      "metadata": {
        "id": "sHXxrwVv2Jdi"
      },
      "execution_count": null,
      "outputs": []
    },
    {
      "cell_type": "code",
      "source": [
        "#Print overall accuracy\n",
        "from sklearn import metrics\n",
        "print (\"Accuracy = \", metrics.accuracy_score(test_labels, prediction_RF))"
      ],
      "metadata": {
        "colab": {
          "base_uri": "https://localhost:8080/"
        },
        "id": "RvdDC9QD2Jfe",
        "outputId": "2a008129-6526-4685-fe0c-1f514615955e"
      },
      "execution_count": null,
      "outputs": [
        {
          "output_type": "stream",
          "name": "stdout",
          "text": [
            "Accuracy =  0.5059523809523809\n"
          ]
        }
      ]
    },
    {
      "cell_type": "markdown",
      "source": [
        "**XGBOOST**"
      ],
      "metadata": {
        "id": "Qo0hcmceP4MR"
      }
    },
    {
      "cell_type": "code",
      "source": [
        "#Now, let us use features from convolutional network for XGBOOST\n",
        "feature_extractor=VGG_model.predict(x_train)\n",
        "\n",
        "features = feature_extractor.reshape(feature_extractor.shape[0], -1)\n",
        "\n",
        "X_for_XGBOOST = features #This is our X input to XGBOOST"
      ],
      "metadata": {
        "id": "vhJfoAQ0FyGp"
      },
      "execution_count": null,
      "outputs": []
    },
    {
      "cell_type": "code",
      "source": [
        "#XGBOOST\n",
        "import xgboost as xgb\n",
        "XGBOOST_model = xgb.XGBClassifier()\n",
        "XGBOOST_model.fit(X_for_XGBOOST, y_train) #For sklearn no one hot encoding"
      ],
      "metadata": {
        "colab": {
          "base_uri": "https://localhost:8080/"
        },
        "id": "kzqglyPdFTzQ",
        "outputId": "06d9ce6f-f132-4caf-dc9c-7752f16b7802"
      },
      "execution_count": null,
      "outputs": [
        {
          "output_type": "execute_result",
          "data": {
            "text/plain": [
              "XGBClassifier(objective='multi:softprob')"
            ]
          },
          "metadata": {},
          "execution_count": 31
        }
      ]
    },
    {
      "cell_type": "code",
      "source": [
        "#Send test data through same feature extractor process\n",
        "X_test_feature = VGG_model.predict(x_test)\n",
        "X_test_features = X_test_feature.reshape(X_test_feature.shape[0], -1)"
      ],
      "metadata": {
        "id": "gK2-1IEoF870"
      },
      "execution_count": null,
      "outputs": []
    },
    {
      "cell_type": "code",
      "source": [
        "#Now predict using the trained XGBOOST model. \n",
        "prediction = XGBOOST_model.predict(X_test_features)\n",
        "#Inverse le transform to get original label back. \n",
        "prediction = le.inverse_transform(prediction)"
      ],
      "metadata": {
        "id": "BPkZP38gF8-Z"
      },
      "execution_count": null,
      "outputs": []
    },
    {
      "cell_type": "code",
      "source": [
        "#Print overall accuracy\n",
        "from sklearn import metrics\n",
        "print (\"Accuracy = \", metrics.accuracy_score(test_labels, prediction))"
      ],
      "metadata": {
        "colab": {
          "base_uri": "https://localhost:8080/"
        },
        "id": "R2jD2rMeF9BT",
        "outputId": "1a217ce7-6d5e-4eda-f61f-3edaa5e54fcf"
      },
      "execution_count": null,
      "outputs": [
        {
          "output_type": "stream",
          "name": "stdout",
          "text": [
            "Accuracy =  0.5773809523809523\n"
          ]
        }
      ]
    },
    {
      "cell_type": "code",
      "source": [
        "#Confusion Matrix - verify accuracy of each class\n",
        "from sklearn.metrics import confusion_matrix\n",
        "cm = confusion_matrix(test_labels, prediction)\n",
        "#print(cm)\n",
        "sns.heatmap(cm, annot=True)"
      ],
      "metadata": {
        "colab": {
          "base_uri": "https://localhost:8080/",
          "height": 286
        },
        "id": "SiIhziwwF9Eq",
        "outputId": "cfca9426-87a1-4667-d055-c8b499d356ed"
      },
      "execution_count": null,
      "outputs": [
        {
          "output_type": "execute_result",
          "data": {
            "text/plain": [
              "<matplotlib.axes._subplots.AxesSubplot at 0x7f50600b9d90>"
            ]
          },
          "metadata": {},
          "execution_count": 35
        },
        {
          "output_type": "display_data",
          "data": {
            "text/plain": [
              "<Figure size 432x288 with 2 Axes>"
            ],
            "image/png": "[encoded data removed]"
          },
          "metadata": {
            "needs_background": "light"
          }
        }
      ]
    },
    {
      "cell_type": "code",
      "source": [
        "#Check results on a few select images\n",
        "n=np.random.randint(0, x_test.shape[0])\n",
        "img = x_test[n]\n",
        "plt.imshow(img)\n",
        "input_img = np.expand_dims(img, axis=0) #Expand dims so the input is (num images, x, y, c)\n",
        "input_img_feature=VGG_model.predict(input_img)\n",
        "input_img_features=input_img_feature.reshape(input_img_feature.shape[0], -1)\n",
        "prediction = XGBOOST_model.predict(input_img_features)[0] \n",
        "prediction = le.inverse_transform([prediction])  #Reverse the label encoder to original name\n",
        "print(\"The prediction for this image is: \", prediction)\n",
        "print(\"The actual label for this image is: \", test_labels[n])"
      ],
      "metadata": {
        "colab": {
          "base_uri": "https://localhost:8080/",
          "height": 304
        },
        "id": "0FycRuruF9H1",
        "outputId": "485f2b06-6253-48ee-d9ec-6fc0347fcd5c"
      },
      "execution_count": null,
      "outputs": [
        {
          "output_type": "stream",
          "name": "stdout",
          "text": [
            "The prediction for this image is:  [10]\n",
            "The actual label for this image is:  10\n"
          ]
        },
        {
          "output_type": "display_data",
          "data": {
            "text/plain": [
              "<Figure size 432x288 with 1 Axes>"
            ],
            "image/png": "[encoded data removed]"
          },
          "metadata": {
            "needs_background": "light"
          }
        }
      ]
    },
    {
      "cell_type": "markdown",
      "source": [
        "**HYPERPARAMETER TUNNING FOR XGBOOST USING OPTUNA**"
      ],
      "metadata": {
        "id": "VCORvA_4oY3V"
      }
    },
    {
      "cell_type": "code",
      "source": [
        "from sklearn.metrics import mean_squared_error\n",
        "def objective(trail):\n",
        "  train_x,test_x,train_y,test_y=train_test_split(X_for_XGBOOST,y_train,test_size=0.10,random_state=30)\n",
        "\n",
        "  param={\n",
        "        'tree_method':'gpu_hist',\n",
        "        'lambda':trail.suggest_loguniform('lambad',1e-3,10.0),\n",
        "        'alpha' :trail.suggest_loguniform('alpha',1e-3,10.0),\n",
        "        'colsample_bytree':trail.suggest_categorical('colsample_bytree',[.1,.2,.3,.4,.5,.6,.7,.8,.9,1]),\n",
        "        'subsample':trail.suggest_categorical('subsample',[.1,.2,.3,.4,.5,.6,.7,.8,.9,1]),\n",
        "        'learning_rate':trail.suggest_categorical('learning_rate',[.00001,.02,.0003,.4,.5,.6,.7,.008,.9,.01,1,20,0.008,0.009,0.01,0.012,0.014,0.016,0.018, 0.02]),\n",
        "        'n_estimator':[150,200,300,30000],\n",
        "        'max_depth':trail.suggest_categorical('max_depth',[3,4,5,6,7,8,9,10,11,12,15,17]),\n",
        "        'random_state':trail.suggest_categorical('random_state',[10,20,42,30,2000,3454,243123]),\n",
        "        'min_child_weight':trail.suggest_int('min_child_weight',1,300),\n",
        "        'verbosity':3,\n",
        "        \n",
        "        \n",
        "        \n",
        "    }\n",
        "    \n",
        "    \n",
        "  xgb_optuna_model=xgb.XGBClassifier(**param)\n",
        "  xgb_optuna_model.fit(train_x,train_y,eval_set=[(test_x,test_y)],verbose=True)\n",
        "  pred_xgb=xgb_optuna_model.predict(test_x)\n",
        "  rmse=mean_squared_error(test_y,pred_xgb)\n",
        "  return rmse"
      ],
      "metadata": {
        "id": "SPZnuN0koYEz"
      },
      "execution_count": null,
      "outputs": []
    },
    {
      "cell_type": "code",
      "source": [
        "find_param=optuna.create_study(direction='minimize')\n",
        "find_param.optimize(objective,n_trials=10)\n",
        "find_param.best_trial.params\n"
      ],
      "metadata": {
        "colab": {
          "base_uri": "https://localhost:8080/"
        },
        "id": "0lhpmCkBsNIl",
        "outputId": "e01ce066-4c08-4096-f73b-2ae13a425264"
      },
      "execution_count": null,
      "outputs": [
        {
          "output_type": "stream",
          "name": "stderr",
          "text": [
            "\u001b[32m[I 2022-06-13 07:23:29,753]\u001b[0m A new study created in memory with name: no-name-dd9c00a1-e70b-4b69-a34f-4399b8a74377\u001b[0m\n"
          ]
        },
        {
          "output_type": "stream",
          "name": "stdout",
          "text": [
            "[0]\tvalidation_0-merror:0.941176\n",
            "[1]\tvalidation_0-merror:0.941176\n",
            "[2]\tvalidation_0-merror:0.941176\n",
            "[3]\tvalidation_0-merror:0.941176\n",
            "[4]\tvalidation_0-merror:0.941176\n",
            "[5]\tvalidation_0-merror:0.941176\n",
            "[6]\tvalidation_0-merror:0.941176\n",
            "[7]\tvalidation_0-merror:0.941176\n",
            "[8]\tvalidation_0-merror:0.941176\n",
            "[9]\tvalidation_0-merror:0.941176\n",
            "[10]\tvalidation_0-merror:0.941176\n",
            "[11]\tvalidation_0-merror:0.941176\n",
            "[12]\tvalidation_0-merror:0.941176\n",
            "[13]\tvalidation_0-merror:0.941176\n",
            "[14]\tvalidation_0-merror:0.941176\n",
            "[15]\tvalidation_0-merror:0.941176\n",
            "[16]\tvalidation_0-merror:0.941176\n",
            "[17]\tvalidation_0-merror:0.941176\n",
            "[18]\tvalidation_0-merror:0.941176\n",
            "[19]\tvalidation_0-merror:0.941176\n",
            "[20]\tvalidation_0-merror:0.941176\n",
            "[21]\tvalidation_0-merror:0.941176\n",
            "[22]\tvalidation_0-merror:0.941176\n",
            "[23]\tvalidation_0-merror:0.941176\n",
            "[24]\tvalidation_0-merror:0.941176\n",
            "[25]\tvalidation_0-merror:0.941176\n",
            "[26]\tvalidation_0-merror:0.941176\n",
            "[27]\tvalidation_0-merror:0.941176\n",
            "[28]\tvalidation_0-merror:0.941176\n",
            "[29]\tvalidation_0-merror:0.941176\n",
            "[30]\tvalidation_0-merror:0.941176\n",
            "[31]\tvalidation_0-merror:0.941176\n",
            "[32]\tvalidation_0-merror:0.941176\n",
            "[33]\tvalidation_0-merror:0.941176\n",
            "[34]\tvalidation_0-merror:0.941176\n",
            "[35]\tvalidation_0-merror:0.941176\n",
            "[36]\tvalidation_0-merror:0.941176\n",
            "[37]\tvalidation_0-merror:0.941176\n",
            "[38]\tvalidation_0-merror:0.941176\n",
            "[39]\tvalidation_0-merror:0.941176\n",
            "[40]\tvalidation_0-merror:0.941176\n",
            "[41]\tvalidation_0-merror:0.941176\n",
            "[42]\tvalidation_0-merror:0.941176\n",
            "[43]\tvalidation_0-merror:0.941176\n",
            "[44]\tvalidation_0-merror:0.941176\n",
            "[45]\tvalidation_0-merror:0.941176\n",
            "[46]\tvalidation_0-merror:0.941176\n",
            "[47]\tvalidation_0-merror:0.941176\n",
            "[48]\tvalidation_0-merror:0.941176\n",
            "[49]\tvalidation_0-merror:0.941176\n",
            "[50]\tvalidation_0-merror:0.941176\n",
            "[51]\tvalidation_0-merror:0.941176\n",
            "[52]\tvalidation_0-merror:0.941176\n",
            "[53]\tvalidation_0-merror:0.941176\n",
            "[54]\tvalidation_0-merror:0.941176\n",
            "[55]\tvalidation_0-merror:0.941176\n",
            "[56]\tvalidation_0-merror:0.941176\n",
            "[57]\tvalidation_0-merror:0.941176\n",
            "[58]\tvalidation_0-merror:0.941176\n",
            "[59]\tvalidation_0-merror:0.941176\n",
            "[60]\tvalidation_0-merror:0.941176\n",
            "[61]\tvalidation_0-merror:0.941176\n",
            "[62]\tvalidation_0-merror:0.941176\n",
            "[63]\tvalidation_0-merror:0.941176\n",
            "[64]\tvalidation_0-merror:0.941176\n",
            "[65]\tvalidation_0-merror:0.941176\n",
            "[66]\tvalidation_0-merror:0.941176\n",
            "[67]\tvalidation_0-merror:0.941176\n",
            "[68]\tvalidation_0-merror:0.941176\n",
            "[69]\tvalidation_0-merror:0.941176\n",
            "[70]\tvalidation_0-merror:0.941176\n",
            "[71]\tvalidation_0-merror:0.941176\n",
            "[72]\tvalidation_0-merror:0.941176\n",
            "[73]\tvalidation_0-merror:0.941176\n",
            "[74]\tvalidation_0-merror:0.941176\n",
            "[75]\tvalidation_0-merror:0.941176\n",
            "[76]\tvalidation_0-merror:0.941176\n",
            "[77]\tvalidation_0-merror:0.941176\n",
            "[78]\tvalidation_0-merror:0.941176\n",
            "[79]\tvalidation_0-merror:0.941176\n",
            "[80]\tvalidation_0-merror:0.941176\n",
            "[81]\tvalidation_0-merror:0.941176\n",
            "[82]\tvalidation_0-merror:0.941176\n",
            "[83]\tvalidation_0-merror:0.941176\n",
            "[84]\tvalidation_0-merror:0.941176\n",
            "[85]\tvalidation_0-merror:0.941176\n",
            "[86]\tvalidation_0-merror:0.941176\n",
            "[87]\tvalidation_0-merror:0.941176\n",
            "[88]\tvalidation_0-merror:0.941176\n",
            "[89]\tvalidation_0-merror:0.941176\n",
            "[90]\tvalidation_0-merror:0.941176\n",
            "[91]\tvalidation_0-merror:0.941176\n",
            "[92]\tvalidation_0-merror:0.941176\n",
            "[93]\tvalidation_0-merror:0.941176\n",
            "[94]\tvalidation_0-merror:0.941176\n",
            "[95]\tvalidation_0-merror:0.941176\n",
            "[96]\tvalidation_0-merror:0.941176\n",
            "[97]\tvalidation_0-merror:0.941176\n",
            "[98]\tvalidation_0-merror:0.941176\n",
            "[99]\tvalidation_0-merror:0.941176\n"
          ]
        },
        {
          "output_type": "stream",
          "name": "stderr",
          "text": [
            "\u001b[32m[I 2022-06-13 07:23:41,642]\u001b[0m Trial 0 finished with value: 136.63235294117646 and parameters: {'lambad': 0.002605895699491192, 'alpha': 0.008236278056565256, 'colsample_bytree': 0.8, 'subsample': 0.7, 'learning_rate': 0.4, 'max_depth': 15, 'random_state': 2000, 'min_child_weight': 233}. Best is trial 0 with value: 136.63235294117646.\u001b[0m\n"
          ]
        },
        {
          "output_type": "stream",
          "name": "stdout",
          "text": [
            "[07:23:41] ======== Monitor: Learner ========\n",
            "[07:23:41] EvalOneIter: 0.00793087s, 100 calls @ 79us\n",
            "[07:23:41] GetGradient: 0.0088207s, 100 calls @ 88us\n",
            "[07:23:41] PredictRaw: 0.00352843s, 100 calls @ 35us\n",
            "[07:23:41] UpdateOneIter: 11.6805s, 100 calls @ 116805us\n",
            "[07:23:41] ======== Monitor: GBTree ========\n",
            "[07:23:41] BoostNewTrees: 11.6576s, 100 calls @ 116576us\n",
            "[07:23:41] CommitModel: 0.00988934s, 100 calls @ 98us\n",
            "[07:23:41] ======== Monitor:  ========\n",
            "[07:23:41] DevicePredictInternal: 0.0100083s, 201 calls @ 49us\n",
            "[07:23:41] PredictFromCache: 0.00412932s, 199 calls @ 20us\n",
            "[07:23:41] ======== Monitor: updater_gpu_hist ========\n",
            "[07:23:41] BinningCompression: 0.00322984s, 1 calls @ 3229us\n",
            "[07:23:41] InitData: 0.367792s, 2100 calls @ 175us\n",
            "[07:23:41] InitDataOnce: 0.367229s, 1 calls @ 367229us\n",
            "[07:23:41] Quantiles: 0.354964s, 1 calls @ 354963us\n",
            "[07:23:41] Update: 11.5892s, 2100 calls @ 5518us\n",
            "[07:23:41] ======== NCCL Statistics========\n",
            "[07:23:41] AllReduce calls: 4200\n",
            "[07:23:41] AllReduce total MB communicated: 8534\n",
            "[07:23:41] ======== Monitor: HistCutMatrix ========\n",
            "[07:23:41] ======== Monitor: DeviceShard0 ========\n",
            "[07:23:41] AllReduce: 0.0103035s, 2100 calls @ 4us\n",
            "[07:23:41] FinalisePosition: 0.0200792s, 2100 calls @ 9us\n",
            "[07:23:41] InitRoot: 10.6458s, 2100 calls @ 5069us\n",
            "[07:23:41] Reset: 0.543341s, 2100 calls @ 258us\n",
            "[07:23:41] ======== Monitor: HistCutMatrix ========\n",
            "[0]\tvalidation_0-merror:0.941176\n",
            "[1]\tvalidation_0-merror:0.941176\n",
            "[2]\tvalidation_0-merror:0.941176\n",
            "[3]\tvalidation_0-merror:0.941176\n",
            "[4]\tvalidation_0-merror:0.941176\n",
            "[5]\tvalidation_0-merror:0.941176\n",
            "[6]\tvalidation_0-merror:0.941176\n",
            "[7]\tvalidation_0-merror:0.941176\n",
            "[8]\tvalidation_0-merror:0.941176\n",
            "[9]\tvalidation_0-merror:0.941176\n",
            "[10]\tvalidation_0-merror:0.941176\n",
            "[11]\tvalidation_0-merror:0.941176\n",
            "[12]\tvalidation_0-merror:0.941176\n",
            "[13]\tvalidation_0-merror:0.941176\n",
            "[14]\tvalidation_0-merror:0.941176\n",
            "[15]\tvalidation_0-merror:0.941176\n",
            "[16]\tvalidation_0-merror:0.941176\n",
            "[17]\tvalidation_0-merror:0.941176\n",
            "[18]\tvalidation_0-merror:0.941176\n",
            "[19]\tvalidation_0-merror:0.941176\n",
            "[20]\tvalidation_0-merror:0.941176\n",
            "[21]\tvalidation_0-merror:0.941176\n",
            "[22]\tvalidation_0-merror:0.941176\n",
            "[23]\tvalidation_0-merror:0.941176\n",
            "[24]\tvalidation_0-merror:0.941176\n",
            "[25]\tvalidation_0-merror:0.941176\n",
            "[26]\tvalidation_0-merror:0.941176\n",
            "[27]\tvalidation_0-merror:0.941176\n",
            "[28]\tvalidation_0-merror:0.941176\n",
            "[29]\tvalidation_0-merror:0.941176\n",
            "[30]\tvalidation_0-merror:0.941176\n",
            "[31]\tvalidation_0-merror:0.941176\n",
            "[32]\tvalidation_0-merror:0.941176\n",
            "[33]\tvalidation_0-merror:0.941176\n",
            "[34]\tvalidation_0-merror:0.941176\n",
            "[35]\tvalidation_0-merror:0.941176\n",
            "[36]\tvalidation_0-merror:0.941176\n",
            "[37]\tvalidation_0-merror:0.941176\n",
            "[38]\tvalidation_0-merror:0.941176\n",
            "[39]\tvalidation_0-merror:0.941176\n",
            "[40]\tvalidation_0-merror:0.941176\n",
            "[41]\tvalidation_0-merror:0.941176\n",
            "[42]\tvalidation_0-merror:0.941176\n",
            "[43]\tvalidation_0-merror:0.941176\n",
            "[44]\tvalidation_0-merror:0.941176\n",
            "[45]\tvalidation_0-merror:0.941176\n",
            "[46]\tvalidation_0-merror:0.941176\n",
            "[47]\tvalidation_0-merror:0.941176\n",
            "[48]\tvalidation_0-merror:0.941176\n",
            "[49]\tvalidation_0-merror:0.941176\n",
            "[50]\tvalidation_0-merror:0.941176\n",
            "[51]\tvalidation_0-merror:0.941176\n",
            "[52]\tvalidation_0-merror:0.941176\n",
            "[53]\tvalidation_0-merror:0.941176\n",
            "[54]\tvalidation_0-merror:0.941176\n",
            "[55]\tvalidation_0-merror:0.941176\n",
            "[56]\tvalidation_0-merror:0.941176\n",
            "[57]\tvalidation_0-merror:0.941176\n",
            "[58]\tvalidation_0-merror:0.941176\n",
            "[59]\tvalidation_0-merror:0.941176\n",
            "[60]\tvalidation_0-merror:0.941176\n",
            "[61]\tvalidation_0-merror:0.941176\n",
            "[62]\tvalidation_0-merror:0.941176\n",
            "[63]\tvalidation_0-merror:0.941176\n",
            "[64]\tvalidation_0-merror:0.941176\n",
            "[65]\tvalidation_0-merror:0.941176\n",
            "[66]\tvalidation_0-merror:0.941176\n",
            "[67]\tvalidation_0-merror:0.941176\n",
            "[68]\tvalidation_0-merror:0.941176\n",
            "[69]\tvalidation_0-merror:0.941176\n",
            "[70]\tvalidation_0-merror:0.941176\n",
            "[71]\tvalidation_0-merror:0.941176\n",
            "[72]\tvalidation_0-merror:0.941176\n",
            "[73]\tvalidation_0-merror:0.941176\n",
            "[74]\tvalidation_0-merror:0.941176\n",
            "[75]\tvalidation_0-merror:0.941176\n",
            "[76]\tvalidation_0-merror:0.941176\n",
            "[77]\tvalidation_0-merror:0.941176\n",
            "[78]\tvalidation_0-merror:0.941176\n",
            "[79]\tvalidation_0-merror:0.941176\n",
            "[80]\tvalidation_0-merror:0.941176\n",
            "[81]\tvalidation_0-merror:0.941176\n",
            "[82]\tvalidation_0-merror:0.941176\n",
            "[83]\tvalidation_0-merror:0.941176\n",
            "[84]\tvalidation_0-merror:0.941176\n",
            "[85]\tvalidation_0-merror:0.941176\n",
            "[86]\tvalidation_0-merror:0.941176\n",
            "[87]\tvalidation_0-merror:0.941176\n",
            "[88]\tvalidation_0-merror:0.941176\n",
            "[89]\tvalidation_0-merror:0.941176\n",
            "[90]\tvalidation_0-merror:0.941176\n",
            "[91]\tvalidation_0-merror:0.941176\n",
            "[92]\tvalidation_0-merror:0.941176\n",
            "[93]\tvalidation_0-merror:0.941176\n",
            "[94]\tvalidation_0-merror:0.941176\n",
            "[95]\tvalidation_0-merror:0.941176\n",
            "[96]\tvalidation_0-merror:0.941176\n",
            "[97]\tvalidation_0-merror:0.941176\n",
            "[98]\tvalidation_0-merror:0.941176\n",
            "[99]\tvalidation_0-merror:0.941176\n"
          ]
        },
        {
          "output_type": "stream",
          "name": "stderr",
          "text": [
            "\u001b[32m[I 2022-06-13 07:23:54,008]\u001b[0m Trial 1 finished with value: 136.63235294117646 and parameters: {'lambad': 0.005920008839474735, 'alpha': 0.0423907116532195, 'colsample_bytree': 1, 'subsample': 0.6, 'learning_rate': 0.9, 'max_depth': 17, 'random_state': 243123, 'min_child_weight': 252}. Best is trial 0 with value: 136.63235294117646.\u001b[0m\n"
          ]
        },
        {
          "output_type": "stream",
          "name": "stdout",
          "text": [
            "[07:23:53] ======== Monitor: Learner ========\n",
            "[07:23:53] EvalOneIter: 0.00833476s, 100 calls @ 83us\n",
            "[07:23:53] GetGradient: 0.00709918s, 100 calls @ 70us\n",
            "[07:23:53] PredictRaw: 0.00326385s, 100 calls @ 32us\n",
            "[07:23:53] UpdateOneIter: 12.151s, 100 calls @ 121510us\n",
            "[07:23:53] ======== Monitor: GBTree ========\n",
            "[07:23:53] BoostNewTrees: 12.1294s, 100 calls @ 121294us\n",
            "[07:23:53] CommitModel: 0.0104523s, 100 calls @ 104us\n",
            "[07:23:53] ======== Monitor:  ========\n",
            "[07:23:53] DevicePredictInternal: 0.0104871s, 201 calls @ 52us\n",
            "[07:23:53] PredictFromCache: 0.00416911s, 199 calls @ 20us\n",
            "[07:23:53] ======== Monitor: updater_gpu_hist ========\n",
            "[07:23:53] BinningCompression: 0.00470737s, 1 calls @ 4707us\n",
            "[07:23:53] InitData: 0.29053s, 2100 calls @ 138us\n",
            "[07:23:53] InitDataOnce: 0.289997s, 1 calls @ 289997us\n",
            "[07:23:53] Quantiles: 0.275666s, 1 calls @ 275666us\n",
            "[07:23:53] Update: 12.0557s, 2100 calls @ 5740us\n",
            "[07:23:53] ======== NCCL Statistics========\n",
            "[07:23:53] AllReduce calls: 4200\n",
            "[07:23:53] AllReduce total MB communicated: 8534\n",
            "[07:23:53] ======== Monitor: HistCutMatrix ========\n",
            "[07:23:53] ======== Monitor: DeviceShard0 ========\n",
            "[07:23:53] AllReduce: 0.0104041s, 2100 calls @ 4us\n",
            "[07:23:53] FinalisePosition: 0.0207776s, 2100 calls @ 9us\n",
            "[07:23:53] InitRoot: 10.7398s, 2100 calls @ 5114us\n",
            "[07:23:54] Reset: 0.988297s, 2100 calls @ 470us\n",
            "[07:23:54] ======== Monitor: HistCutMatrix ========\n",
            "[0]\tvalidation_0-merror:0.985294\n",
            "[1]\tvalidation_0-merror:0.985294\n",
            "[2]\tvalidation_0-merror:0.985294\n",
            "[3]\tvalidation_0-merror:0.985294\n",
            "[4]\tvalidation_0-merror:0.985294\n",
            "[5]\tvalidation_0-merror:0.985294\n",
            "[6]\tvalidation_0-merror:0.985294\n",
            "[7]\tvalidation_0-merror:0.985294\n",
            "[8]\tvalidation_0-merror:0.985294\n",
            "[9]\tvalidation_0-merror:0.985294\n",
            "[10]\tvalidation_0-merror:0.985294\n",
            "[11]\tvalidation_0-merror:0.985294\n",
            "[12]\tvalidation_0-merror:0.985294\n",
            "[13]\tvalidation_0-merror:0.985294\n",
            "[14]\tvalidation_0-merror:0.985294\n",
            "[15]\tvalidation_0-merror:0.985294\n",
            "[16]\tvalidation_0-merror:0.985294\n",
            "[17]\tvalidation_0-merror:0.985294\n",
            "[18]\tvalidation_0-merror:0.985294\n",
            "[19]\tvalidation_0-merror:0.985294\n",
            "[20]\tvalidation_0-merror:0.985294\n",
            "[21]\tvalidation_0-merror:0.985294\n",
            "[22]\tvalidation_0-merror:0.985294\n",
            "[23]\tvalidation_0-merror:0.985294\n",
            "[24]\tvalidation_0-merror:0.985294\n",
            "[25]\tvalidation_0-merror:0.985294\n",
            "[26]\tvalidation_0-merror:0.985294\n",
            "[27]\tvalidation_0-merror:0.985294\n",
            "[28]\tvalidation_0-merror:0.985294\n",
            "[29]\tvalidation_0-merror:0.985294\n",
            "[30]\tvalidation_0-merror:0.985294\n",
            "[31]\tvalidation_0-merror:0.985294\n",
            "[32]\tvalidation_0-merror:0.985294\n",
            "[33]\tvalidation_0-merror:0.985294\n",
            "[34]\tvalidation_0-merror:0.985294\n",
            "[35]\tvalidation_0-merror:0.985294\n",
            "[36]\tvalidation_0-merror:0.985294\n",
            "[37]\tvalidation_0-merror:0.985294\n",
            "[38]\tvalidation_0-merror:0.985294\n",
            "[39]\tvalidation_0-merror:0.985294\n",
            "[40]\tvalidation_0-merror:0.985294\n",
            "[41]\tvalidation_0-merror:0.985294\n",
            "[42]\tvalidation_0-merror:0.985294\n",
            "[43]\tvalidation_0-merror:0.985294\n",
            "[44]\tvalidation_0-merror:0.985294\n",
            "[45]\tvalidation_0-merror:0.985294\n",
            "[46]\tvalidation_0-merror:0.985294\n",
            "[47]\tvalidation_0-merror:0.985294\n",
            "[48]\tvalidation_0-merror:0.985294\n",
            "[49]\tvalidation_0-merror:0.985294\n",
            "[50]\tvalidation_0-merror:0.985294\n",
            "[51]\tvalidation_0-merror:0.985294\n",
            "[52]\tvalidation_0-merror:0.985294\n",
            "[53]\tvalidation_0-merror:0.985294\n",
            "[54]\tvalidation_0-merror:0.985294\n",
            "[55]\tvalidation_0-merror:0.985294\n",
            "[56]\tvalidation_0-merror:0.985294\n",
            "[57]\tvalidation_0-merror:0.985294\n",
            "[58]\tvalidation_0-merror:0.985294\n",
            "[59]\tvalidation_0-merror:0.985294\n",
            "[60]\tvalidation_0-merror:0.985294\n",
            "[61]\tvalidation_0-merror:0.985294\n",
            "[62]\tvalidation_0-merror:0.985294\n",
            "[63]\tvalidation_0-merror:0.985294\n",
            "[64]\tvalidation_0-merror:0.985294\n",
            "[65]\tvalidation_0-merror:0.985294\n",
            "[66]\tvalidation_0-merror:0.985294\n",
            "[67]\tvalidation_0-merror:0.985294\n",
            "[68]\tvalidation_0-merror:0.985294\n",
            "[69]\tvalidation_0-merror:0.985294\n",
            "[70]\tvalidation_0-merror:0.985294\n",
            "[71]\tvalidation_0-merror:0.985294\n",
            "[72]\tvalidation_0-merror:0.985294\n",
            "[73]\tvalidation_0-merror:0.985294\n",
            "[74]\tvalidation_0-merror:0.985294\n",
            "[75]\tvalidation_0-merror:0.985294\n",
            "[76]\tvalidation_0-merror:0.985294\n",
            "[77]\tvalidation_0-merror:0.985294\n",
            "[78]\tvalidation_0-merror:0.985294\n",
            "[79]\tvalidation_0-merror:0.985294\n",
            "[80]\tvalidation_0-merror:0.985294\n",
            "[81]\tvalidation_0-merror:0.985294\n",
            "[82]\tvalidation_0-merror:0.985294\n",
            "[83]\tvalidation_0-merror:0.985294\n",
            "[84]\tvalidation_0-merror:0.985294\n",
            "[85]\tvalidation_0-merror:0.985294\n",
            "[86]\tvalidation_0-merror:0.985294\n",
            "[87]\tvalidation_0-merror:0.985294\n",
            "[88]\tvalidation_0-merror:0.985294\n",
            "[89]\tvalidation_0-merror:0.985294\n",
            "[90]\tvalidation_0-merror:0.985294\n",
            "[91]\tvalidation_0-merror:0.985294\n",
            "[92]\tvalidation_0-merror:0.985294\n",
            "[93]\tvalidation_0-merror:0.985294\n",
            "[94]\tvalidation_0-merror:0.985294\n",
            "[95]\tvalidation_0-merror:0.985294\n",
            "[96]\tvalidation_0-merror:0.985294\n",
            "[97]\tvalidation_0-merror:0.985294\n",
            "[98]\tvalidation_0-merror:0.985294\n",
            "[99]\tvalidation_0-merror:0.985294\n"
          ]
        },
        {
          "output_type": "stream",
          "name": "stderr",
          "text": [
            "\u001b[32m[I 2022-06-13 07:24:05,449]\u001b[0m Trial 2 finished with value: 39.86764705882353 and parameters: {'lambad': 0.09125018144442715, 'alpha': 0.02096917884055731, 'colsample_bytree': 0.5, 'subsample': 0.4, 'learning_rate': 0.016, 'max_depth': 10, 'random_state': 30, 'min_child_weight': 36}. Best is trial 2 with value: 39.86764705882353.\u001b[0m\n"
          ]
        },
        {
          "output_type": "stream",
          "name": "stdout",
          "text": [
            "[07:24:05] ======== Monitor: Learner ========\n",
            "[07:24:05] EvalOneIter: 0.00830637s, 100 calls @ 83us\n",
            "[07:24:05] GetGradient: 0.00738082s, 100 calls @ 73us\n",
            "[07:24:05] PredictRaw: 0.00475438s, 100 calls @ 47us\n",
            "[07:24:05] UpdateOneIter: 11.2185s, 100 calls @ 112185us\n",
            "[07:24:05] ======== Monitor: GBTree ========\n",
            "[07:24:05] BoostNewTrees: 11.1955s, 100 calls @ 111954us\n",
            "[07:24:05] CommitModel: 0.0102665s, 100 calls @ 102us\n",
            "[07:24:05] ======== Monitor:  ========\n",
            "[07:24:05] DevicePredictInternal: 0.0103802s, 201 calls @ 51us\n",
            "[07:24:05] PredictFromCache: 0.00419427s, 199 calls @ 21us\n",
            "[07:24:05] ======== Monitor: updater_gpu_hist ========\n",
            "[07:24:05] BinningCompression: 0.00248868s, 1 calls @ 2488us\n",
            "[07:24:05] InitData: 0.268433s, 2100 calls @ 127us\n",
            "[07:24:05] InitDataOnce: 0.267885s, 1 calls @ 267885us\n",
            "[07:24:05] Quantiles: 0.257503s, 1 calls @ 257502us\n",
            "[07:24:05] Update: 11.1293s, 2100 calls @ 5299us\n",
            "[07:24:05] ======== NCCL Statistics========\n",
            "[07:24:05] AllReduce calls: 4200\n",
            "[07:24:05] AllReduce total MB communicated: 8534\n",
            "[07:24:05] ======== Monitor: HistCutMatrix ========\n",
            "[07:24:05] ======== Monitor: DeviceShard0 ========\n",
            "[07:24:05] AllReduce: 0.0101275s, 2100 calls @ 4us\n",
            "[07:24:05] FinalisePosition: 0.0202793s, 2100 calls @ 9us\n",
            "[07:24:05] InitRoot: 10.5067s, 2100 calls @ 5003us\n",
            "[07:24:05] Reset: 0.323291s, 2100 calls @ 153us\n",
            "[07:24:05] ======== Monitor: HistCutMatrix ========\n",
            "[0]\tvalidation_0-merror:0.985294\n",
            "[1]\tvalidation_0-merror:0.985294\n",
            "[2]\tvalidation_0-merror:0.985294\n",
            "[3]\tvalidation_0-merror:0.985294\n",
            "[4]\tvalidation_0-merror:0.985294\n",
            "[5]\tvalidation_0-merror:0.985294\n",
            "[6]\tvalidation_0-merror:0.985294\n",
            "[7]\tvalidation_0-merror:0.985294\n",
            "[8]\tvalidation_0-merror:0.985294\n",
            "[9]\tvalidation_0-merror:0.985294\n",
            "[10]\tvalidation_0-merror:0.985294\n",
            "[11]\tvalidation_0-merror:0.985294\n",
            "[12]\tvalidation_0-merror:0.985294\n",
            "[13]\tvalidation_0-merror:0.985294\n",
            "[14]\tvalidation_0-merror:0.985294\n",
            "[15]\tvalidation_0-merror:0.985294\n",
            "[16]\tvalidation_0-merror:0.985294\n",
            "[17]\tvalidation_0-merror:0.985294\n",
            "[18]\tvalidation_0-merror:0.985294\n",
            "[19]\tvalidation_0-merror:0.985294\n",
            "[20]\tvalidation_0-merror:0.985294\n",
            "[21]\tvalidation_0-merror:0.985294\n",
            "[22]\tvalidation_0-merror:0.985294\n",
            "[23]\tvalidation_0-merror:0.985294\n",
            "[24]\tvalidation_0-merror:0.985294\n",
            "[25]\tvalidation_0-merror:0.985294\n",
            "[26]\tvalidation_0-merror:0.985294\n",
            "[27]\tvalidation_0-merror:0.985294\n",
            "[28]\tvalidation_0-merror:0.985294\n",
            "[29]\tvalidation_0-merror:0.985294\n",
            "[30]\tvalidation_0-merror:0.985294\n",
            "[31]\tvalidation_0-merror:0.985294\n",
            "[32]\tvalidation_0-merror:0.985294\n",
            "[33]\tvalidation_0-merror:0.985294\n",
            "[34]\tvalidation_0-merror:0.985294\n",
            "[35]\tvalidation_0-merror:0.985294\n",
            "[36]\tvalidation_0-merror:0.985294\n",
            "[37]\tvalidation_0-merror:0.985294\n",
            "[38]\tvalidation_0-merror:0.985294\n",
            "[39]\tvalidation_0-merror:0.985294\n",
            "[40]\tvalidation_0-merror:0.985294\n",
            "[41]\tvalidation_0-merror:0.985294\n",
            "[42]\tvalidation_0-merror:0.985294\n",
            "[43]\tvalidation_0-merror:0.985294\n",
            "[44]\tvalidation_0-merror:0.985294\n",
            "[45]\tvalidation_0-merror:0.985294\n",
            "[46]\tvalidation_0-merror:0.985294\n",
            "[47]\tvalidation_0-merror:0.985294\n",
            "[48]\tvalidation_0-merror:0.985294\n",
            "[49]\tvalidation_0-merror:0.985294\n",
            "[50]\tvalidation_0-merror:0.985294\n",
            "[51]\tvalidation_0-merror:0.985294\n",
            "[52]\tvalidation_0-merror:0.985294\n",
            "[53]\tvalidation_0-merror:0.985294\n",
            "[54]\tvalidation_0-merror:0.985294\n",
            "[55]\tvalidation_0-merror:0.985294\n",
            "[56]\tvalidation_0-merror:0.985294\n",
            "[57]\tvalidation_0-merror:0.985294\n",
            "[58]\tvalidation_0-merror:0.985294\n",
            "[59]\tvalidation_0-merror:0.985294\n",
            "[60]\tvalidation_0-merror:0.985294\n",
            "[61]\tvalidation_0-merror:0.985294\n",
            "[62]\tvalidation_0-merror:0.985294\n",
            "[63]\tvalidation_0-merror:0.985294\n",
            "[64]\tvalidation_0-merror:0.985294\n",
            "[65]\tvalidation_0-merror:0.985294\n",
            "[66]\tvalidation_0-merror:0.985294\n",
            "[67]\tvalidation_0-merror:0.985294\n",
            "[68]\tvalidation_0-merror:0.985294\n",
            "[69]\tvalidation_0-merror:0.985294\n",
            "[70]\tvalidation_0-merror:0.985294\n",
            "[71]\tvalidation_0-merror:0.985294\n",
            "[72]\tvalidation_0-merror:0.985294\n",
            "[73]\tvalidation_0-merror:0.985294\n",
            "[74]\tvalidation_0-merror:0.985294\n",
            "[75]\tvalidation_0-merror:0.985294\n",
            "[76]\tvalidation_0-merror:0.985294\n",
            "[77]\tvalidation_0-merror:0.985294\n",
            "[78]\tvalidation_0-merror:0.985294\n",
            "[79]\tvalidation_0-merror:0.985294\n",
            "[80]\tvalidation_0-merror:0.985294\n",
            "[81]\tvalidation_0-merror:0.985294\n",
            "[82]\tvalidation_0-merror:0.985294\n",
            "[83]\tvalidation_0-merror:0.985294\n",
            "[84]\tvalidation_0-merror:0.985294\n",
            "[85]\tvalidation_0-merror:0.985294\n",
            "[86]\tvalidation_0-merror:0.985294\n",
            "[87]\tvalidation_0-merror:0.985294\n",
            "[88]\tvalidation_0-merror:0.985294\n",
            "[89]\tvalidation_0-merror:0.985294\n",
            "[90]\tvalidation_0-merror:0.985294\n",
            "[91]\tvalidation_0-merror:0.985294\n",
            "[92]\tvalidation_0-merror:0.985294\n",
            "[93]\tvalidation_0-merror:0.985294\n",
            "[94]\tvalidation_0-merror:0.985294\n",
            "[95]\tvalidation_0-merror:0.985294\n",
            "[96]\tvalidation_0-merror:0.985294\n",
            "[97]\tvalidation_0-merror:0.985294\n",
            "[98]\tvalidation_0-merror:0.985294\n",
            "[99]\tvalidation_0-merror:0.985294\n"
          ]
        },
        {
          "output_type": "stream",
          "name": "stderr",
          "text": [
            "\u001b[32m[I 2022-06-13 07:24:16,910]\u001b[0m Trial 3 finished with value: 39.86764705882353 and parameters: {'lambad': 0.7697630180413847, 'alpha': 0.0019817957147868115, 'colsample_bytree': 0.5, 'subsample': 0.4, 'learning_rate': 0.014, 'max_depth': 3, 'random_state': 20, 'min_child_weight': 26}. Best is trial 2 with value: 39.86764705882353.\u001b[0m\n"
          ]
        },
        {
          "output_type": "stream",
          "name": "stdout",
          "text": [
            "[07:24:16] ======== Monitor: Learner ========\n",
            "[07:24:16] EvalOneIter: 0.00856363s, 100 calls @ 85us\n",
            "[07:24:16] GetGradient: 0.00744963s, 100 calls @ 74us\n",
            "[07:24:16] PredictRaw: 0.00338702s, 100 calls @ 33us\n",
            "[07:24:16] UpdateOneIter: 11.2252s, 100 calls @ 112251us\n",
            "[07:24:16] ======== Monitor: GBTree ========\n",
            "[07:24:16] BoostNewTrees: 11.2034s, 100 calls @ 112034us\n",
            "[07:24:16] CommitModel: 0.0101777s, 100 calls @ 101us\n",
            "[07:24:16] ======== Monitor:  ========\n",
            "[07:24:16] DevicePredictInternal: 0.0103979s, 201 calls @ 51us\n",
            "[07:24:16] PredictFromCache: 0.00432772s, 199 calls @ 21us\n",
            "[07:24:16] ======== Monitor: updater_gpu_hist ========\n",
            "[07:24:16] BinningCompression: 0.00246393s, 1 calls @ 2463us\n",
            "[07:24:16] InitData: 0.269933s, 2100 calls @ 128us\n",
            "[07:24:16] InitDataOnce: 0.269385s, 1 calls @ 269385us\n",
            "[07:24:16] Quantiles: 0.258989s, 1 calls @ 258989us\n",
            "[07:24:16] Update: 11.1357s, 2100 calls @ 5302us\n",
            "[07:24:16] ======== NCCL Statistics========\n",
            "[07:24:16] AllReduce calls: 4200\n",
            "[07:24:16] AllReduce total MB communicated: 8534\n",
            "[07:24:16] ======== Monitor: HistCutMatrix ========\n",
            "[07:24:16] ======== Monitor: DeviceShard0 ========\n",
            "[07:24:16] AllReduce: 0.0102977s, 2100 calls @ 4us\n",
            "[07:24:16] FinalisePosition: 0.020728s, 2100 calls @ 9us\n",
            "[07:24:16] InitRoot: 10.5122s, 2100 calls @ 5005us\n",
            "[07:24:16] Reset: 0.322004s, 2100 calls @ 153us\n",
            "[07:24:16] ======== Monitor: HistCutMatrix ========\n",
            "[0]\tvalidation_0-merror:0.941176\n",
            "[1]\tvalidation_0-merror:0.941176\n",
            "[2]\tvalidation_0-merror:0.941176\n",
            "[3]\tvalidation_0-merror:0.941176\n",
            "[4]\tvalidation_0-merror:0.941176\n",
            "[5]\tvalidation_0-merror:0.941176\n",
            "[6]\tvalidation_0-merror:0.941176\n",
            "[7]\tvalidation_0-merror:0.941176\n",
            "[8]\tvalidation_0-merror:0.941176\n",
            "[9]\tvalidation_0-merror:0.941176\n",
            "[10]\tvalidation_0-merror:0.941176\n",
            "[11]\tvalidation_0-merror:0.941176\n",
            "[12]\tvalidation_0-merror:0.941176\n",
            "[13]\tvalidation_0-merror:0.941176\n",
            "[14]\tvalidation_0-merror:0.941176\n",
            "[15]\tvalidation_0-merror:0.941176\n",
            "[16]\tvalidation_0-merror:0.941176\n",
            "[17]\tvalidation_0-merror:0.941176\n",
            "[18]\tvalidation_0-merror:0.941176\n",
            "[19]\tvalidation_0-merror:0.941176\n",
            "[20]\tvalidation_0-merror:0.941176\n",
            "[21]\tvalidation_0-merror:0.941176\n",
            "[22]\tvalidation_0-merror:0.941176\n",
            "[23]\tvalidation_0-merror:0.941176\n",
            "[24]\tvalidation_0-merror:0.941176\n",
            "[25]\tvalidation_0-merror:0.941176\n",
            "[26]\tvalidation_0-merror:0.941176\n",
            "[27]\tvalidation_0-merror:0.941176\n",
            "[28]\tvalidation_0-merror:0.941176\n",
            "[29]\tvalidation_0-merror:0.941176\n",
            "[30]\tvalidation_0-merror:0.941176\n",
            "[31]\tvalidation_0-merror:0.941176\n",
            "[32]\tvalidation_0-merror:0.941176\n",
            "[33]\tvalidation_0-merror:0.941176\n",
            "[34]\tvalidation_0-merror:0.941176\n",
            "[35]\tvalidation_0-merror:0.941176\n",
            "[36]\tvalidation_0-merror:0.941176\n",
            "[37]\tvalidation_0-merror:0.941176\n",
            "[38]\tvalidation_0-merror:0.941176\n",
            "[39]\tvalidation_0-merror:0.941176\n",
            "[40]\tvalidation_0-merror:0.941176\n",
            "[41]\tvalidation_0-merror:0.941176\n",
            "[42]\tvalidation_0-merror:0.941176\n",
            "[43]\tvalidation_0-merror:0.941176\n",
            "[44]\tvalidation_0-merror:0.941176\n",
            "[45]\tvalidation_0-merror:0.941176\n",
            "[46]\tvalidation_0-merror:0.941176\n",
            "[47]\tvalidation_0-merror:0.941176\n",
            "[48]\tvalidation_0-merror:0.941176\n",
            "[49]\tvalidation_0-merror:0.941176\n",
            "[50]\tvalidation_0-merror:0.941176\n",
            "[51]\tvalidation_0-merror:0.941176\n",
            "[52]\tvalidation_0-merror:0.941176\n",
            "[53]\tvalidation_0-merror:0.941176\n",
            "[54]\tvalidation_0-merror:0.941176\n",
            "[55]\tvalidation_0-merror:0.941176\n",
            "[56]\tvalidation_0-merror:0.941176\n",
            "[57]\tvalidation_0-merror:0.941176\n",
            "[58]\tvalidation_0-merror:0.941176\n",
            "[59]\tvalidation_0-merror:0.941176\n",
            "[60]\tvalidation_0-merror:0.941176\n",
            "[61]\tvalidation_0-merror:0.941176\n",
            "[62]\tvalidation_0-merror:0.941176\n",
            "[63]\tvalidation_0-merror:0.941176\n",
            "[64]\tvalidation_0-merror:0.941176\n",
            "[65]\tvalidation_0-merror:0.941176\n",
            "[66]\tvalidation_0-merror:0.941176\n",
            "[67]\tvalidation_0-merror:0.941176\n",
            "[68]\tvalidation_0-merror:0.941176\n",
            "[69]\tvalidation_0-merror:0.941176\n",
            "[70]\tvalidation_0-merror:0.941176\n",
            "[71]\tvalidation_0-merror:0.941176\n",
            "[72]\tvalidation_0-merror:0.941176\n",
            "[73]\tvalidation_0-merror:0.941176\n",
            "[74]\tvalidation_0-merror:0.941176\n",
            "[75]\tvalidation_0-merror:0.941176\n",
            "[76]\tvalidation_0-merror:0.941176\n",
            "[77]\tvalidation_0-merror:0.941176\n",
            "[78]\tvalidation_0-merror:0.941176\n",
            "[79]\tvalidation_0-merror:0.941176\n",
            "[80]\tvalidation_0-merror:0.941176\n",
            "[81]\tvalidation_0-merror:0.941176\n",
            "[82]\tvalidation_0-merror:0.941176\n",
            "[83]\tvalidation_0-merror:0.941176\n",
            "[84]\tvalidation_0-merror:0.941176\n",
            "[85]\tvalidation_0-merror:0.941176\n",
            "[86]\tvalidation_0-merror:0.941176\n",
            "[87]\tvalidation_0-merror:0.941176\n",
            "[88]\tvalidation_0-merror:0.941176\n",
            "[89]\tvalidation_0-merror:0.941176\n",
            "[90]\tvalidation_0-merror:0.941176\n",
            "[91]\tvalidation_0-merror:0.941176\n",
            "[92]\tvalidation_0-merror:0.941176\n",
            "[93]\tvalidation_0-merror:0.941176\n",
            "[94]\tvalidation_0-merror:0.941176\n",
            "[95]\tvalidation_0-merror:0.941176\n",
            "[96]\tvalidation_0-merror:0.941176\n",
            "[97]\tvalidation_0-merror:0.941176\n",
            "[98]\tvalidation_0-merror:0.941176\n",
            "[99]\tvalidation_0-merror:0.941176\n"
          ]
        },
        {
          "output_type": "stream",
          "name": "stderr",
          "text": [
            "\u001b[32m[I 2022-06-13 07:24:28,086]\u001b[0m Trial 4 finished with value: 136.63235294117646 and parameters: {'lambad': 0.9173518198144954, 'alpha': 9.235439139604082, 'colsample_bytree': 0.2, 'subsample': 0.2, 'learning_rate': 1e-05, 'max_depth': 10, 'random_state': 20, 'min_child_weight': 100}. Best is trial 2 with value: 39.86764705882353.\u001b[0m\n"
          ]
        },
        {
          "output_type": "stream",
          "name": "stdout",
          "text": [
            "[07:24:28] ======== Monitor: Learner ========\n",
            "[07:24:28] EvalOneIter: 0.00827678s, 100 calls @ 82us\n",
            "[07:24:28] GetGradient: 0.00746947s, 100 calls @ 74us\n",
            "[07:24:28] PredictRaw: 0.00346928s, 100 calls @ 34us\n",
            "[07:24:28] UpdateOneIter: 10.9537s, 100 calls @ 109537us\n",
            "[07:24:28] ======== Monitor: GBTree ========\n",
            "[07:24:28] BoostNewTrees: 10.9321s, 100 calls @ 109321us\n",
            "[07:24:28] CommitModel: 0.00998748s, 100 calls @ 99us\n",
            "[07:24:28] ======== Monitor:  ========\n",
            "[07:24:28] DevicePredictInternal: 0.0103527s, 201 calls @ 51us\n",
            "[07:24:28] PredictFromCache: 0.00424111s, 199 calls @ 21us\n",
            "[07:24:28] ======== Monitor: updater_gpu_hist ========\n",
            "[07:24:28] BinningCompression: 0.00246498s, 1 calls @ 2464us\n",
            "[07:24:28] InitData: 0.267214s, 2100 calls @ 127us\n",
            "[07:24:28] InitDataOnce: 0.266659s, 1 calls @ 266658us\n",
            "[07:24:28] Quantiles: 0.25631s, 1 calls @ 256310us\n",
            "[07:24:28] Update: 10.8653s, 2100 calls @ 5173us\n",
            "[07:24:28] ======== NCCL Statistics========\n",
            "[07:24:28] AllReduce calls: 4200\n",
            "[07:24:28] AllReduce total MB communicated: 8534\n",
            "[07:24:28] ======== Monitor: HistCutMatrix ========\n",
            "[07:24:28] ======== Monitor: DeviceShard0 ========\n",
            "[07:24:28] AllReduce: 0.0102349s, 2100 calls @ 4us\n",
            "[07:24:28] FinalisePosition: 0.0194165s, 2100 calls @ 9us\n",
            "[07:24:28] InitRoot: 10.2768s, 2100 calls @ 4893us\n",
            "[07:24:28] Reset: 0.291582s, 2100 calls @ 138us\n",
            "[07:24:28] ======== Monitor: HistCutMatrix ========\n",
            "[0]\tvalidation_0-merror:0.941176\n",
            "[1]\tvalidation_0-merror:0.941176\n",
            "[2]\tvalidation_0-merror:0.941176\n",
            "[3]\tvalidation_0-merror:0.941176\n",
            "[4]\tvalidation_0-merror:0.941176\n",
            "[5]\tvalidation_0-merror:0.941176\n",
            "[6]\tvalidation_0-merror:0.941176\n",
            "[7]\tvalidation_0-merror:0.941176\n",
            "[8]\tvalidation_0-merror:0.941176\n",
            "[9]\tvalidation_0-merror:0.941176\n",
            "[10]\tvalidation_0-merror:0.941176\n",
            "[11]\tvalidation_0-merror:0.941176\n",
            "[12]\tvalidation_0-merror:0.941176\n",
            "[13]\tvalidation_0-merror:0.941176\n",
            "[14]\tvalidation_0-merror:0.941176\n",
            "[15]\tvalidation_0-merror:0.941176\n",
            "[16]\tvalidation_0-merror:0.941176\n",
            "[17]\tvalidation_0-merror:0.941176\n",
            "[18]\tvalidation_0-merror:0.941176\n",
            "[19]\tvalidation_0-merror:0.941176\n",
            "[20]\tvalidation_0-merror:0.941176\n",
            "[21]\tvalidation_0-merror:0.941176\n",
            "[22]\tvalidation_0-merror:0.941176\n",
            "[23]\tvalidation_0-merror:0.941176\n",
            "[24]\tvalidation_0-merror:0.941176\n",
            "[25]\tvalidation_0-merror:0.941176\n",
            "[26]\tvalidation_0-merror:0.941176\n",
            "[27]\tvalidation_0-merror:0.941176\n",
            "[28]\tvalidation_0-merror:0.941176\n",
            "[29]\tvalidation_0-merror:0.941176\n",
            "[30]\tvalidation_0-merror:0.941176\n",
            "[31]\tvalidation_0-merror:0.941176\n",
            "[32]\tvalidation_0-merror:0.941176\n",
            "[33]\tvalidation_0-merror:0.941176\n",
            "[34]\tvalidation_0-merror:0.941176\n",
            "[35]\tvalidation_0-merror:0.941176\n",
            "[36]\tvalidation_0-merror:0.941176\n",
            "[37]\tvalidation_0-merror:0.941176\n",
            "[38]\tvalidation_0-merror:0.941176\n",
            "[39]\tvalidation_0-merror:0.941176\n",
            "[40]\tvalidation_0-merror:0.941176\n",
            "[41]\tvalidation_0-merror:0.941176\n",
            "[42]\tvalidation_0-merror:0.941176\n",
            "[43]\tvalidation_0-merror:0.941176\n",
            "[44]\tvalidation_0-merror:0.941176\n",
            "[45]\tvalidation_0-merror:0.941176\n",
            "[46]\tvalidation_0-merror:0.941176\n",
            "[47]\tvalidation_0-merror:0.941176\n",
            "[48]\tvalidation_0-merror:0.941176\n",
            "[49]\tvalidation_0-merror:0.941176\n",
            "[50]\tvalidation_0-merror:0.941176\n",
            "[51]\tvalidation_0-merror:0.941176\n",
            "[52]\tvalidation_0-merror:0.941176\n",
            "[53]\tvalidation_0-merror:0.941176\n",
            "[54]\tvalidation_0-merror:0.941176\n",
            "[55]\tvalidation_0-merror:0.941176\n",
            "[56]\tvalidation_0-merror:0.941176\n",
            "[57]\tvalidation_0-merror:0.941176\n",
            "[58]\tvalidation_0-merror:0.941176\n",
            "[59]\tvalidation_0-merror:0.941176\n",
            "[60]\tvalidation_0-merror:0.941176\n",
            "[61]\tvalidation_0-merror:0.941176\n",
            "[62]\tvalidation_0-merror:0.941176\n",
            "[63]\tvalidation_0-merror:0.941176\n",
            "[64]\tvalidation_0-merror:0.941176\n",
            "[65]\tvalidation_0-merror:0.941176\n",
            "[66]\tvalidation_0-merror:0.941176\n",
            "[67]\tvalidation_0-merror:0.941176\n",
            "[68]\tvalidation_0-merror:0.941176\n",
            "[69]\tvalidation_0-merror:0.941176\n",
            "[70]\tvalidation_0-merror:0.941176\n",
            "[71]\tvalidation_0-merror:0.941176\n",
            "[72]\tvalidation_0-merror:0.941176\n",
            "[73]\tvalidation_0-merror:0.941176\n",
            "[74]\tvalidation_0-merror:0.941176\n",
            "[75]\tvalidation_0-merror:0.941176\n",
            "[76]\tvalidation_0-merror:0.941176\n",
            "[77]\tvalidation_0-merror:0.941176\n",
            "[78]\tvalidation_0-merror:0.941176\n",
            "[79]\tvalidation_0-merror:0.941176\n",
            "[80]\tvalidation_0-merror:0.941176\n",
            "[81]\tvalidation_0-merror:0.941176\n",
            "[82]\tvalidation_0-merror:0.941176\n",
            "[83]\tvalidation_0-merror:0.941176\n",
            "[84]\tvalidation_0-merror:0.941176\n",
            "[85]\tvalidation_0-merror:0.941176\n",
            "[86]\tvalidation_0-merror:0.941176\n",
            "[87]\tvalidation_0-merror:0.941176\n",
            "[88]\tvalidation_0-merror:0.941176\n",
            "[89]\tvalidation_0-merror:0.941176\n",
            "[90]\tvalidation_0-merror:0.941176\n",
            "[91]\tvalidation_0-merror:0.941176\n",
            "[92]\tvalidation_0-merror:0.941176\n",
            "[93]\tvalidation_0-merror:0.941176\n",
            "[94]\tvalidation_0-merror:0.941176\n",
            "[95]\tvalidation_0-merror:0.941176\n",
            "[96]\tvalidation_0-merror:0.941176\n",
            "[97]\tvalidation_0-merror:0.941176\n",
            "[98]\tvalidation_0-merror:0.941176\n",
            "[99]\tvalidation_0-merror:0.941176\n"
          ]
        },
        {
          "output_type": "stream",
          "name": "stderr",
          "text": [
            "\u001b[32m[I 2022-06-13 07:24:39,386]\u001b[0m Trial 5 finished with value: 136.63235294117646 and parameters: {'lambad': 0.002819521977128983, 'alpha': 0.03784005598317077, 'colsample_bytree': 0.4, 'subsample': 0.1, 'learning_rate': 1, 'max_depth': 10, 'random_state': 20, 'min_child_weight': 160}. Best is trial 2 with value: 39.86764705882353.\u001b[0m\n"
          ]
        },
        {
          "output_type": "stream",
          "name": "stdout",
          "text": [
            "[07:24:39] ======== Monitor: Learner ========\n",
            "[07:24:39] EvalOneIter: 0.00792373s, 100 calls @ 79us\n",
            "[07:24:39] GetGradient: 0.00885016s, 100 calls @ 88us\n",
            "[07:24:39] PredictRaw: 0.00316106s, 100 calls @ 31us\n",
            "[07:24:39] UpdateOneIter: 11.0868s, 100 calls @ 110867us\n",
            "[07:24:39] ======== Monitor: GBTree ========\n",
            "[07:24:39] BoostNewTrees: 11.0642s, 100 calls @ 110642us\n",
            "[07:24:39] CommitModel: 0.00994692s, 100 calls @ 99us\n",
            "[07:24:39] ======== Monitor:  ========\n",
            "[07:24:39] DevicePredictInternal: 0.0103702s, 201 calls @ 51us\n",
            "[07:24:39] PredictFromCache: 0.00399527s, 199 calls @ 20us\n",
            "[07:24:39] ======== Monitor: updater_gpu_hist ========\n",
            "[07:24:39] BinningCompression: 0.00252641s, 1 calls @ 2526us\n",
            "[07:24:39] InitData: 0.256545s, 2100 calls @ 122us\n",
            "[07:24:39] InitDataOnce: 0.255995s, 1 calls @ 255994us\n",
            "[07:24:39] Quantiles: 0.244399s, 1 calls @ 244398us\n",
            "[07:24:39] Update: 10.9992s, 2100 calls @ 5237us\n",
            "[07:24:39] ======== NCCL Statistics========\n",
            "[07:24:39] AllReduce calls: 4200\n",
            "[07:24:39] AllReduce total MB communicated: 8534\n",
            "[07:24:39] ======== Monitor: HistCutMatrix ========\n",
            "[07:24:39] ======== Monitor: DeviceShard0 ========\n",
            "[07:24:39] AllReduce: 0.00991196s, 2100 calls @ 4us\n",
            "[07:24:39] FinalisePosition: 0.0193561s, 2100 calls @ 9us\n",
            "[07:24:39] InitRoot: 10.4041s, 2100 calls @ 4954us\n",
            "[07:24:39] Reset: 0.308923s, 2100 calls @ 147us\n",
            "[07:24:39] ======== Monitor: HistCutMatrix ========\n",
            "[0]\tvalidation_0-merror:0.941176\n",
            "[1]\tvalidation_0-merror:0.941176\n",
            "[2]\tvalidation_0-merror:0.941176\n",
            "[3]\tvalidation_0-merror:0.941176\n",
            "[4]\tvalidation_0-merror:0.941176\n",
            "[5]\tvalidation_0-merror:0.941176\n",
            "[6]\tvalidation_0-merror:0.941176\n",
            "[7]\tvalidation_0-merror:0.941176\n",
            "[8]\tvalidation_0-merror:0.941176\n",
            "[9]\tvalidation_0-merror:0.941176\n",
            "[10]\tvalidation_0-merror:0.941176\n",
            "[11]\tvalidation_0-merror:0.941176\n",
            "[12]\tvalidation_0-merror:0.941176\n",
            "[13]\tvalidation_0-merror:0.941176\n",
            "[14]\tvalidation_0-merror:0.941176\n",
            "[15]\tvalidation_0-merror:0.941176\n",
            "[16]\tvalidation_0-merror:0.941176\n",
            "[17]\tvalidation_0-merror:0.941176\n",
            "[18]\tvalidation_0-merror:0.941176\n",
            "[19]\tvalidation_0-merror:0.941176\n",
            "[20]\tvalidation_0-merror:0.941176\n",
            "[21]\tvalidation_0-merror:0.941176\n",
            "[22]\tvalidation_0-merror:0.941176\n",
            "[23]\tvalidation_0-merror:0.941176\n",
            "[24]\tvalidation_0-merror:0.941176\n",
            "[25]\tvalidation_0-merror:0.941176\n",
            "[26]\tvalidation_0-merror:0.941176\n",
            "[27]\tvalidation_0-merror:0.941176\n",
            "[28]\tvalidation_0-merror:0.941176\n",
            "[29]\tvalidation_0-merror:0.941176\n",
            "[30]\tvalidation_0-merror:0.941176\n",
            "[31]\tvalidation_0-merror:0.941176\n",
            "[32]\tvalidation_0-merror:0.941176\n",
            "[33]\tvalidation_0-merror:0.941176\n",
            "[34]\tvalidation_0-merror:0.941176\n",
            "[35]\tvalidation_0-merror:0.941176\n",
            "[36]\tvalidation_0-merror:0.941176\n",
            "[37]\tvalidation_0-merror:0.941176\n",
            "[38]\tvalidation_0-merror:0.941176\n",
            "[39]\tvalidation_0-merror:0.941176\n",
            "[40]\tvalidation_0-merror:0.941176\n",
            "[41]\tvalidation_0-merror:0.941176\n",
            "[42]\tvalidation_0-merror:0.941176\n",
            "[43]\tvalidation_0-merror:0.941176\n",
            "[44]\tvalidation_0-merror:0.941176\n",
            "[45]\tvalidation_0-merror:0.941176\n",
            "[46]\tvalidation_0-merror:0.941176\n",
            "[47]\tvalidation_0-merror:0.941176\n",
            "[48]\tvalidation_0-merror:0.941176\n",
            "[49]\tvalidation_0-merror:0.941176\n",
            "[50]\tvalidation_0-merror:0.941176\n",
            "[51]\tvalidation_0-merror:0.941176\n",
            "[52]\tvalidation_0-merror:0.941176\n",
            "[53]\tvalidation_0-merror:0.941176\n",
            "[54]\tvalidation_0-merror:0.941176\n",
            "[55]\tvalidation_0-merror:0.941176\n",
            "[56]\tvalidation_0-merror:0.941176\n",
            "[57]\tvalidation_0-merror:0.941176\n",
            "[58]\tvalidation_0-merror:0.941176\n",
            "[59]\tvalidation_0-merror:0.941176\n",
            "[60]\tvalidation_0-merror:0.941176\n",
            "[61]\tvalidation_0-merror:0.941176\n",
            "[62]\tvalidation_0-merror:0.941176\n",
            "[63]\tvalidation_0-merror:0.941176\n",
            "[64]\tvalidation_0-merror:0.941176\n",
            "[65]\tvalidation_0-merror:0.941176\n",
            "[66]\tvalidation_0-merror:0.941176\n",
            "[67]\tvalidation_0-merror:0.941176\n",
            "[68]\tvalidation_0-merror:0.941176\n",
            "[69]\tvalidation_0-merror:0.941176\n",
            "[70]\tvalidation_0-merror:0.941176\n",
            "[71]\tvalidation_0-merror:0.941176\n",
            "[72]\tvalidation_0-merror:0.941176\n",
            "[73]\tvalidation_0-merror:0.941176\n",
            "[74]\tvalidation_0-merror:0.941176\n",
            "[75]\tvalidation_0-merror:0.941176\n",
            "[76]\tvalidation_0-merror:0.941176\n",
            "[77]\tvalidation_0-merror:0.941176\n",
            "[78]\tvalidation_0-merror:0.941176\n",
            "[79]\tvalidation_0-merror:0.941176\n",
            "[80]\tvalidation_0-merror:0.941176\n",
            "[81]\tvalidation_0-merror:0.941176\n",
            "[82]\tvalidation_0-merror:0.941176\n",
            "[83]\tvalidation_0-merror:0.941176\n",
            "[84]\tvalidation_0-merror:0.941176\n",
            "[85]\tvalidation_0-merror:0.941176\n",
            "[86]\tvalidation_0-merror:0.941176\n",
            "[87]\tvalidation_0-merror:0.941176\n",
            "[88]\tvalidation_0-merror:0.941176\n",
            "[89]\tvalidation_0-merror:0.941176\n",
            "[90]\tvalidation_0-merror:0.941176\n",
            "[91]\tvalidation_0-merror:0.941176\n",
            "[92]\tvalidation_0-merror:0.941176\n",
            "[93]\tvalidation_0-merror:0.941176\n",
            "[94]\tvalidation_0-merror:0.941176\n",
            "[95]\tvalidation_0-merror:0.941176\n",
            "[96]\tvalidation_0-merror:0.941176\n",
            "[97]\tvalidation_0-merror:0.941176\n",
            "[98]\tvalidation_0-merror:0.941176\n",
            "[99]\tvalidation_0-merror:0.941176\n"
          ]
        },
        {
          "output_type": "stream",
          "name": "stderr",
          "text": [
            "\u001b[32m[I 2022-06-13 07:24:50,964]\u001b[0m Trial 6 finished with value: 136.63235294117646 and parameters: {'lambad': 0.37660460384692107, 'alpha': 0.16543062407637754, 'colsample_bytree': 0.8, 'subsample': 0.6, 'learning_rate': 0.012, 'max_depth': 8, 'random_state': 3454, 'min_child_weight': 174}. Best is trial 2 with value: 39.86764705882353.\u001b[0m\n"
          ]
        },
        {
          "output_type": "stream",
          "name": "stdout",
          "text": [
            "[07:24:50] ======== Monitor: Learner ========\n",
            "[07:24:50] EvalOneIter: 0.00788225s, 100 calls @ 78us\n",
            "[07:24:50] GetGradient: 0.00741326s, 100 calls @ 74us\n",
            "[07:24:50] PredictRaw: 0.00449658s, 100 calls @ 44us\n",
            "[07:24:50] UpdateOneIter: 11.3745s, 100 calls @ 113744us\n",
            "[07:24:50] ======== Monitor: GBTree ========\n",
            "[07:24:50] BoostNewTrees: 11.3524s, 100 calls @ 113523us\n",
            "[07:24:50] CommitModel: 0.00957925s, 100 calls @ 95us\n",
            "[07:24:50] ======== Monitor:  ========\n",
            "[07:24:50] DevicePredictInternal: 0.00996635s, 201 calls @ 49us\n",
            "[07:24:50] PredictFromCache: 0.00536929s, 199 calls @ 26us\n",
            "[07:24:50] ======== Monitor: updater_gpu_hist ========\n",
            "[07:24:50] BinningCompression: 0.00245272s, 1 calls @ 2452us\n",
            "[07:24:50] InitData: 0.264099s, 2100 calls @ 125us\n",
            "[07:24:50] InitDataOnce: 0.263523s, 1 calls @ 263522us\n",
            "[07:24:50] Quantiles: 0.253325s, 1 calls @ 253325us\n",
            "[07:24:50] Update: 11.2867s, 2100 calls @ 5374us\n",
            "[07:24:50] ======== NCCL Statistics========\n",
            "[07:24:50] AllReduce calls: 4200\n",
            "[07:24:50] AllReduce total MB communicated: 8534\n",
            "[07:24:50] ======== Monitor: HistCutMatrix ========\n",
            "[07:24:50] ======== Monitor: DeviceShard0 ========\n",
            "[07:24:50] AllReduce: 0.0100992s, 2100 calls @ 4us\n",
            "[07:24:50] FinalisePosition: 0.0205502s, 2100 calls @ 9us\n",
            "[07:24:50] InitRoot: 10.6443s, 2100 calls @ 5068us\n",
            "[07:24:50] Reset: 0.347374s, 2100 calls @ 165us\n",
            "[07:24:50] ======== Monitor: HistCutMatrix ========\n",
            "[0]\tvalidation_0-merror:0.941176\n",
            "[1]\tvalidation_0-merror:0.941176\n",
            "[2]\tvalidation_0-merror:0.941176\n",
            "[3]\tvalidation_0-merror:0.941176\n",
            "[4]\tvalidation_0-merror:0.941176\n",
            "[5]\tvalidation_0-merror:0.941176\n",
            "[6]\tvalidation_0-merror:0.941176\n",
            "[7]\tvalidation_0-merror:0.941176\n",
            "[8]\tvalidation_0-merror:0.941176\n",
            "[9]\tvalidation_0-merror:0.941176\n",
            "[10]\tvalidation_0-merror:0.941176\n",
            "[11]\tvalidation_0-merror:0.941176\n",
            "[12]\tvalidation_0-merror:0.941176\n",
            "[13]\tvalidation_0-merror:0.941176\n",
            "[14]\tvalidation_0-merror:0.941176\n",
            "[15]\tvalidation_0-merror:0.941176\n",
            "[16]\tvalidation_0-merror:0.941176\n",
            "[17]\tvalidation_0-merror:0.941176\n",
            "[18]\tvalidation_0-merror:0.941176\n",
            "[19]\tvalidation_0-merror:0.941176\n",
            "[20]\tvalidation_0-merror:0.941176\n",
            "[21]\tvalidation_0-merror:0.941176\n",
            "[22]\tvalidation_0-merror:0.941176\n",
            "[23]\tvalidation_0-merror:0.941176\n",
            "[24]\tvalidation_0-merror:0.941176\n",
            "[25]\tvalidation_0-merror:0.941176\n",
            "[26]\tvalidation_0-merror:0.941176\n",
            "[27]\tvalidation_0-merror:0.941176\n",
            "[28]\tvalidation_0-merror:0.941176\n",
            "[29]\tvalidation_0-merror:0.941176\n",
            "[30]\tvalidation_0-merror:0.941176\n",
            "[31]\tvalidation_0-merror:0.941176\n",
            "[32]\tvalidation_0-merror:0.941176\n",
            "[33]\tvalidation_0-merror:0.941176\n",
            "[34]\tvalidation_0-merror:0.941176\n",
            "[35]\tvalidation_0-merror:0.941176\n",
            "[36]\tvalidation_0-merror:0.941176\n",
            "[37]\tvalidation_0-merror:0.941176\n",
            "[38]\tvalidation_0-merror:0.941176\n",
            "[39]\tvalidation_0-merror:0.941176\n",
            "[40]\tvalidation_0-merror:0.941176\n",
            "[41]\tvalidation_0-merror:0.941176\n",
            "[42]\tvalidation_0-merror:0.941176\n",
            "[43]\tvalidation_0-merror:0.941176\n",
            "[44]\tvalidation_0-merror:0.941176\n",
            "[45]\tvalidation_0-merror:0.941176\n",
            "[46]\tvalidation_0-merror:0.941176\n",
            "[47]\tvalidation_0-merror:0.941176\n",
            "[48]\tvalidation_0-merror:0.941176\n",
            "[49]\tvalidation_0-merror:0.941176\n",
            "[50]\tvalidation_0-merror:0.941176\n",
            "[51]\tvalidation_0-merror:0.941176\n",
            "[52]\tvalidation_0-merror:0.941176\n",
            "[53]\tvalidation_0-merror:0.941176\n",
            "[54]\tvalidation_0-merror:0.941176\n",
            "[55]\tvalidation_0-merror:0.941176\n",
            "[56]\tvalidation_0-merror:0.941176\n",
            "[57]\tvalidation_0-merror:0.941176\n",
            "[58]\tvalidation_0-merror:0.941176\n",
            "[59]\tvalidation_0-merror:0.941176\n",
            "[60]\tvalidation_0-merror:0.941176\n",
            "[61]\tvalidation_0-merror:0.941176\n",
            "[62]\tvalidation_0-merror:0.941176\n",
            "[63]\tvalidation_0-merror:0.941176\n",
            "[64]\tvalidation_0-merror:0.941176\n",
            "[65]\tvalidation_0-merror:0.941176\n",
            "[66]\tvalidation_0-merror:0.941176\n",
            "[67]\tvalidation_0-merror:0.941176\n",
            "[68]\tvalidation_0-merror:0.941176\n",
            "[69]\tvalidation_0-merror:0.941176\n",
            "[70]\tvalidation_0-merror:0.941176\n",
            "[71]\tvalidation_0-merror:0.941176\n",
            "[72]\tvalidation_0-merror:0.941176\n",
            "[73]\tvalidation_0-merror:0.941176\n",
            "[74]\tvalidation_0-merror:0.941176\n",
            "[75]\tvalidation_0-merror:0.941176\n",
            "[76]\tvalidation_0-merror:0.941176\n",
            "[77]\tvalidation_0-merror:0.941176\n",
            "[78]\tvalidation_0-merror:0.941176\n",
            "[79]\tvalidation_0-merror:0.941176\n",
            "[80]\tvalidation_0-merror:0.941176\n",
            "[81]\tvalidation_0-merror:0.941176\n",
            "[82]\tvalidation_0-merror:0.941176\n",
            "[83]\tvalidation_0-merror:0.941176\n",
            "[84]\tvalidation_0-merror:0.941176\n",
            "[85]\tvalidation_0-merror:0.941176\n",
            "[86]\tvalidation_0-merror:0.941176\n",
            "[87]\tvalidation_0-merror:0.941176\n",
            "[88]\tvalidation_0-merror:0.941176\n",
            "[89]\tvalidation_0-merror:0.941176\n",
            "[90]\tvalidation_0-merror:0.941176\n",
            "[91]\tvalidation_0-merror:0.941176\n",
            "[92]\tvalidation_0-merror:0.941176\n",
            "[93]\tvalidation_0-merror:0.941176\n",
            "[94]\tvalidation_0-merror:0.941176\n",
            "[95]\tvalidation_0-merror:0.941176\n",
            "[96]\tvalidation_0-merror:0.941176\n",
            "[97]\tvalidation_0-merror:0.941176\n",
            "[98]\tvalidation_0-merror:0.941176\n",
            "[99]\tvalidation_0-merror:0.941176\n"
          ]
        },
        {
          "output_type": "stream",
          "name": "stderr",
          "text": [
            "\u001b[32m[I 2022-06-13 07:25:02,036]\u001b[0m Trial 7 finished with value: 136.63235294117646 and parameters: {'lambad': 0.006983171754442029, 'alpha': 0.479234024255293, 'colsample_bytree': 0.1, 'subsample': 0.4, 'learning_rate': 0.012, 'max_depth': 8, 'random_state': 243123, 'min_child_weight': 210}. Best is trial 2 with value: 39.86764705882353.\u001b[0m\n"
          ]
        },
        {
          "output_type": "stream",
          "name": "stdout",
          "text": [
            "[07:25:02] ======== Monitor: Learner ========\n",
            "[07:25:02] EvalOneIter: 0.0078138s, 100 calls @ 78us\n",
            "[07:25:02] GetGradient: 0.00736411s, 100 calls @ 73us\n",
            "[07:25:02] PredictRaw: 0.00318996s, 100 calls @ 31us\n",
            "[07:25:02] UpdateOneIter: 10.871s, 100 calls @ 108709us\n",
            "[07:25:02] ======== Monitor: GBTree ========\n",
            "[07:25:02] BoostNewTrees: 10.8499s, 100 calls @ 108498us\n",
            "[07:25:02] CommitModel: 0.00997805s, 100 calls @ 99us\n",
            "[07:25:02] ======== Monitor:  ========\n",
            "[07:25:02] DevicePredictInternal: 0.010421s, 201 calls @ 51us\n",
            "[07:25:02] PredictFromCache: 0.00399403s, 199 calls @ 20us\n",
            "[07:25:02] ======== Monitor: updater_gpu_hist ========\n",
            "[07:25:02] BinningCompression: 0.00278692s, 1 calls @ 2786us\n",
            "[07:25:02] InitData: 0.261367s, 2100 calls @ 124us\n",
            "[07:25:02] InitDataOnce: 0.260834s, 1 calls @ 260834us\n",
            "[07:25:02] Quantiles: 0.249854s, 1 calls @ 249854us\n",
            "[07:25:02] Update: 10.7856s, 2100 calls @ 5135us\n",
            "[07:25:02] ======== NCCL Statistics========\n",
            "[07:25:02] AllReduce calls: 4200\n",
            "[07:25:02] AllReduce total MB communicated: 8534\n",
            "[07:25:02] ======== Monitor: HistCutMatrix ========\n",
            "[07:25:02] ======== Monitor: DeviceShard0 ========\n",
            "[07:25:02] AllReduce: 0.0100849s, 2100 calls @ 4us\n",
            "[07:25:02] FinalisePosition: 0.0188942s, 2100 calls @ 8us\n",
            "[07:25:02] InitRoot: 10.2204s, 2100 calls @ 4866us\n",
            "[07:25:02] Reset: 0.27501s, 2100 calls @ 130us\n",
            "[07:25:02] ======== Monitor: HistCutMatrix ========\n",
            "[0]\tvalidation_0-merror:0.882353\n",
            "[1]\tvalidation_0-merror:0.867647\n",
            "[2]\tvalidation_0-merror:0.882353\n",
            "[3]\tvalidation_0-merror:0.882353\n",
            "[4]\tvalidation_0-merror:0.808824\n",
            "[5]\tvalidation_0-merror:0.897059\n",
            "[6]\tvalidation_0-merror:0.852941\n",
            "[7]\tvalidation_0-merror:0.838235\n",
            "[8]\tvalidation_0-merror:0.955882\n",
            "[9]\tvalidation_0-merror:0.955882\n",
            "[10]\tvalidation_0-merror:0.955882\n",
            "[11]\tvalidation_0-merror:0.955882\n",
            "[12]\tvalidation_0-merror:0.955882\n",
            "[13]\tvalidation_0-merror:0.955882\n",
            "[14]\tvalidation_0-merror:0.955882\n",
            "[15]\tvalidation_0-merror:0.955882\n",
            "[16]\tvalidation_0-merror:0.955882\n",
            "[17]\tvalidation_0-merror:0.955882\n",
            "[18]\tvalidation_0-merror:0.955882\n",
            "[19]\tvalidation_0-merror:0.955882\n",
            "[20]\tvalidation_0-merror:0.955882\n",
            "[21]\tvalidation_0-merror:0.955882\n",
            "[22]\tvalidation_0-merror:0.955882\n",
            "[23]\tvalidation_0-merror:0.955882\n",
            "[24]\tvalidation_0-merror:0.955882\n",
            "[25]\tvalidation_0-merror:0.955882\n",
            "[26]\tvalidation_0-merror:0.955882\n",
            "[27]\tvalidation_0-merror:0.955882\n",
            "[28]\tvalidation_0-merror:0.955882\n",
            "[29]\tvalidation_0-merror:0.955882\n",
            "[30]\tvalidation_0-merror:0.955882\n",
            "[31]\tvalidation_0-merror:0.955882\n",
            "[32]\tvalidation_0-merror:0.955882\n",
            "[33]\tvalidation_0-merror:0.955882\n",
            "[34]\tvalidation_0-merror:0.955882\n",
            "[35]\tvalidation_0-merror:0.955882\n",
            "[36]\tvalidation_0-merror:0.955882\n",
            "[37]\tvalidation_0-merror:0.955882\n",
            "[38]\tvalidation_0-merror:0.955882\n",
            "[39]\tvalidation_0-merror:0.955882\n",
            "[40]\tvalidation_0-merror:0.955882\n",
            "[41]\tvalidation_0-merror:0.955882\n",
            "[42]\tvalidation_0-merror:0.955882\n",
            "[43]\tvalidation_0-merror:0.955882\n",
            "[44]\tvalidation_0-merror:0.955882\n",
            "[45]\tvalidation_0-merror:0.955882\n",
            "[46]\tvalidation_0-merror:0.955882\n",
            "[47]\tvalidation_0-merror:0.955882\n",
            "[48]\tvalidation_0-merror:0.955882\n",
            "[49]\tvalidation_0-merror:0.955882\n",
            "[50]\tvalidation_0-merror:0.955882\n",
            "[51]\tvalidation_0-merror:0.955882\n",
            "[52]\tvalidation_0-merror:0.955882\n",
            "[53]\tvalidation_0-merror:0.955882\n",
            "[54]\tvalidation_0-merror:0.955882\n",
            "[55]\tvalidation_0-merror:0.955882\n",
            "[56]\tvalidation_0-merror:0.955882\n",
            "[57]\tvalidation_0-merror:0.955882\n",
            "[58]\tvalidation_0-merror:0.955882\n",
            "[59]\tvalidation_0-merror:0.955882\n",
            "[60]\tvalidation_0-merror:0.955882\n",
            "[61]\tvalidation_0-merror:0.955882\n",
            "[62]\tvalidation_0-merror:0.955882\n",
            "[63]\tvalidation_0-merror:0.955882\n",
            "[64]\tvalidation_0-merror:0.955882\n",
            "[65]\tvalidation_0-merror:0.955882\n",
            "[66]\tvalidation_0-merror:0.955882\n",
            "[67]\tvalidation_0-merror:0.955882\n",
            "[68]\tvalidation_0-merror:0.955882\n",
            "[69]\tvalidation_0-merror:0.955882\n",
            "[70]\tvalidation_0-merror:0.955882\n",
            "[71]\tvalidation_0-merror:0.955882\n",
            "[72]\tvalidation_0-merror:0.955882\n",
            "[73]\tvalidation_0-merror:0.955882\n",
            "[74]\tvalidation_0-merror:0.955882\n",
            "[75]\tvalidation_0-merror:0.955882\n",
            "[76]\tvalidation_0-merror:0.955882\n",
            "[77]\tvalidation_0-merror:0.955882\n",
            "[78]\tvalidation_0-merror:0.955882\n",
            "[79]\tvalidation_0-merror:0.955882\n",
            "[80]\tvalidation_0-merror:0.955882\n",
            "[81]\tvalidation_0-merror:0.955882\n",
            "[82]\tvalidation_0-merror:0.955882\n",
            "[83]\tvalidation_0-merror:0.955882\n",
            "[84]\tvalidation_0-merror:0.955882\n",
            "[85]\tvalidation_0-merror:0.955882\n",
            "[86]\tvalidation_0-merror:0.955882\n",
            "[87]\tvalidation_0-merror:0.955882\n",
            "[88]\tvalidation_0-merror:0.955882\n",
            "[89]\tvalidation_0-merror:0.955882\n",
            "[90]\tvalidation_0-merror:0.955882\n",
            "[91]\tvalidation_0-merror:0.955882\n",
            "[92]\tvalidation_0-merror:0.955882\n",
            "[93]\tvalidation_0-merror:0.955882\n",
            "[94]\tvalidation_0-merror:0.955882\n",
            "[95]\tvalidation_0-merror:0.955882\n",
            "[96]\tvalidation_0-merror:0.955882\n",
            "[97]\tvalidation_0-merror:0.955882\n",
            "[98]\tvalidation_0-merror:0.955882\n",
            "[99]\tvalidation_0-merror:0.955882\n"
          ]
        },
        {
          "output_type": "stream",
          "name": "stderr",
          "text": [
            "\u001b[32m[I 2022-06-13 07:25:13,627]\u001b[0m Trial 8 finished with value: 118.73529411764706 and parameters: {'lambad': 0.2816277556222666, 'alpha': 1.936855366314513, 'colsample_bytree': 1, 'subsample': 0.4, 'learning_rate': 20, 'max_depth': 8, 'random_state': 10, 'min_child_weight': 6}. Best is trial 2 with value: 39.86764705882353.\u001b[0m\n"
          ]
        },
        {
          "output_type": "stream",
          "name": "stdout",
          "text": [
            "[07:25:13] ======== Monitor: Learner ========\n",
            "[07:25:13] EvalOneIter: 0.00897335s, 100 calls @ 89us\n",
            "[07:25:13] GetGradient: 0.00840296s, 100 calls @ 84us\n",
            "[07:25:13] PredictRaw: 0.00310446s, 100 calls @ 31us\n",
            "[07:25:13] UpdateOneIter: 11.3852s, 100 calls @ 113851us\n",
            "[07:25:13] ======== Monitor: GBTree ========\n",
            "[07:25:13] BoostNewTrees: 11.3627s, 100 calls @ 113626us\n",
            "[07:25:13] CommitModel: 0.0104107s, 100 calls @ 104us\n",
            "[07:25:13] ======== Monitor:  ========\n",
            "[07:25:13] DevicePredictInternal: 0.0107756s, 201 calls @ 53us\n",
            "[07:25:13] PredictFromCache: 0.00398752s, 199 calls @ 20us\n",
            "[07:25:13] ======== Monitor: updater_gpu_hist ========\n",
            "[07:25:13] BinningCompression: 0.00239256s, 1 calls @ 2392us\n",
            "[07:25:13] InitData: 0.258962s, 2100 calls @ 123us\n",
            "[07:25:13] InitDataOnce: 0.258437s, 1 calls @ 258437us\n",
            "[07:25:13] Quantiles: 0.247935s, 1 calls @ 247934us\n",
            "[07:25:13] Update: 11.2974s, 2100 calls @ 5379us\n",
            "[07:25:13] ======== NCCL Statistics========\n",
            "[07:25:13] AllReduce calls: 4264\n",
            "[07:25:13] AllReduce total MB communicated: 8794\n",
            "[07:25:13] ======== Monitor: HistCutMatrix ========\n",
            "[07:25:13] ======== Monitor: DeviceShard0 ========\n",
            "[07:25:13] AllReduce: 0.00991881s, 2164 calls @ 4us\n",
            "[07:25:13] BuildHist: 0.0218736s, 64 calls @ 341us\n",
            "[07:25:13] EvaluateSplits: 0.0512305s, 64 calls @ 800us\n",
            "[07:25:13] FinalisePosition: 0.0204957s, 2100 calls @ 9us\n",
            "[07:25:13] InitRoot: 10.7873s, 2100 calls @ 5136us\n",
            "[07:25:13] Reset: 0.144238s, 2100 calls @ 68us\n",
            "[07:25:13] UpdatePosition: 0.00148772s, 64 calls @ 23us\n",
            "[07:25:13] ======== Monitor: HistCutMatrix ========\n",
            "[0]\tvalidation_0-merror:0.941176\n",
            "[1]\tvalidation_0-merror:0.941176\n",
            "[2]\tvalidation_0-merror:0.941176\n",
            "[3]\tvalidation_0-merror:0.941176\n",
            "[4]\tvalidation_0-merror:0.941176\n",
            "[5]\tvalidation_0-merror:0.941176\n",
            "[6]\tvalidation_0-merror:0.941176\n",
            "[7]\tvalidation_0-merror:0.941176\n",
            "[8]\tvalidation_0-merror:0.941176\n",
            "[9]\tvalidation_0-merror:0.941176\n",
            "[10]\tvalidation_0-merror:0.941176\n",
            "[11]\tvalidation_0-merror:0.941176\n",
            "[12]\tvalidation_0-merror:0.941176\n",
            "[13]\tvalidation_0-merror:0.941176\n",
            "[14]\tvalidation_0-merror:0.941176\n",
            "[15]\tvalidation_0-merror:0.941176\n",
            "[16]\tvalidation_0-merror:0.941176\n",
            "[17]\tvalidation_0-merror:0.941176\n",
            "[18]\tvalidation_0-merror:0.941176\n",
            "[19]\tvalidation_0-merror:0.941176\n",
            "[20]\tvalidation_0-merror:0.941176\n",
            "[21]\tvalidation_0-merror:0.941176\n",
            "[22]\tvalidation_0-merror:0.941176\n",
            "[23]\tvalidation_0-merror:0.941176\n",
            "[24]\tvalidation_0-merror:0.941176\n",
            "[25]\tvalidation_0-merror:0.941176\n",
            "[26]\tvalidation_0-merror:0.941176\n",
            "[27]\tvalidation_0-merror:0.941176\n",
            "[28]\tvalidation_0-merror:0.941176\n",
            "[29]\tvalidation_0-merror:0.941176\n",
            "[30]\tvalidation_0-merror:0.941176\n",
            "[31]\tvalidation_0-merror:0.941176\n",
            "[32]\tvalidation_0-merror:0.941176\n",
            "[33]\tvalidation_0-merror:0.941176\n",
            "[34]\tvalidation_0-merror:0.941176\n",
            "[35]\tvalidation_0-merror:0.941176\n",
            "[36]\tvalidation_0-merror:0.941176\n",
            "[37]\tvalidation_0-merror:0.941176\n",
            "[38]\tvalidation_0-merror:0.941176\n",
            "[39]\tvalidation_0-merror:0.941176\n",
            "[40]\tvalidation_0-merror:0.941176\n",
            "[41]\tvalidation_0-merror:0.941176\n",
            "[42]\tvalidation_0-merror:0.941176\n",
            "[43]\tvalidation_0-merror:0.941176\n",
            "[44]\tvalidation_0-merror:0.941176\n",
            "[45]\tvalidation_0-merror:0.941176\n",
            "[46]\tvalidation_0-merror:0.941176\n",
            "[47]\tvalidation_0-merror:0.941176\n",
            "[48]\tvalidation_0-merror:0.941176\n",
            "[49]\tvalidation_0-merror:0.941176\n",
            "[50]\tvalidation_0-merror:0.941176\n",
            "[51]\tvalidation_0-merror:0.941176\n",
            "[52]\tvalidation_0-merror:0.941176\n",
            "[53]\tvalidation_0-merror:0.941176\n",
            "[54]\tvalidation_0-merror:0.941176\n",
            "[55]\tvalidation_0-merror:0.941176\n",
            "[56]\tvalidation_0-merror:0.941176\n",
            "[57]\tvalidation_0-merror:0.941176\n",
            "[58]\tvalidation_0-merror:0.941176\n",
            "[59]\tvalidation_0-merror:0.941176\n",
            "[60]\tvalidation_0-merror:0.941176\n",
            "[61]\tvalidation_0-merror:0.941176\n",
            "[62]\tvalidation_0-merror:0.941176\n",
            "[63]\tvalidation_0-merror:0.941176\n",
            "[64]\tvalidation_0-merror:0.941176\n",
            "[65]\tvalidation_0-merror:0.941176\n",
            "[66]\tvalidation_0-merror:0.941176\n",
            "[67]\tvalidation_0-merror:0.941176\n",
            "[68]\tvalidation_0-merror:0.941176\n",
            "[69]\tvalidation_0-merror:0.941176\n",
            "[70]\tvalidation_0-merror:0.941176\n",
            "[71]\tvalidation_0-merror:0.941176\n",
            "[72]\tvalidation_0-merror:0.941176\n",
            "[73]\tvalidation_0-merror:0.941176\n",
            "[74]\tvalidation_0-merror:0.941176\n",
            "[75]\tvalidation_0-merror:0.941176\n",
            "[76]\tvalidation_0-merror:0.941176\n",
            "[77]\tvalidation_0-merror:0.941176\n",
            "[78]\tvalidation_0-merror:0.941176\n",
            "[79]\tvalidation_0-merror:0.941176\n",
            "[80]\tvalidation_0-merror:0.941176\n",
            "[81]\tvalidation_0-merror:0.941176\n",
            "[82]\tvalidation_0-merror:0.941176\n",
            "[83]\tvalidation_0-merror:0.941176\n",
            "[84]\tvalidation_0-merror:0.941176\n",
            "[85]\tvalidation_0-merror:0.941176\n",
            "[86]\tvalidation_0-merror:0.941176\n",
            "[87]\tvalidation_0-merror:0.941176\n",
            "[88]\tvalidation_0-merror:0.941176\n",
            "[89]\tvalidation_0-merror:0.941176\n",
            "[90]\tvalidation_0-merror:0.941176\n",
            "[91]\tvalidation_0-merror:0.941176\n",
            "[92]\tvalidation_0-merror:0.941176\n",
            "[93]\tvalidation_0-merror:0.941176\n",
            "[94]\tvalidation_0-merror:0.941176\n",
            "[95]\tvalidation_0-merror:0.941176\n",
            "[96]\tvalidation_0-merror:0.941176\n",
            "[97]\tvalidation_0-merror:0.941176\n",
            "[98]\tvalidation_0-merror:0.941176\n",
            "[99]\tvalidation_0-merror:0.941176\n"
          ]
        },
        {
          "output_type": "stream",
          "name": "stderr",
          "text": [
            "\u001b[32m[I 2022-06-13 07:25:25,224]\u001b[0m Trial 9 finished with value: 136.63235294117646 and parameters: {'lambad': 0.05958559631669116, 'alpha': 0.2558404535696696, 'colsample_bytree': 0.5, 'subsample': 0.5, 'learning_rate': 0.012, 'max_depth': 15, 'random_state': 3454, 'min_child_weight': 236}. Best is trial 2 with value: 39.86764705882353.\u001b[0m\n"
          ]
        },
        {
          "output_type": "stream",
          "name": "stdout",
          "text": [
            "[07:25:25] ======== Monitor: Learner ========\n",
            "[07:25:25] EvalOneIter: 0.00824655s, 100 calls @ 82us\n",
            "[07:25:25] GetGradient: 0.00752978s, 100 calls @ 75us\n",
            "[07:25:25] PredictRaw: 0.00327736s, 100 calls @ 32us\n",
            "[07:25:25] UpdateOneIter: 11.393s, 100 calls @ 113929us\n",
            "[07:25:25] ======== Monitor: GBTree ========\n",
            "[07:25:25] BoostNewTrees: 11.371s, 100 calls @ 113710us\n",
            "[07:25:25] CommitModel: 0.0105417s, 100 calls @ 105us\n",
            "[07:25:25] ======== Monitor:  ========\n",
            "[07:25:25] DevicePredictInternal: 0.0106318s, 201 calls @ 52us\n",
            "[07:25:25] PredictFromCache: 0.00437942s, 199 calls @ 22us\n",
            "[07:25:25] ======== Monitor: updater_gpu_hist ========\n",
            "[07:25:25] BinningCompression: 0.0028589s, 1 calls @ 2858us\n",
            "[07:25:25] InitData: 0.261058s, 2100 calls @ 124us\n",
            "[07:25:25] InitDataOnce: 0.260487s, 1 calls @ 260486us\n",
            "[07:25:25] Quantiles: 0.249577s, 1 calls @ 249576us\n",
            "[07:25:25] Update: 11.3034s, 2100 calls @ 5382us\n",
            "[07:25:25] ======== NCCL Statistics========\n",
            "[07:25:25] AllReduce calls: 4200\n",
            "[07:25:25] AllReduce total MB communicated: 8534\n",
            "[07:25:25] ======== Monitor: HistCutMatrix ========\n",
            "[07:25:25] ======== Monitor: DeviceShard0 ========\n",
            "[07:25:25] AllReduce: 0.0106667s, 2100 calls @ 5us\n",
            "[07:25:25] FinalisePosition: 0.0202183s, 2100 calls @ 9us\n",
            "[07:25:25] InitRoot: 10.495s, 2100 calls @ 4997us\n",
            "[07:25:25] Reset: 0.515656s, 2100 calls @ 245us\n",
            "[07:25:25] ======== Monitor: HistCutMatrix ========\n"
          ]
        },
        {
          "output_type": "execute_result",
          "data": {
            "text/plain": [
              "{'alpha': 0.02096917884055731,\n",
              " 'colsample_bytree': 0.5,\n",
              " 'lambad': 0.09125018144442715,\n",
              " 'learning_rate': 0.016,\n",
              " 'max_depth': 10,\n",
              " 'min_child_weight': 36,\n",
              " 'random_state': 30,\n",
              " 'subsample': 0.4}"
            ]
          },
          "metadata": {},
          "execution_count": 101
        }
      ]
    },
    {
      "cell_type": "code",
      "source": [
        "find_param.trials_dataframe()"
      ],
      "metadata": {
        "colab": {
          "base_uri": "https://localhost:8080/",
          "height": 600
        },
        "id": "bE40AAZosNLg",
        "outputId": "24ea0230-8d49-4568-9b7e-ac0d2f943393"
      },
      "execution_count": null,
      "outputs": [
        {
          "output_type": "execute_result",
          "data": {
            "text/plain": [
              "   number       value             datetime_start          datetime_complete  \\\n",
              "0       0  136.632353 2022-06-13 06:35:05.581440 2022-06-13 06:35:17.660837   \n",
              "1       1   13.485294 2022-06-13 06:35:17.662753 2022-06-13 06:35:30.900580   \n",
              "2       2  136.632353 2022-06-13 06:35:30.902446 2022-06-13 06:35:42.120721   \n",
              "3       3   39.867647 2022-06-13 06:35:42.122662 2022-06-13 06:35:53.498079   \n",
              "4       4  136.632353 2022-06-13 06:35:53.499880 2022-06-13 06:36:04.572616   \n",
              "5       5  136.632353 2022-06-13 06:36:04.574373 2022-06-13 06:36:16.380821   \n",
              "6       6  136.632353 2022-06-13 06:36:16.387016 2022-06-13 06:36:27.706346   \n",
              "7       7  136.632353 2022-06-13 06:36:27.708077 2022-06-13 06:36:39.241612   \n",
              "8       8   39.867647 2022-06-13 06:36:39.243652 2022-06-13 06:36:51.013309   \n",
              "9       9   39.867647 2022-06-13 06:36:51.015253 2022-06-13 06:37:02.578447   \n",
              "\n",
              "                duration  params_alpha  params_colsample_bytree  \\\n",
              "0 0 days 00:00:12.079397      0.917262                      0.8   \n",
              "1 0 days 00:00:13.237827      0.000314                      0.9   \n",
              "2 0 days 00:00:11.218275      0.037788                      0.4   \n",
              "3 0 days 00:00:11.375417      0.000108                      0.5   \n",
              "4 0 days 00:00:11.072736      0.000638                      0.1   \n",
              "5 0 days 00:00:11.806448      1.581206                      0.8   \n",
              "6 0 days 00:00:11.319330      0.936740                      0.4   \n",
              "7 0 days 00:00:11.533535      0.000328                      0.7   \n",
              "8 0 days 00:00:11.769657      0.098724                      0.5   \n",
              "9 0 days 00:00:11.563194      0.001294                      1.0   \n",
              "\n",
              "   params_lambad  params_learning_rate  params_max_depth  \\\n",
              "0       0.845579                0.0003                 4   \n",
              "1       0.001595                0.6000                 3   \n",
              "2       7.753401                0.0200                 3   \n",
              "3       0.001248                0.0003                 9   \n",
              "4       0.022064                1.0000                12   \n",
              "5       0.000640               20.0000                10   \n",
              "6       2.078460                0.4000                 6   \n",
              "7       0.039165                0.0100                 3   \n",
              "8       5.593422                0.6000                 7   \n",
              "9       0.072284                0.0080                 8   \n",
              "\n",
              "   params_min_child_weight  params_random_state  params_subsample     state  \n",
              "0                      121               243123               0.4  COMPLETE  \n",
              "1                        2                 2000               0.4  COMPLETE  \n",
              "2                       86                   20               0.2  COMPLETE  \n",
              "3                       18               243123               0.1  COMPLETE  \n",
              "4                      168                   30               0.3  COMPLETE  \n",
              "5                      145                 2000               0.4  COMPLETE  \n",
              "6                       65                   10               0.2  COMPLETE  \n",
              "7                       68                   30               0.8  COMPLETE  \n",
              "8                       25                   20               0.3  COMPLETE  \n",
              "9                       32                 2000               0.3  COMPLETE  "
            ],
            "text/html": [
              "\n",
              "  <div id=\"df-f67bc683-c087-4722-b1b4-b0d24681ddee\">\n",
              "    <div class=\"colab-df-container\">\n",
              "      <div>\n",
              "<style scoped>\n",
              "    .dataframe tbody tr th:only-of-type {\n",
              "        vertical-align: middle;\n",
              "    }\n",
              "\n",
              "    .dataframe tbody tr th {\n",
              "        vertical-align: top;\n",
              "    }\n",
              "\n",
              "    .dataframe thead th {\n",
              "        text-align: right;\n",
              "    }\n",
              "</style>\n",
              "<table border=\"1\" class=\"dataframe\">\n",
              "  <thead>\n",
              "    <tr style=\"text-align: right;\">\n",
              "      <th></th>\n",
              "      <th>number</th>\n",
              "      <th>value</th>\n",
              "      <th>datetime_start</th>\n",
              "      <th>datetime_complete</th>\n",
              "      <th>duration</th>\n",
              "      <th>params_alpha</th>\n",
              "      <th>params_colsample_bytree</th>\n",
              "      <th>params_lambad</th>\n",
              "      <th>params_learning_rate</th>\n",
              "      <th>params_max_depth</th>\n",
              "      <th>params_min_child_weight</th>\n",
              "      <th>params_random_state</th>\n",
              "      <th>params_subsample</th>\n",
              "      <th>state</th>\n",
              "    </tr>\n",
              "  </thead>\n",
              "  <tbody>\n",
              "    <tr>\n",
              "      <th>0</th>\n",
              "      <td>0</td>\n",
              "      <td>136.632353</td>\n",
              "      <td>2022-06-13 06:35:05.581440</td>\n",
              "      <td>2022-06-13 06:35:17.660837</td>\n",
              "      <td>0 days 00:00:12.079397</td>\n",
              "      <td>0.917262</td>\n",
              "      <td>0.8</td>\n",
              "      <td>0.845579</td>\n",
              "      <td>0.0003</td>\n",
              "      <td>4</td>\n",
              "      <td>121</td>\n",
              "      <td>243123</td>\n",
              "      <td>0.4</td>\n",
              "      <td>COMPLETE</td>\n",
              "    </tr>\n",
              "    <tr>\n",
              "      <th>1</th>\n",
              "      <td>1</td>\n",
              "      <td>13.485294</td>\n",
              "      <td>2022-06-13 06:35:17.662753</td>\n",
              "      <td>2022-06-13 06:35:30.900580</td>\n",
              "      <td>0 days 00:00:13.237827</td>\n",
              "      <td>0.000314</td>\n",
              "      <td>0.9</td>\n",
              "      <td>0.001595</td>\n",
              "      <td>0.6000</td>\n",
              "      <td>3</td>\n",
              "      <td>2</td>\n",
              "      <td>2000</td>\n",
              "      <td>0.4</td>\n",
              "      <td>COMPLETE</td>\n",
              "    </tr>\n",
              "    <tr>\n",
              "      <th>2</th>\n",
              "      <td>2</td>\n",
              "      <td>136.632353</td>\n",
              "      <td>2022-06-13 06:35:30.902446</td>\n",
              "      <td>2022-06-13 06:35:42.120721</td>\n",
              "      <td>0 days 00:00:11.218275</td>\n",
              "      <td>0.037788</td>\n",
              "      <td>0.4</td>\n",
              "      <td>7.753401</td>\n",
              "      <td>0.0200</td>\n",
              "      <td>3</td>\n",
              "      <td>86</td>\n",
              "      <td>20</td>\n",
              "      <td>0.2</td>\n",
              "      <td>COMPLETE</td>\n",
              "    </tr>\n",
              "    <tr>\n",
              "      <th>3</th>\n",
              "      <td>3</td>\n",
              "      <td>39.867647</td>\n",
              "      <td>2022-06-13 06:35:42.122662</td>\n",
              "      <td>2022-06-13 06:35:53.498079</td>\n",
              "      <td>0 days 00:00:11.375417</td>\n",
              "      <td>0.000108</td>\n",
              "      <td>0.5</td>\n",
              "      <td>0.001248</td>\n",
              "      <td>0.0003</td>\n",
              "      <td>9</td>\n",
              "      <td>18</td>\n",
              "      <td>243123</td>\n",
              "      <td>0.1</td>\n",
              "      <td>COMPLETE</td>\n",
              "    </tr>\n",
              "    <tr>\n",
              "      <th>4</th>\n",
              "      <td>4</td>\n",
              "      <td>136.632353</td>\n",
              "      <td>2022-06-13 06:35:53.499880</td>\n",
              "      <td>2022-06-13 06:36:04.572616</td>\n",
              "      <td>0 days 00:00:11.072736</td>\n",
              "      <td>0.000638</td>\n",
              "      <td>0.1</td>\n",
              "      <td>0.022064</td>\n",
              "      <td>1.0000</td>\n",
              "      <td>12</td>\n",
              "      <td>168</td>\n",
              "      <td>30</td>\n",
              "      <td>0.3</td>\n",
              "      <td>COMPLETE</td>\n",
              "    </tr>\n",
              "    <tr>\n",
              "      <th>5</th>\n",
              "      <td>5</td>\n",
              "      <td>136.632353</td>\n",
              "      <td>2022-06-13 06:36:04.574373</td>\n",
              "      <td>2022-06-13 06:36:16.380821</td>\n",
              "      <td>0 days 00:00:11.806448</td>\n",
              "      <td>1.581206</td>\n",
              "      <td>0.8</td>\n",
              "      <td>0.000640</td>\n",
              "      <td>20.0000</td>\n",
              "      <td>10</td>\n",
              "      <td>145</td>\n",
              "      <td>2000</td>\n",
              "      <td>0.4</td>\n",
              "      <td>COMPLETE</td>\n",
              "    </tr>\n",
              "    <tr>\n",
              "      <th>6</th>\n",
              "      <td>6</td>\n",
              "      <td>136.632353</td>\n",
              "      <td>2022-06-13 06:36:16.387016</td>\n",
              "      <td>2022-06-13 06:36:27.706346</td>\n",
              "      <td>0 days 00:00:11.319330</td>\n",
              "      <td>0.936740</td>\n",
              "      <td>0.4</td>\n",
              "      <td>2.078460</td>\n",
              "      <td>0.4000</td>\n",
              "      <td>6</td>\n",
              "      <td>65</td>\n",
              "      <td>10</td>\n",
              "      <td>0.2</td>\n",
              "      <td>COMPLETE</td>\n",
              "    </tr>\n",
              "    <tr>\n",
              "      <th>7</th>\n",
              "      <td>7</td>\n",
              "      <td>136.632353</td>\n",
              "      <td>2022-06-13 06:36:27.708077</td>\n",
              "      <td>2022-06-13 06:36:39.241612</td>\n",
              "      <td>0 days 00:00:11.533535</td>\n",
              "      <td>0.000328</td>\n",
              "      <td>0.7</td>\n",
              "      <td>0.039165</td>\n",
              "      <td>0.0100</td>\n",
              "      <td>3</td>\n",
              "      <td>68</td>\n",
              "      <td>30</td>\n",
              "      <td>0.8</td>\n",
              "      <td>COMPLETE</td>\n",
              "    </tr>\n",
              "    <tr>\n",
              "      <th>8</th>\n",
              "      <td>8</td>\n",
              "      <td>39.867647</td>\n",
              "      <td>2022-06-13 06:36:39.243652</td>\n",
              "      <td>2022-06-13 06:36:51.013309</td>\n",
              "      <td>0 days 00:00:11.769657</td>\n",
              "      <td>0.098724</td>\n",
              "      <td>0.5</td>\n",
              "      <td>5.593422</td>\n",
              "      <td>0.6000</td>\n",
              "      <td>7</td>\n",
              "      <td>25</td>\n",
              "      <td>20</td>\n",
              "      <td>0.3</td>\n",
              "      <td>COMPLETE</td>\n",
              "    </tr>\n",
              "    <tr>\n",
              "      <th>9</th>\n",
              "      <td>9</td>\n",
              "      <td>39.867647</td>\n",
              "      <td>2022-06-13 06:36:51.015253</td>\n",
              "      <td>2022-06-13 06:37:02.578447</td>\n",
              "      <td>0 days 00:00:11.563194</td>\n",
              "      <td>0.001294</td>\n",
              "      <td>1.0</td>\n",
              "      <td>0.072284</td>\n",
              "      <td>0.0080</td>\n",
              "      <td>8</td>\n",
              "      <td>32</td>\n",
              "      <td>2000</td>\n",
              "      <td>0.3</td>\n",
              "      <td>COMPLETE</td>\n",
              "    </tr>\n",
              "  </tbody>\n",
              "</table>\n",
              "</div>\n",
              "      <button class=\"colab-df-convert\" onclick=\"convertToInteractive('df-f67bc683-c087-4722-b1b4-b0d24681ddee')\"\n",
              "              title=\"Convert this dataframe to an interactive table.\"\n",
              "              style=\"display:none;\">\n",
              "        \n",
              "  <svg xmlns=\"http://www.w3.org/2000/svg\" height=\"24px\"viewBox=\"0 0 24 24\"\n",
              "       width=\"24px\">\n",
              "    <path d=\"M0 0h24v24H0V0z\" fill=\"none\"/>\n",
              "    <path d=\"M18.56 5.44l.94 2.06.94-2.06 2.06-.94-2.06-.94-.94-2.06-.94 2.06-2.06.94zm-11 1L8.5 8.5l.94-2.06 2.06-.94-2.06-.94L8.5 2.5l-.94 2.06-2.06.94zm10 10l.94 2.06.94-2.06 2.06-.94-2.06-.94-.94-2.06-.94 2.06-2.06.94z\"/><path d=\"M17.41 7.96l-1.37-1.37c-.4-.4-.92-.59-1.43-.59-.52 0-1.04.2-1.43.59L10.3 9.45l-7.72 7.72c-.78.78-.78 2.05 0 2.83L4 21.41c.39.39.9.59 1.41.59.51 0 1.02-.2 1.41-.59l7.78-7.78 2.81-2.81c.8-.78.8-2.07 0-2.86zM5.41 20L4 18.59l7.72-7.72 1.47 1.35L5.41 20z\"/>\n",
              "  </svg>\n",
              "      </button>\n",
              "      \n",
              "  <style>\n",
              "    .colab-df-container {\n",
              "      display:flex;\n",
              "      flex-wrap:wrap;\n",
              "      gap: 12px;\n",
              "    }\n",
              "\n",
              "    .colab-df-convert {\n",
              "      background-color: #E8F0FE;\n",
              "      border: none;\n",
              "      border-radius: 50%;\n",
              "      cursor: pointer;\n",
              "      display: none;\n",
              "      fill: #1967D2;\n",
              "      height: 32px;\n",
              "      padding: 0 0 0 0;\n",
              "      width: 32px;\n",
              "    }\n",
              "\n",
              "    .colab-df-convert:hover {\n",
              "      background-color: #E2EBFA;\n",
              "      box-shadow: 0px 1px 2px rgba(60, 64, 67, 0.3), 0px 1px 3px 1px rgba(60, 64, 67, 0.15);\n",
              "      fill: #174EA6;\n",
              "    }\n",
              "\n",
              "    [theme=dark] .colab-df-convert {\n",
              "      background-color: #3B4455;\n",
              "      fill: #D2E3FC;\n",
              "    }\n",
              "\n",
              "    [theme=dark] .colab-df-convert:hover {\n",
              "      background-color: #434B5C;\n",
              "      box-shadow: 0px 1px 3px 1px rgba(0, 0, 0, 0.15);\n",
              "      filter: drop-shadow(0px 1px 2px rgba(0, 0, 0, 0.3));\n",
              "      fill: #FFFFFF;\n",
              "    }\n",
              "  </style>\n",
              "\n",
              "      <script>\n",
              "        const buttonEl =\n",
              "          document.querySelector('#df-f67bc683-c087-4722-b1b4-b0d24681ddee button.colab-df-convert');\n",
              "        buttonEl.style.display =\n",
              "          google.colab.kernel.accessAllowed ? 'block' : 'none';\n",
              "\n",
              "        async function convertToInteractive(key) {\n",
              "          const element = document.querySelector('#df-f67bc683-c087-4722-b1b4-b0d24681ddee');\n",
              "          const dataTable =\n",
              "            await google.colab.kernel.invokeFunction('convertToInteractive',\n",
              "                                                     [key], {});\n",
              "          if (!dataTable) return;\n",
              "\n",
              "          const docLinkHtml = 'Like what you see? Visit the ' +\n",
              "            '<a target=\"_blank\" href=https://colab.research.google.com/notebooks/data_table.ipynb>data table notebook</a>'\n",
              "            + ' to learn more about interactive tables.';\n",
              "          element.innerHTML = '';\n",
              "          dataTable['output_type'] = 'display_data';\n",
              "          await google.colab.output.renderOutput(dataTable, element);\n",
              "          const docLink = document.createElement('div');\n",
              "          docLink.innerHTML = docLinkHtml;\n",
              "          element.appendChild(docLink);\n",
              "        }\n",
              "      </script>\n",
              "    </div>\n",
              "  </div>\n",
              "  "
            ]
          },
          "metadata": {},
          "execution_count": 52
        }
      ]
    },
    {
      "cell_type": "code",
      "source": [
        "optuna.visualization.plot_optimization_history(find_param)"
      ],
      "metadata": {
        "colab": {
          "base_uri": "https://localhost:8080/",
          "height": 542
        },
        "id": "17JaIGWvsNOw",
        "outputId": "710c84d2-3125-4dd2-9db7-d2a276112fb3"
      },
      "execution_count": null,
      "outputs": [
        {
          "output_type": "display_data",
          "data": {
            "text/html": [
              "<html>\n",
              "<head><meta charset=\"utf-8\" /></head>\n",
              "<body>\n",
              "    <div>            <script src=\"https://cdnjs.cloudflare.com/ajax/libs/mathjax/2.7.5/MathJax.js?config=TeX-AMS-MML_SVG\"></script><script type=\"text/javascript\">if (window.MathJax) {MathJax.Hub.Config({SVG: {font: \"STIX-Web\"}});}</script>                <script type=\"text/javascript\">window.PlotlyConfig = {MathJaxConfig: 'local'};</script>\n",
              "        <script src=\"https://cdn.plot.ly/plotly-2.8.3.min.js\"></script>                <div id=\"f1568fcd-472d-4601-820a-d598697ea530\" class=\"plotly-graph-div\" style=\"height:525px; width:100%;\"></div>            <script type=\"text/javascript\">                                    window.PLOTLYENV=window.PLOTLYENV || {};                                    if (document.getElementById(\"f1568fcd-472d-4601-820a-d598697ea530\")) {                    Plotly.newPlot(                        \"f1568fcd-472d-4601-820a-d598697ea530\",                        [{\"mode\":\"markers\",\"name\":\"Objective Value\",\"x\":[0,1,2,3,4,5,6,7,8,9],\"y\":[136.63235294117646,13.485294117647058,136.63235294117646,39.86764705882353,136.63235294117646,136.63235294117646,136.63235294117646,136.63235294117646,39.86764705882353,39.86764705882353],\"type\":\"scatter\"},{\"name\":\"Best Value\",\"x\":[0,1,2,3,4,5,6,7,8,9],\"y\":[136.63235294117646,13.485294117647058,13.485294117647058,13.485294117647058,13.485294117647058,13.485294117647058,13.485294117647058,13.485294117647058,13.485294117647058,13.485294117647058],\"type\":\"scatter\"}],                        {\"title\":{\"text\":\"Optimization History Plot\"},\"xaxis\":{\"title\":{\"text\":\"#Trials\"}},\"yaxis\":{\"title\":{\"text\":\"Objective Value\"}},\"template\":{\"data\":{\"bar\":[{\"error_x\":{\"color\":\"#2a3f5f\"},\"error_y\":{\"color\":\"#2a3f5f\"},\"marker\":{\"line\":{\"color\":\"#E5ECF6\",\"width\":0.5},\"pattern\":{\"fillmode\":\"overlay\",\"size\":10,\"solidity\":0.2}},\"type\":\"bar\"}],\"barpolar\":[{\"marker\":{\"line\":{\"color\":\"#E5ECF6\",\"width\":0.5},\"pattern\":{\"fillmode\":\"overlay\",\"size\":10,\"solidity\":0.2}},\"type\":\"barpolar\"}],\"carpet\":[{\"aaxis\":{\"endlinecolor\":\"#2a3f5f\",\"gridcolor\":\"white\",\"linecolor\":\"white\",\"minorgridcolor\":\"white\",\"startlinecolor\":\"#2a3f5f\"},\"baxis\":{\"endlinecolor\":\"#2a3f5f\",\"gridcolor\":\"white\",\"linecolor\":\"white\",\"minorgridcolor\":\"white\",\"startlinecolor\":\"#2a3f5f\"},\"type\":\"carpet\"}],\"choropleth\":[{\"colorbar\":{\"outlinewidth\":0,\"ticks\":\"\"},\"type\":\"choropleth\"}],\"contour\":[{\"colorbar\":{\"outlinewidth\":0,\"ticks\":\"\"},\"colorscale\":[[0.0,\"#0d0887\"],[0.1111111111111111,\"#46039f\"],[0.2222222222222222,\"#7201a8\"],[0.3333333333333333,\"#9c179e\"],[0.4444444444444444,\"#bd3786\"],[0.5555555555555556,\"#d8576b\"],[0.6666666666666666,\"#ed7953\"],[0.7777777777777778,\"#fb9f3a\"],[0.8888888888888888,\"#fdca26\"],[1.0,\"#f0f921\"]],\"type\":\"contour\"}],\"contourcarpet\":[{\"colorbar\":{\"outlinewidth\":0,\"ticks\":\"\"},\"type\":\"contourcarpet\"}],\"heatmap\":[{\"colorbar\":{\"outlinewidth\":0,\"ticks\":\"\"},\"colorscale\":[[0.0,\"#0d0887\"],[0.1111111111111111,\"#46039f\"],[0.2222222222222222,\"#7201a8\"],[0.3333333333333333,\"#9c179e\"],[0.4444444444444444,\"#bd3786\"],[0.5555555555555556,\"#d8576b\"],[0.6666666666666666,\"#ed7953\"],[0.7777777777777778,\"#fb9f3a\"],[0.8888888888888888,\"#fdca26\"],[1.0,\"#f0f921\"]],\"type\":\"heatmap\"}],\"heatmapgl\":[{\"colorbar\":{\"outlinewidth\":0,\"ticks\":\"\"},\"colorscale\":[[0.0,\"#0d0887\"],[0.1111111111111111,\"#46039f\"],[0.2222222222222222,\"#7201a8\"],[0.3333333333333333,\"#9c179e\"],[0.4444444444444444,\"#bd3786\"],[0.5555555555555556,\"#d8576b\"],[0.6666666666666666,\"#ed7953\"],[0.7777777777777778,\"#fb9f3a\"],[0.8888888888888888,\"#fdca26\"],[1.0,\"#f0f921\"]],\"type\":\"heatmapgl\"}],\"histogram\":[{\"marker\":{\"pattern\":{\"fillmode\":\"overlay\",\"size\":10,\"solidity\":0.2}},\"type\":\"histogram\"}],\"histogram2d\":[{\"colorbar\":{\"outlinewidth\":0,\"ticks\":\"\"},\"colorscale\":[[0.0,\"#0d0887\"],[0.1111111111111111,\"#46039f\"],[0.2222222222222222,\"#7201a8\"],[0.3333333333333333,\"#9c179e\"],[0.4444444444444444,\"#bd3786\"],[0.5555555555555556,\"#d8576b\"],[0.6666666666666666,\"#ed7953\"],[0.7777777777777778,\"#fb9f3a\"],[0.8888888888888888,\"#fdca26\"],[1.0,\"#f0f921\"]],\"type\":\"histogram2d\"}],\"histogram2dcontour\":[{\"colorbar\":{\"outlinewidth\":0,\"ticks\":\"\"},\"colorscale\":[[0.0,\"#0d0887\"],[0.1111111111111111,\"#46039f\"],[0.2222222222222222,\"#7201a8\"],[0.3333333333333333,\"#9c179e\"],[0.4444444444444444,\"#bd3786\"],[0.5555555555555556,\"#d8576b\"],[0.6666666666666666,\"#ed7953\"],[0.7777777777777778,\"#fb9f3a\"],[0.8888888888888888,\"#fdca26\"],[1.0,\"#f0f921\"]],\"type\":\"histogram2dcontour\"}],\"mesh3d\":[{\"colorbar\":{\"outlinewidth\":0,\"ticks\":\"\"},\"type\":\"mesh3d\"}],\"parcoords\":[{\"line\":{\"colorbar\":{\"outlinewidth\":0,\"ticks\":\"\"}},\"type\":\"parcoords\"}],\"pie\":[{\"automargin\":true,\"type\":\"pie\"}],\"scatter\":[{\"marker\":{\"colorbar\":{\"outlinewidth\":0,\"ticks\":\"\"}},\"type\":\"scatter\"}],\"scatter3d\":[{\"line\":{\"colorbar\":{\"outlinewidth\":0,\"ticks\":\"\"}},\"marker\":{\"colorbar\":{\"outlinewidth\":0,\"ticks\":\"\"}},\"type\":\"scatter3d\"}],\"scattercarpet\":[{\"marker\":{\"colorbar\":{\"outlinewidth\":0,\"ticks\":\"\"}},\"type\":\"scattercarpet\"}],\"scattergeo\":[{\"marker\":{\"colorbar\":{\"outlinewidth\":0,\"ticks\":\"\"}},\"type\":\"scattergeo\"}],\"scattergl\":[{\"marker\":{\"colorbar\":{\"outlinewidth\":0,\"ticks\":\"\"}},\"type\":\"scattergl\"}],\"scattermapbox\":[{\"marker\":{\"colorbar\":{\"outlinewidth\":0,\"ticks\":\"\"}},\"type\":\"scattermapbox\"}],\"scatterpolar\":[{\"marker\":{\"colorbar\":{\"outlinewidth\":0,\"ticks\":\"\"}},\"type\":\"scatterpolar\"}],\"scatterpolargl\":[{\"marker\":{\"colorbar\":{\"outlinewidth\":0,\"ticks\":\"\"}},\"type\":\"scatterpolargl\"}],\"scatterternary\":[{\"marker\":{\"colorbar\":{\"outlinewidth\":0,\"ticks\":\"\"}},\"type\":\"scatterternary\"}],\"surface\":[{\"colorbar\":{\"outlinewidth\":0,\"ticks\":\"\"},\"colorscale\":[[0.0,\"#0d0887\"],[0.1111111111111111,\"#46039f\"],[0.2222222222222222,\"#7201a8\"],[0.3333333333333333,\"#9c179e\"],[0.4444444444444444,\"#bd3786\"],[0.5555555555555556,\"#d8576b\"],[0.6666666666666666,\"#ed7953\"],[0.7777777777777778,\"#fb9f3a\"],[0.8888888888888888,\"#fdca26\"],[1.0,\"#f0f921\"]],\"type\":\"surface\"}],\"table\":[{\"cells\":{\"fill\":{\"color\":\"#EBF0F8\"},\"line\":{\"color\":\"white\"}},\"header\":{\"fill\":{\"color\":\"#C8D4E3\"},\"line\":{\"color\":\"white\"}},\"type\":\"table\"}]},\"layout\":{\"annotationdefaults\":{\"arrowcolor\":\"#2a3f5f\",\"arrowhead\":0,\"arrowwidth\":1},\"autotypenumbers\":\"strict\",\"coloraxis\":{\"colorbar\":{\"outlinewidth\":0,\"ticks\":\"\"}},\"colorscale\":{\"diverging\":[[0,\"#8e0152\"],[0.1,\"#c51b7d\"],[0.2,\"#de77ae\"],[0.3,\"#f1b6da\"],[0.4,\"#fde0ef\"],[0.5,\"#f7f7f7\"],[0.6,\"#e6f5d0\"],[0.7,\"#b8e186\"],[0.8,\"#7fbc41\"],[0.9,\"#4d9221\"],[1,\"#276419\"]],\"sequential\":[[0.0,\"#0d0887\"],[0.1111111111111111,\"#46039f\"],[0.2222222222222222,\"#7201a8\"],[0.3333333333333333,\"#9c179e\"],[0.4444444444444444,\"#bd3786\"],[0.5555555555555556,\"#d8576b\"],[0.6666666666666666,\"#ed7953\"],[0.7777777777777778,\"#fb9f3a\"],[0.8888888888888888,\"#fdca26\"],[1.0,\"#f0f921\"]],\"sequentialminus\":[[0.0,\"#0d0887\"],[0.1111111111111111,\"#46039f\"],[0.2222222222222222,\"#7201a8\"],[0.3333333333333333,\"#9c179e\"],[0.4444444444444444,\"#bd3786\"],[0.5555555555555556,\"#d8576b\"],[0.6666666666666666,\"#ed7953\"],[0.7777777777777778,\"#fb9f3a\"],[0.8888888888888888,\"#fdca26\"],[1.0,\"#f0f921\"]]},\"colorway\":[\"#636efa\",\"#EF553B\",\"#00cc96\",\"#ab63fa\",\"#FFA15A\",\"#19d3f3\",\"#FF6692\",\"#B6E880\",\"#FF97FF\",\"#FECB52\"],\"font\":{\"color\":\"#2a3f5f\"},\"geo\":{\"bgcolor\":\"white\",\"lakecolor\":\"white\",\"landcolor\":\"#E5ECF6\",\"showlakes\":true,\"showland\":true,\"subunitcolor\":\"white\"},\"hoverlabel\":{\"align\":\"left\"},\"hovermode\":\"closest\",\"mapbox\":{\"style\":\"light\"},\"paper_bgcolor\":\"white\",\"plot_bgcolor\":\"#E5ECF6\",\"polar\":{\"angularaxis\":{\"gridcolor\":\"white\",\"linecolor\":\"white\",\"ticks\":\"\"},\"bgcolor\":\"#E5ECF6\",\"radialaxis\":{\"gridcolor\":\"white\",\"linecolor\":\"white\",\"ticks\":\"\"}},\"scene\":{\"xaxis\":{\"backgroundcolor\":\"#E5ECF6\",\"gridcolor\":\"white\",\"gridwidth\":2,\"linecolor\":\"white\",\"showbackground\":true,\"ticks\":\"\",\"zerolinecolor\":\"white\"},\"yaxis\":{\"backgroundcolor\":\"#E5ECF6\",\"gridcolor\":\"white\",\"gridwidth\":2,\"linecolor\":\"white\",\"showbackground\":true,\"ticks\":\"\",\"zerolinecolor\":\"white\"},\"zaxis\":{\"backgroundcolor\":\"#E5ECF6\",\"gridcolor\":\"white\",\"gridwidth\":2,\"linecolor\":\"white\",\"showbackground\":true,\"ticks\":\"\",\"zerolinecolor\":\"white\"}},\"shapedefaults\":{\"line\":{\"color\":\"#2a3f5f\"}},\"ternary\":{\"aaxis\":{\"gridcolor\":\"white\",\"linecolor\":\"white\",\"ticks\":\"\"},\"baxis\":{\"gridcolor\":\"white\",\"linecolor\":\"white\",\"ticks\":\"\"},\"bgcolor\":\"#E5ECF6\",\"caxis\":{\"gridcolor\":\"white\",\"linecolor\":\"white\",\"ticks\":\"\"}},\"title\":{\"x\":0.05},\"xaxis\":{\"automargin\":true,\"gridcolor\":\"white\",\"linecolor\":\"white\",\"ticks\":\"\",\"title\":{\"standoff\":15},\"zerolinecolor\":\"white\",\"zerolinewidth\":2},\"yaxis\":{\"automargin\":true,\"gridcolor\":\"white\",\"linecolor\":\"white\",\"ticks\":\"\",\"title\":{\"standoff\":15},\"zerolinecolor\":\"white\",\"zerolinewidth\":2}}}},                        {\"responsive\": true}                    ).then(function(){\n",
              "                            \n",
              "var gd = document.getElementById('f1568fcd-472d-4601-820a-d598697ea530');\n",
              "var x = new MutationObserver(function (mutations, observer) {{\n",
              "        var display = window.getComputedStyle(gd).display;\n",
              "        if (!display || display === 'none') {{\n",
              "            console.log([gd, 'removed!']);\n",
              "            Plotly.purge(gd);\n",
              "            observer.disconnect();\n",
              "        }}\n",
              "}});\n",
              "\n",
              "// Listen for the removal of the full notebook cells\n",
              "var notebookContainer = gd.closest('#notebook-container');\n",
              "if (notebookContainer) {{\n",
              "    x.observe(notebookContainer, {childList: true});\n",
              "}}\n",
              "\n",
              "// Listen for the clearing of the current output cell\n",
              "var outputEl = gd.closest('.output');\n",
              "if (outputEl) {{\n",
              "    x.observe(outputEl, {childList: true});\n",
              "}}\n",
              "\n",
              "                        })                };                            </script>        </div>\n",
              "</body>\n",
              "</html>"
            ]
          },
          "metadata": {}
        }
      ]
    },
    {
      "cell_type": "code",
      "source": [
        "optuna.visualization.plot_slice(find_param)"
      ],
      "metadata": {
        "colab": {
          "base_uri": "https://localhost:8080/",
          "height": 562
        },
        "id": "Zar2jjShsOxX",
        "outputId": "3d83e37e-eb94-4e14-8914-07d3b43c5b8a"
      },
      "execution_count": null,
      "outputs": [
        {
          "output_type": "display_data",
          "data": {
            "text/html": [
              "<html>\n",
              "<head><meta charset=\"utf-8\" /></head>\n",
              "<body>\n",
              "    <div>            <script src=\"https://cdnjs.cloudflare.com/ajax/libs/mathjax/2.7.5/MathJax.js?config=TeX-AMS-MML_SVG\"></script><script type=\"text/javascript\">if (window.MathJax) {MathJax.Hub.Config({SVG: {font: \"STIX-Web\"}});}</script>                <script type=\"text/javascript\">window.PlotlyConfig = {MathJaxConfig: 'local'};</script>\n",
              "        <script src=\"https://cdn.plot.ly/plotly-2.8.3.min.js\"></script>                <div id=\"582eba12-9c3e-43ef-b88c-fa75e5bda116\" class=\"plotly-graph-div\" style=\"height:525px; width:2400px;\"></div>            <script type=\"text/javascript\">                                    window.PLOTLYENV=window.PLOTLYENV || {};                                    if (document.getElementById(\"582eba12-9c3e-43ef-b88c-fa75e5bda116\")) {                    Plotly.newPlot(                        \"582eba12-9c3e-43ef-b88c-fa75e5bda116\",                        [{\"marker\":{\"color\":[0,1,2,3,4,5,6,7,8,9],\"colorbar\":{\"title\":{\"text\":\"#Trials\"},\"x\":1.0,\"xpad\":40},\"colorscale\":[[0.0,\"rgb(247,251,255)\"],[0.125,\"rgb(222,235,247)\"],[0.25,\"rgb(198,219,239)\"],[0.375,\"rgb(158,202,225)\"],[0.5,\"rgb(107,174,214)\"],[0.625,\"rgb(66,146,198)\"],[0.75,\"rgb(33,113,181)\"],[0.875,\"rgb(8,81,156)\"],[1.0,\"rgb(8,48,107)\"]],\"line\":{\"color\":\"Grey\",\"width\":0.5},\"showscale\":true},\"mode\":\"markers\",\"showlegend\":false,\"x\":[0.9172619844700871,0.0003143022877635492,0.03778815954205493,0.00010803242182296341,0.0006382107399087002,1.5812061757240912,0.9367404189893385,0.00032806731710531133,0.09872353391825724,0.0012938761201908725],\"y\":[136.63235294117646,13.485294117647058,136.63235294117646,39.86764705882353,136.63235294117646,136.63235294117646,136.63235294117646,136.63235294117646,39.86764705882353,39.86764705882353],\"type\":\"scatter\",\"xaxis\":\"x\",\"yaxis\":\"y\"},{\"marker\":{\"color\":[0,1,2,3,4,5,6,7,8,9],\"colorbar\":{\"title\":{\"text\":\"#Trials\"},\"x\":1.0,\"xpad\":40},\"colorscale\":[[0.0,\"rgb(247,251,255)\"],[0.125,\"rgb(222,235,247)\"],[0.25,\"rgb(198,219,239)\"],[0.375,\"rgb(158,202,225)\"],[0.5,\"rgb(107,174,214)\"],[0.625,\"rgb(66,146,198)\"],[0.75,\"rgb(33,113,181)\"],[0.875,\"rgb(8,81,156)\"],[1.0,\"rgb(8,48,107)\"]],\"line\":{\"color\":\"Grey\",\"width\":0.5},\"showscale\":false},\"mode\":\"markers\",\"showlegend\":false,\"x\":[0.8,0.9,0.4,0.5,0.1,0.8,0.4,0.7,0.5,1],\"y\":[136.63235294117646,13.485294117647058,136.63235294117646,39.86764705882353,136.63235294117646,136.63235294117646,136.63235294117646,136.63235294117646,39.86764705882353,39.86764705882353],\"type\":\"scatter\",\"xaxis\":\"x2\",\"yaxis\":\"y2\"},{\"marker\":{\"color\":[0,1,2,3,4,5,6,7,8,9],\"colorbar\":{\"title\":{\"text\":\"#Trials\"},\"x\":1.0,\"xpad\":40},\"colorscale\":[[0.0,\"rgb(247,251,255)\"],[0.125,\"rgb(222,235,247)\"],[0.25,\"rgb(198,219,239)\"],[0.375,\"rgb(158,202,225)\"],[0.5,\"rgb(107,174,214)\"],[0.625,\"rgb(66,146,198)\"],[0.75,\"rgb(33,113,181)\"],[0.875,\"rgb(8,81,156)\"],[1.0,\"rgb(8,48,107)\"]],\"line\":{\"color\":\"Grey\",\"width\":0.5},\"showscale\":false},\"mode\":\"markers\",\"showlegend\":false,\"x\":[0.8455791194140733,0.0015953565138533425,7.753400724569299,0.0012481067337538037,0.02206352781973145,0.0006395311715375278,2.0784603967543136,0.03916532192786757,5.593421509338798,0.07228393239693927],\"y\":[136.63235294117646,13.485294117647058,136.63235294117646,39.86764705882353,136.63235294117646,136.63235294117646,136.63235294117646,136.63235294117646,39.86764705882353,39.86764705882353],\"type\":\"scatter\",\"xaxis\":\"x3\",\"yaxis\":\"y3\"},{\"marker\":{\"color\":[0,1,2,3,4,5,6,7,8,9],\"colorbar\":{\"title\":{\"text\":\"#Trials\"},\"x\":1.0,\"xpad\":40},\"colorscale\":[[0.0,\"rgb(247,251,255)\"],[0.125,\"rgb(222,235,247)\"],[0.25,\"rgb(198,219,239)\"],[0.375,\"rgb(158,202,225)\"],[0.5,\"rgb(107,174,214)\"],[0.625,\"rgb(66,146,198)\"],[0.75,\"rgb(33,113,181)\"],[0.875,\"rgb(8,81,156)\"],[1.0,\"rgb(8,48,107)\"]],\"line\":{\"color\":\"Grey\",\"width\":0.5},\"showscale\":false},\"mode\":\"markers\",\"showlegend\":false,\"x\":[0.0003,0.6,0.02,0.0003,1,20,0.4,0.01,0.6,0.008],\"y\":[136.63235294117646,13.485294117647058,136.63235294117646,39.86764705882353,136.63235294117646,136.63235294117646,136.63235294117646,136.63235294117646,39.86764705882353,39.86764705882353],\"type\":\"scatter\",\"xaxis\":\"x4\",\"yaxis\":\"y4\"},{\"marker\":{\"color\":[0,1,2,3,4,5,6,7,8,9],\"colorbar\":{\"title\":{\"text\":\"#Trials\"},\"x\":1.0,\"xpad\":40},\"colorscale\":[[0.0,\"rgb(247,251,255)\"],[0.125,\"rgb(222,235,247)\"],[0.25,\"rgb(198,219,239)\"],[0.375,\"rgb(158,202,225)\"],[0.5,\"rgb(107,174,214)\"],[0.625,\"rgb(66,146,198)\"],[0.75,\"rgb(33,113,181)\"],[0.875,\"rgb(8,81,156)\"],[1.0,\"rgb(8,48,107)\"]],\"line\":{\"color\":\"Grey\",\"width\":0.5},\"showscale\":false},\"mode\":\"markers\",\"showlegend\":false,\"x\":[4,3,3,9,12,10,6,3,7,8],\"y\":[136.63235294117646,13.485294117647058,136.63235294117646,39.86764705882353,136.63235294117646,136.63235294117646,136.63235294117646,136.63235294117646,39.86764705882353,39.86764705882353],\"type\":\"scatter\",\"xaxis\":\"x5\",\"yaxis\":\"y5\"},{\"marker\":{\"color\":[0,1,2,3,4,5,6,7,8,9],\"colorbar\":{\"title\":{\"text\":\"#Trials\"},\"x\":1.0,\"xpad\":40},\"colorscale\":[[0.0,\"rgb(247,251,255)\"],[0.125,\"rgb(222,235,247)\"],[0.25,\"rgb(198,219,239)\"],[0.375,\"rgb(158,202,225)\"],[0.5,\"rgb(107,174,214)\"],[0.625,\"rgb(66,146,198)\"],[0.75,\"rgb(33,113,181)\"],[0.875,\"rgb(8,81,156)\"],[1.0,\"rgb(8,48,107)\"]],\"line\":{\"color\":\"Grey\",\"width\":0.5},\"showscale\":false},\"mode\":\"markers\",\"showlegend\":false,\"x\":[121,2,86,18,168,145,65,68,25,32],\"y\":[136.63235294117646,13.485294117647058,136.63235294117646,39.86764705882353,136.63235294117646,136.63235294117646,136.63235294117646,136.63235294117646,39.86764705882353,39.86764705882353],\"type\":\"scatter\",\"xaxis\":\"x6\",\"yaxis\":\"y6\"},{\"marker\":{\"color\":[0,1,2,3,4,5,6,7,8,9],\"colorbar\":{\"title\":{\"text\":\"#Trials\"},\"x\":1.0,\"xpad\":40},\"colorscale\":[[0.0,\"rgb(247,251,255)\"],[0.125,\"rgb(222,235,247)\"],[0.25,\"rgb(198,219,239)\"],[0.375,\"rgb(158,202,225)\"],[0.5,\"rgb(107,174,214)\"],[0.625,\"rgb(66,146,198)\"],[0.75,\"rgb(33,113,181)\"],[0.875,\"rgb(8,81,156)\"],[1.0,\"rgb(8,48,107)\"]],\"line\":{\"color\":\"Grey\",\"width\":0.5},\"showscale\":false},\"mode\":\"markers\",\"showlegend\":false,\"x\":[243123,2000,20,243123,30,2000,10,30,20,2000],\"y\":[136.63235294117646,13.485294117647058,136.63235294117646,39.86764705882353,136.63235294117646,136.63235294117646,136.63235294117646,136.63235294117646,39.86764705882353,39.86764705882353],\"type\":\"scatter\",\"xaxis\":\"x7\",\"yaxis\":\"y7\"},{\"marker\":{\"color\":[0,1,2,3,4,5,6,7,8,9],\"colorbar\":{\"title\":{\"text\":\"#Trials\"},\"x\":1.0,\"xpad\":40},\"colorscale\":[[0.0,\"rgb(247,251,255)\"],[0.125,\"rgb(222,235,247)\"],[0.25,\"rgb(198,219,239)\"],[0.375,\"rgb(158,202,225)\"],[0.5,\"rgb(107,174,214)\"],[0.625,\"rgb(66,146,198)\"],[0.75,\"rgb(33,113,181)\"],[0.875,\"rgb(8,81,156)\"],[1.0,\"rgb(8,48,107)\"]],\"line\":{\"color\":\"Grey\",\"width\":0.5},\"showscale\":false},\"mode\":\"markers\",\"showlegend\":false,\"x\":[0.4,0.4,0.2,0.1,0.3,0.4,0.2,0.8,0.3,0.3],\"y\":[136.63235294117646,13.485294117647058,136.63235294117646,39.86764705882353,136.63235294117646,136.63235294117646,136.63235294117646,136.63235294117646,39.86764705882353,39.86764705882353],\"type\":\"scatter\",\"xaxis\":\"x8\",\"yaxis\":\"y8\"}],                        {\"template\":{\"data\":{\"bar\":[{\"error_x\":{\"color\":\"#2a3f5f\"},\"error_y\":{\"color\":\"#2a3f5f\"},\"marker\":{\"line\":{\"color\":\"#E5ECF6\",\"width\":0.5},\"pattern\":{\"fillmode\":\"overlay\",\"size\":10,\"solidity\":0.2}},\"type\":\"bar\"}],\"barpolar\":[{\"marker\":{\"line\":{\"color\":\"#E5ECF6\",\"width\":0.5},\"pattern\":{\"fillmode\":\"overlay\",\"size\":10,\"solidity\":0.2}},\"type\":\"barpolar\"}],\"carpet\":[{\"aaxis\":{\"endlinecolor\":\"#2a3f5f\",\"gridcolor\":\"white\",\"linecolor\":\"white\",\"minorgridcolor\":\"white\",\"startlinecolor\":\"#2a3f5f\"},\"baxis\":{\"endlinecolor\":\"#2a3f5f\",\"gridcolor\":\"white\",\"linecolor\":\"white\",\"minorgridcolor\":\"white\",\"startlinecolor\":\"#2a3f5f\"},\"type\":\"carpet\"}],\"choropleth\":[{\"colorbar\":{\"outlinewidth\":0,\"ticks\":\"\"},\"type\":\"choropleth\"}],\"contour\":[{\"colorbar\":{\"outlinewidth\":0,\"ticks\":\"\"},\"colorscale\":[[0.0,\"#0d0887\"],[0.1111111111111111,\"#46039f\"],[0.2222222222222222,\"#7201a8\"],[0.3333333333333333,\"#9c179e\"],[0.4444444444444444,\"#bd3786\"],[0.5555555555555556,\"#d8576b\"],[0.6666666666666666,\"#ed7953\"],[0.7777777777777778,\"#fb9f3a\"],[0.8888888888888888,\"#fdca26\"],[1.0,\"#f0f921\"]],\"type\":\"contour\"}],\"contourcarpet\":[{\"colorbar\":{\"outlinewidth\":0,\"ticks\":\"\"},\"type\":\"contourcarpet\"}],\"heatmap\":[{\"colorbar\":{\"outlinewidth\":0,\"ticks\":\"\"},\"colorscale\":[[0.0,\"#0d0887\"],[0.1111111111111111,\"#46039f\"],[0.2222222222222222,\"#7201a8\"],[0.3333333333333333,\"#9c179e\"],[0.4444444444444444,\"#bd3786\"],[0.5555555555555556,\"#d8576b\"],[0.6666666666666666,\"#ed7953\"],[0.7777777777777778,\"#fb9f3a\"],[0.8888888888888888,\"#fdca26\"],[1.0,\"#f0f921\"]],\"type\":\"heatmap\"}],\"heatmapgl\":[{\"colorbar\":{\"outlinewidth\":0,\"ticks\":\"\"},\"colorscale\":[[0.0,\"#0d0887\"],[0.1111111111111111,\"#46039f\"],[0.2222222222222222,\"#7201a8\"],[0.3333333333333333,\"#9c179e\"],[0.4444444444444444,\"#bd3786\"],[0.5555555555555556,\"#d8576b\"],[0.6666666666666666,\"#ed7953\"],[0.7777777777777778,\"#fb9f3a\"],[0.8888888888888888,\"#fdca26\"],[1.0,\"#f0f921\"]],\"type\":\"heatmapgl\"}],\"histogram\":[{\"marker\":{\"pattern\":{\"fillmode\":\"overlay\",\"size\":10,\"solidity\":0.2}},\"type\":\"histogram\"}],\"histogram2d\":[{\"colorbar\":{\"outlinewidth\":0,\"ticks\":\"\"},\"colorscale\":[[0.0,\"#0d0887\"],[0.1111111111111111,\"#46039f\"],[0.2222222222222222,\"#7201a8\"],[0.3333333333333333,\"#9c179e\"],[0.4444444444444444,\"#bd3786\"],[0.5555555555555556,\"#d8576b\"],[0.6666666666666666,\"#ed7953\"],[0.7777777777777778,\"#fb9f3a\"],[0.8888888888888888,\"#fdca26\"],[1.0,\"#f0f921\"]],\"type\":\"histogram2d\"}],\"histogram2dcontour\":[{\"colorbar\":{\"outlinewidth\":0,\"ticks\":\"\"},\"colorscale\":[[0.0,\"#0d0887\"],[0.1111111111111111,\"#46039f\"],[0.2222222222222222,\"#7201a8\"],[0.3333333333333333,\"#9c179e\"],[0.4444444444444444,\"#bd3786\"],[0.5555555555555556,\"#d8576b\"],[0.6666666666666666,\"#ed7953\"],[0.7777777777777778,\"#fb9f3a\"],[0.8888888888888888,\"#fdca26\"],[1.0,\"#f0f921\"]],\"type\":\"histogram2dcontour\"}],\"mesh3d\":[{\"colorbar\":{\"outlinewidth\":0,\"ticks\":\"\"},\"type\":\"mesh3d\"}],\"parcoords\":[{\"line\":{\"colorbar\":{\"outlinewidth\":0,\"ticks\":\"\"}},\"type\":\"parcoords\"}],\"pie\":[{\"automargin\":true,\"type\":\"pie\"}],\"scatter\":[{\"marker\":{\"colorbar\":{\"outlinewidth\":0,\"ticks\":\"\"}},\"type\":\"scatter\"}],\"scatter3d\":[{\"line\":{\"colorbar\":{\"outlinewidth\":0,\"ticks\":\"\"}},\"marker\":{\"colorbar\":{\"outlinewidth\":0,\"ticks\":\"\"}},\"type\":\"scatter3d\"}],\"scattercarpet\":[{\"marker\":{\"colorbar\":{\"outlinewidth\":0,\"ticks\":\"\"}},\"type\":\"scattercarpet\"}],\"scattergeo\":[{\"marker\":{\"colorbar\":{\"outlinewidth\":0,\"ticks\":\"\"}},\"type\":\"scattergeo\"}],\"scattergl\":[{\"marker\":{\"colorbar\":{\"outlinewidth\":0,\"ticks\":\"\"}},\"type\":\"scattergl\"}],\"scattermapbox\":[{\"marker\":{\"colorbar\":{\"outlinewidth\":0,\"ticks\":\"\"}},\"type\":\"scattermapbox\"}],\"scatterpolar\":[{\"marker\":{\"colorbar\":{\"outlinewidth\":0,\"ticks\":\"\"}},\"type\":\"scatterpolar\"}],\"scatterpolargl\":[{\"marker\":{\"colorbar\":{\"outlinewidth\":0,\"ticks\":\"\"}},\"type\":\"scatterpolargl\"}],\"scatterternary\":[{\"marker\":{\"colorbar\":{\"outlinewidth\":0,\"ticks\":\"\"}},\"type\":\"scatterternary\"}],\"surface\":[{\"colorbar\":{\"outlinewidth\":0,\"ticks\":\"\"},\"colorscale\":[[0.0,\"#0d0887\"],[0.1111111111111111,\"#46039f\"],[0.2222222222222222,\"#7201a8\"],[0.3333333333333333,\"#9c179e\"],[0.4444444444444444,\"#bd3786\"],[0.5555555555555556,\"#d8576b\"],[0.6666666666666666,\"#ed7953\"],[0.7777777777777778,\"#fb9f3a\"],[0.8888888888888888,\"#fdca26\"],[1.0,\"#f0f921\"]],\"type\":\"surface\"}],\"table\":[{\"cells\":{\"fill\":{\"color\":\"#EBF0F8\"},\"line\":{\"color\":\"white\"}},\"header\":{\"fill\":{\"color\":\"#C8D4E3\"},\"line\":{\"color\":\"white\"}},\"type\":\"table\"}]},\"layout\":{\"annotationdefaults\":{\"arrowcolor\":\"#2a3f5f\",\"arrowhead\":0,\"arrowwidth\":1},\"autotypenumbers\":\"strict\",\"coloraxis\":{\"colorbar\":{\"outlinewidth\":0,\"ticks\":\"\"}},\"colorscale\":{\"diverging\":[[0,\"#8e0152\"],[0.1,\"#c51b7d\"],[0.2,\"#de77ae\"],[0.3,\"#f1b6da\"],[0.4,\"#fde0ef\"],[0.5,\"#f7f7f7\"],[0.6,\"#e6f5d0\"],[0.7,\"#b8e186\"],[0.8,\"#7fbc41\"],[0.9,\"#4d9221\"],[1,\"#276419\"]],\"sequential\":[[0.0,\"#0d0887\"],[0.1111111111111111,\"#46039f\"],[0.2222222222222222,\"#7201a8\"],[0.3333333333333333,\"#9c179e\"],[0.4444444444444444,\"#bd3786\"],[0.5555555555555556,\"#d8576b\"],[0.6666666666666666,\"#ed7953\"],[0.7777777777777778,\"#fb9f3a\"],[0.8888888888888888,\"#fdca26\"],[1.0,\"#f0f921\"]],\"sequentialminus\":[[0.0,\"#0d0887\"],[0.1111111111111111,\"#46039f\"],[0.2222222222222222,\"#7201a8\"],[0.3333333333333333,\"#9c179e\"],[0.4444444444444444,\"#bd3786\"],[0.5555555555555556,\"#d8576b\"],[0.6666666666666666,\"#ed7953\"],[0.7777777777777778,\"#fb9f3a\"],[0.8888888888888888,\"#fdca26\"],[1.0,\"#f0f921\"]]},\"colorway\":[\"#636efa\",\"#EF553B\",\"#00cc96\",\"#ab63fa\",\"#FFA15A\",\"#19d3f3\",\"#FF6692\",\"#B6E880\",\"#FF97FF\",\"#FECB52\"],\"font\":{\"color\":\"#2a3f5f\"},\"geo\":{\"bgcolor\":\"white\",\"lakecolor\":\"white\",\"landcolor\":\"#E5ECF6\",\"showlakes\":true,\"showland\":true,\"subunitcolor\":\"white\"},\"hoverlabel\":{\"align\":\"left\"},\"hovermode\":\"closest\",\"mapbox\":{\"style\":\"light\"},\"paper_bgcolor\":\"white\",\"plot_bgcolor\":\"#E5ECF6\",\"polar\":{\"angularaxis\":{\"gridcolor\":\"white\",\"linecolor\":\"white\",\"ticks\":\"\"},\"bgcolor\":\"#E5ECF6\",\"radialaxis\":{\"gridcolor\":\"white\",\"linecolor\":\"white\",\"ticks\":\"\"}},\"scene\":{\"xaxis\":{\"backgroundcolor\":\"#E5ECF6\",\"gridcolor\":\"white\",\"gridwidth\":2,\"linecolor\":\"white\",\"showbackground\":true,\"ticks\":\"\",\"zerolinecolor\":\"white\"},\"yaxis\":{\"backgroundcolor\":\"#E5ECF6\",\"gridcolor\":\"white\",\"gridwidth\":2,\"linecolor\":\"white\",\"showbackground\":true,\"ticks\":\"\",\"zerolinecolor\":\"white\"},\"zaxis\":{\"backgroundcolor\":\"#E5ECF6\",\"gridcolor\":\"white\",\"gridwidth\":2,\"linecolor\":\"white\",\"showbackground\":true,\"ticks\":\"\",\"zerolinecolor\":\"white\"}},\"shapedefaults\":{\"line\":{\"color\":\"#2a3f5f\"}},\"ternary\":{\"aaxis\":{\"gridcolor\":\"white\",\"linecolor\":\"white\",\"ticks\":\"\"},\"baxis\":{\"gridcolor\":\"white\",\"linecolor\":\"white\",\"ticks\":\"\"},\"bgcolor\":\"#E5ECF6\",\"caxis\":{\"gridcolor\":\"white\",\"linecolor\":\"white\",\"ticks\":\"\"}},\"title\":{\"x\":0.05},\"xaxis\":{\"automargin\":true,\"gridcolor\":\"white\",\"linecolor\":\"white\",\"ticks\":\"\",\"title\":{\"standoff\":15},\"zerolinecolor\":\"white\",\"zerolinewidth\":2},\"yaxis\":{\"automargin\":true,\"gridcolor\":\"white\",\"linecolor\":\"white\",\"ticks\":\"\",\"title\":{\"standoff\":15},\"zerolinecolor\":\"white\",\"zerolinewidth\":2}}},\"xaxis\":{\"anchor\":\"y\",\"domain\":[0.0,0.103125],\"title\":{\"text\":\"alpha\"},\"type\":\"log\"},\"yaxis\":{\"anchor\":\"x\",\"domain\":[0.0,1.0],\"title\":{\"text\":\"Objective Value\"}},\"xaxis2\":{\"anchor\":\"y2\",\"domain\":[0.128125,0.23124999999999998],\"title\":{\"text\":\"colsample_bytree\"}},\"yaxis2\":{\"anchor\":\"x2\",\"domain\":[0.0,1.0],\"matches\":\"y\",\"showticklabels\":false},\"xaxis3\":{\"anchor\":\"y3\",\"domain\":[0.25625,0.359375],\"title\":{\"text\":\"lambad\"},\"type\":\"log\"},\"yaxis3\":{\"anchor\":\"x3\",\"domain\":[0.0,1.0],\"matches\":\"y\",\"showticklabels\":false},\"xaxis4\":{\"anchor\":\"y4\",\"domain\":[0.38437499999999997,0.48749999999999993],\"title\":{\"text\":\"learning_rate\"}},\"yaxis4\":{\"anchor\":\"x4\",\"domain\":[0.0,1.0],\"matches\":\"y\",\"showticklabels\":false},\"xaxis5\":{\"anchor\":\"y5\",\"domain\":[0.5125,0.615625],\"title\":{\"text\":\"max_depth\"}},\"yaxis5\":{\"anchor\":\"x5\",\"domain\":[0.0,1.0],\"matches\":\"y\",\"showticklabels\":false},\"xaxis6\":{\"anchor\":\"y6\",\"domain\":[0.640625,0.74375],\"title\":{\"text\":\"min_child_weight\"}},\"yaxis6\":{\"anchor\":\"x6\",\"domain\":[0.0,1.0],\"matches\":\"y\",\"showticklabels\":false},\"xaxis7\":{\"anchor\":\"y7\",\"domain\":[0.76875,0.8718750000000001],\"title\":{\"text\":\"random_state\"}},\"yaxis7\":{\"anchor\":\"x7\",\"domain\":[0.0,1.0],\"matches\":\"y\",\"showticklabels\":false},\"xaxis8\":{\"anchor\":\"y8\",\"domain\":[0.8968750000000001,1.0],\"title\":{\"text\":\"subsample\"}},\"yaxis8\":{\"anchor\":\"x8\",\"domain\":[0.0,1.0],\"matches\":\"y\",\"showticklabels\":false},\"title\":{\"text\":\"Slice Plot\"},\"width\":2400},                        {\"responsive\": true}                    ).then(function(){\n",
              "                            \n",
              "var gd = document.getElementById('582eba12-9c3e-43ef-b88c-fa75e5bda116');\n",
              "var x = new MutationObserver(function (mutations, observer) {{\n",
              "        var display = window.getComputedStyle(gd).display;\n",
              "        if (!display || display === 'none') {{\n",
              "            console.log([gd, 'removed!']);\n",
              "            Plotly.purge(gd);\n",
              "            observer.disconnect();\n",
              "        }}\n",
              "}});\n",
              "\n",
              "// Listen for the removal of the full notebook cells\n",
              "var notebookContainer = gd.closest('#notebook-container');\n",
              "if (notebookContainer) {{\n",
              "    x.observe(notebookContainer, {childList: true});\n",
              "}}\n",
              "\n",
              "// Listen for the clearing of the current output cell\n",
              "var outputEl = gd.closest('.output');\n",
              "if (outputEl) {{\n",
              "    x.observe(outputEl, {childList: true});\n",
              "}}\n",
              "\n",
              "                        })                };                            </script>        </div>\n",
              "</body>\n",
              "</html>"
            ]
          },
          "metadata": {}
        }
      ]
    },
    {
      "cell_type": "code",
      "source": [
        "best_param={'alpha': 0.02096917884055731,\n",
        " 'colsample_bytree': 0.5,\n",
        " 'lambad': 0.09125018144442715,\n",
        " 'learning_rate': 0.016,\n",
        " 'max_depth': 10,\n",
        " 'min_child_weight': 36,\n",
        " 'random_state': 30,\n",
        " 'subsample': 0.4}"
      ],
      "metadata": {
        "id": "xzP2Vt-1y9NG"
      },
      "execution_count": null,
      "outputs": []
    },
    {
      "cell_type": "code",
      "source": [
        "#XGBOOST\n",
        "import xgboost as xgb\n",
        "XGBOOST_final_model = xgb.XGBClassifier(**best_param)\n",
        "XGBOOST_final_model.fit(X_for_XGBOOST, y_train) #For sklearn no one hot encoding"
      ],
      "metadata": {
        "colab": {
          "base_uri": "https://localhost:8080/"
        },
        "id": "g9gqk0eNyjEG",
        "outputId": "83fa571f-c0a9-4afa-ee21-85aa749bdc31"
      },
      "execution_count": null,
      "outputs": [
        {
          "output_type": "execute_result",
          "data": {
            "text/plain": [
              "XGBClassifier(alpha=0.02096917884055731, colsample_bytree=0.5,\n",
              "              lambad=0.09125018144442715, learning_rate=0.016, max_depth=10,\n",
              "              min_child_weight=36, objective='multi:softprob', random_state=30,\n",
              "              subsample=0.4)"
            ]
          },
          "metadata": {},
          "execution_count": 103
        }
      ]
    },
    {
      "cell_type": "code",
      "source": [
        "#Now predict using the trained XGBOOST model. \n",
        "prediction = XGBOOST_final_model.predict(X_test_features)\n",
        "#Inverse le transform to get original label back. \n",
        "prediction = le.inverse_transform(prediction)"
      ],
      "metadata": {
        "id": "oufprb2kyjI-"
      },
      "execution_count": null,
      "outputs": []
    },
    {
      "cell_type": "code",
      "source": [
        "#Print overall accuracy\n",
        "from sklearn import metrics\n",
        "print (\"Accuracy = \", metrics.accuracy_score(test_labels, prediction))"
      ],
      "metadata": {
        "colab": {
          "base_uri": "https://localhost:8080/"
        },
        "id": "cBBuCucsol24",
        "outputId": "f9fbd9f9-c014-4e1c-ba3d-ca347f684e7b"
      },
      "execution_count": null,
      "outputs": [
        {
          "output_type": "stream",
          "name": "stdout",
          "text": [
            "Accuracy =  0.047619047619047616\n"
          ]
        }
      ]
    },
    {
      "cell_type": "markdown",
      "source": [
        "**SVM**"
      ],
      "metadata": {
        "id": "vQQhdcmXQKeU"
      }
    },
    {
      "cell_type": "code",
      "source": [
        "from sklearn.svm import SVC"
      ],
      "metadata": {
        "id": "t4rSh-TbFUBb"
      },
      "execution_count": null,
      "outputs": []
    },
    {
      "cell_type": "code",
      "source": [
        "#Now, let us use features from convolutional network for SVM\n",
        "feature_extractor=VGG_model.predict(x_train)\n",
        "\n",
        "features = feature_extractor.reshape(feature_extractor.shape[0], -1)\n",
        "\n",
        "X_for_training = features #This is our X input to SVC"
      ],
      "metadata": {
        "id": "FDa4r-5cRZzG"
      },
      "execution_count": null,
      "outputs": []
    },
    {
      "cell_type": "code",
      "source": [
        "svc= SVC()\n",
        "svc_model=svc.fit(X_for_training,y_train)\n"
      ],
      "metadata": {
        "id": "sVQtJGqfQNrX"
      },
      "execution_count": null,
      "outputs": []
    },
    {
      "cell_type": "code",
      "source": [
        "#Send test data through same feature extractor process\n",
        "X_test_feature = VGG_model.predict(x_test)\n",
        "X_test_features = X_test_feature.reshape(X_test_feature.shape[0], -1)"
      ],
      "metadata": {
        "id": "PiPHIhX6QNwM"
      },
      "execution_count": null,
      "outputs": []
    },
    {
      "cell_type": "code",
      "source": [
        "#Now predict using the trained XGBOOST model. \n",
        "prediction = svc_model.predict(X_test_features)\n",
        "#Inverse le transform to get original label back. \n",
        "prediction = le.inverse_transform(prediction)"
      ],
      "metadata": {
        "id": "OnEwZ9FvQN0K"
      },
      "execution_count": null,
      "outputs": []
    },
    {
      "cell_type": "code",
      "source": [
        "#Print overall accuracy\n",
        "from sklearn import metrics\n",
        "print (\"Accuracy = \", metrics.accuracy_score(test_labels, prediction))"
      ],
      "metadata": {
        "colab": {
          "base_uri": "https://localhost:8080/"
        },
        "id": "VAfrgjE-Rv0j",
        "outputId": "a4412309-b032-4d71-d31b-0e0653a75fe1"
      },
      "execution_count": null,
      "outputs": [
        {
          "output_type": "stream",
          "name": "stdout",
          "text": [
            "Accuracy =  0.24404761904761904\n"
          ]
        }
      ]
    },
    {
      "cell_type": "markdown",
      "source": [
        "**SVM after getting best param after GridSearch**"
      ],
      "metadata": {
        "id": "4mV3ssEF045S"
      }
    },
    {
      "cell_type": "code",
      "source": [
        "best_param={'C': 2, 'kernel': 'linear','t':0,'s':0}\n",
        "         "
      ],
      "metadata": {
        "id": "EYaQGD4A05J0"
      },
      "execution_count": null,
      "outputs": []
    },
    {
      "cell_type": "code",
      "source": [
        "svc= SVC(**best_param)\n",
        "svc_grid_model=svc.fit(X_for_training,y_train)"
      ],
      "metadata": {
        "id": "GGxPzkHH05NF"
      },
      "execution_count": null,
      "outputs": []
    },
    {
      "cell_type": "code",
      "source": [
        "#Now predict using the trained XGBOOST model. \n",
        "prediction = svc_grid_model.predict(X_test_features)\n",
        "#Inverse le transform to get original label back. \n",
        "prediction = le.inverse_transform(prediction)"
      ],
      "metadata": {
        "id": "iqcWLrmC05Ye"
      },
      "execution_count": null,
      "outputs": []
    },
    {
      "cell_type": "code",
      "source": [
        "#Print overall accuracy\n",
        "from sklearn import metrics\n",
        "print (\"Accuracy = \", metrics.accuracy_score(test_labels, prediction))"
      ],
      "metadata": {
        "colab": {
          "base_uri": "https://localhost:8080/"
        },
        "id": "jnnxMVXy05dX",
        "outputId": "decd8695-719d-4266-ef24-2c9f82fa21b5"
      },
      "execution_count": null,
      "outputs": [
        {
          "output_type": "stream",
          "name": "stdout",
          "text": [
            "Accuracy =  0.11904761904761904\n"
          ]
        }
      ]
    },
    {
      "cell_type": "markdown",
      "source": [
        "**GRid Search for RF and SVM**"
      ],
      "metadata": {
        "id": "SIqqJhMiN4zp"
      }
    },
    {
      "cell_type": "code",
      "source": [
        "#Take a subset of train for grid search. Let us take 5% for now\n",
        "from sklearn.model_selection import train_test_split\n",
        "x_grid, x_not_use, y_grid, y_not_use = train_test_split(x_train, y_train, test_size=0.98, random_state=42)"
      ],
      "metadata": {
        "id": "w66QnP7iMtLa"
      },
      "execution_count": null,
      "outputs": []
    },
    {
      "cell_type": "code",
      "source": [
        "#Now, let us use features from convolutional network for RF\n",
        "feature_extractor=VGG_model.predict(x_grid)\n",
        "\n",
        "features = feature_extractor.reshape(feature_extractor.shape[0], -1)\n",
        "\n",
        "X_for_RF = features #This is our X input to RF"
      ],
      "metadata": {
        "id": "MlJy7TUOLxoI"
      },
      "execution_count": null,
      "outputs": []
    },
    {
      "cell_type": "code",
      "source": [
        "#RANDOM FOREST ONLY\n",
        "from sklearn.ensemble import RandomForestClassifier\n",
        "RF_model = RandomForestClassifier(n_estimators = 50, random_state = 42)\n",
        "\n",
        "# Train the model on training data\n",
        "RF_model.fit(X_for_RF, y_grid) #For sklearn no one hot encoding"
      ],
      "metadata": {
        "colab": {
          "base_uri": "https://localhost:8080/"
        },
        "id": "ZSEibwMXMKK0",
        "outputId": "cfb10596-c92d-41b8-8a66-ee08a3e844ab"
      },
      "execution_count": null,
      "outputs": [
        {
          "output_type": "execute_result",
          "data": {
            "text/plain": [
              "RandomForestClassifier(n_estimators=50, random_state=42)"
            ]
          },
          "metadata": {},
          "execution_count": 244
        }
      ]
    },
    {
      "cell_type": "code",
      "source": [
        "#Send test data through same feature extractor process\n",
        "#Send test data through same feature extractor process\n",
        "X_test_feature = VGG_model.predict(x_test)\n",
        "X_test_features = X_test_feature.reshape(X_test_feature.shape[0], -1)"
      ],
      "metadata": {
        "id": "qIIAYchPMKN-"
      },
      "execution_count": null,
      "outputs": []
    },
    {
      "cell_type": "code",
      "source": [
        "#Now predict using the trained RF model. \n",
        "prediction_RF = RF_model.predict(X_test_feature)"
      ],
      "metadata": {
        "id": "74hHF6QqMKRC"
      },
      "execution_count": null,
      "outputs": []
    },
    {
      "cell_type": "code",
      "source": [
        "#Print overall accuracy\n",
        "from sklearn import metrics\n",
        "print (\"Accuracy = \", metrics.accuracy_score(y_test, prediction_RF))"
      ],
      "metadata": {
        "colab": {
          "base_uri": "https://localhost:8080/"
        },
        "id": "0BM_B2YxLxyH",
        "outputId": "24700dcd-7cbd-4b4e-bc2c-a48f139b177a"
      },
      "execution_count": null,
      "outputs": [
        {
          "output_type": "stream",
          "name": "stdout",
          "text": [
            "Accuracy =  0.08928571428571429\n"
          ]
        }
      ]
    },
    {
      "cell_type": "code",
      "source": [
        "train_x,test_x,train_y,test_y=train_test_split(X_for_RF,y_train,test_size=0.10,random_state=30)\n",
        "###########################################################\n",
        "# GRID SEARCH to find the best model and parameters\n",
        "#########################################################\n",
        "from sklearn.ensemble import RandomForestClassifier\n",
        "from sklearn import svm\n",
        "\n",
        "model_params = {\n",
        "    'svm': {\n",
        "        'model': svm.SVC(gamma='auto'),\n",
        "        'params' : {\n",
        "            'C': [1],  #Regularization parameter. Providing only two as SVM is slow\n",
        "            'kernel': ['rbf','linear']\n",
        "        }  \n",
        "    },\n",
        "    'random_forest': {\n",
        "        'model': RandomForestClassifier(),\n",
        "        'params' : {\n",
        "            'n_estimators': [10,20,30,50]\n",
        "        }\n",
        "    }\n",
        "}\n",
        "\n",
        "\n",
        "scores = []\n",
        "\n",
        "for model_name, mp in model_params.items():\n",
        "    grid =  GridSearchCV(estimator=mp['model'], \n",
        "                         param_grid=mp['params'], \n",
        "                         cv=2, n_jobs=16, \n",
        "                         return_train_score=False)\n",
        "    \n",
        "    grid.fit(train_x, train_y)\n",
        "    \n",
        "    scores.append({\n",
        "        'model': model_name,\n",
        "        'best_score': grid.best_score_,\n",
        "        'best_params': grid.best_params_\n",
        "    })\n",
        "\n",
        "import pandas as pd    \n",
        "df = pd.DataFrame(scores,columns=['model','best_score','best_params'])\n",
        "\n",
        "print(df)"
      ],
      "metadata": {
        "colab": {
          "base_uri": "https://localhost:8080/"
        },
        "id": "_lcXwvBINguV",
        "outputId": "9b1b23c0-a22d-4aa4-a1ae-e7587cc5edf8"
      },
      "execution_count": null,
      "outputs": [
        {
          "output_type": "stream",
          "name": "stdout",
          "text": [
            "           model  best_score                best_params\n",
            "0            svm    0.096026  {'C': 1, 'kernel': 'rbf'}\n",
            "1  random_forest    0.466887       {'n_estimators': 30}\n"
          ]
        }
      ]
    },
    {
      "cell_type": "code",
      "source": [
        ""
      ],
      "metadata": {
        "id": "uUoTBMls6Esf"
      },
      "execution_count": null,
      "outputs": []
    }
  ],
  "metadata": {
    "accelerator": "GPU",
    "colab": {
      "name": "vgg16_RF_XGB_SVM_Classification.ipynb",
      "provenance": [],
      "collapsed_sections": [],
      "mount_file_id": "1oD0OgtpMA8Zv4tNLFFMm46_mpTSLTo_D",
      "authorship_tag": "ABX9TyMwWSLLFpM4XAYzlpB+qgVb",
      "include_colab_link": true
    },
    "kernelspec": {
      "display_name": "Python 3",
      "name": "python3"
    },
    "language_info": {
      "name": "python"
    }
  },
  "nbformat": 4,
  "nbformat_minor": 0
}